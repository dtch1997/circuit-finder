{
 "cells": [
  {
   "cell_type": "code",
   "execution_count": 1,
   "metadata": {},
   "outputs": [],
   "source": [
    "import sys\n",
    "\n",
    "sys.path.append('/home/daniel/ml_workspace/circuit-finder')"
   ]
  },
  {
   "cell_type": "code",
   "execution_count": 2,
   "metadata": {},
   "outputs": [
    {
     "name": "stderr",
     "output_type": "stream",
     "text": [
      "/home/daniel/ml_workspace/circuit-finder/.venv/lib/python3.10/site-packages/huggingface_hub/file_download.py:1132: FutureWarning: `resume_download` is deprecated and will be removed in version 1.0.0. Downloads always resume when possible. If you want to force a new download, use `force_download=True`.\n",
      "  warnings.warn(\n"
     ]
    },
    {
     "name": "stdout",
     "output_type": "stream",
     "text": [
      "Loaded pretrained model gpt2 into HookedTransformer\n"
     ]
    }
   ],
   "source": [
    "# Find the residual null space\n",
    "import torch \n",
    "from circuit_finder.pretrained import load_model \n",
    "\n",
    "model = load_model()\n",
    "\n",
    "W_U = model.W_U\n",
    "U, S, V = torch.svd(W_U)\n",
    "U_null = U[:, -12:]"
   ]
  },
  {
   "cell_type": "code",
   "execution_count": 3,
   "metadata": {},
   "outputs": [
    {
     "name": "stdout",
     "output_type": "stream",
     "text": [
      "HookedSAETransformer(\n",
      "  (embed): Embed()\n",
      "  (hook_embed): HookPoint()\n",
      "  (pos_embed): PosEmbed()\n",
      "  (hook_pos_embed): HookPoint()\n",
      "  (blocks): ModuleList(\n",
      "    (0-11): 12 x TransformerBlock(\n",
      "      (ln1): LayerNormPre(\n",
      "        (hook_scale): HookPoint()\n",
      "        (hook_normalized): HookPoint()\n",
      "      )\n",
      "      (ln2): LayerNormPre(\n",
      "        (hook_scale): HookPoint()\n",
      "        (hook_normalized): HookPoint()\n",
      "      )\n",
      "      (attn): Attention(\n",
      "        (hook_k): HookPoint()\n",
      "        (hook_q): HookPoint()\n",
      "        (hook_v): HookPoint()\n",
      "        (hook_z): HookPoint()\n",
      "        (hook_attn_scores): HookPoint()\n",
      "        (hook_pattern): HookPoint()\n",
      "        (hook_result): HookPoint()\n",
      "      )\n",
      "      (mlp): MLP(\n",
      "        (hook_pre): HookPoint()\n",
      "        (hook_post): HookPoint()\n",
      "      )\n",
      "      (hook_attn_in): HookPoint()\n",
      "      (hook_q_input): HookPoint()\n",
      "      (hook_k_input): HookPoint()\n",
      "      (hook_v_input): HookPoint()\n",
      "      (hook_mlp_in): HookPoint()\n",
      "      (hook_attn_out): HookPoint()\n",
      "      (hook_mlp_out): HookPoint()\n",
      "      (hook_resid_pre): HookPoint()\n",
      "      (hook_resid_mid): HookPoint()\n",
      "      (hook_resid_post): HookPoint()\n",
      "    )\n",
      "  )\n",
      "  (ln_final): LayerNormPre(\n",
      "    (hook_scale): HookPoint()\n",
      "    (hook_normalized): HookPoint()\n",
      "  )\n",
      "  (unembed): Unembed()\n",
      ")\n"
     ]
    }
   ],
   "source": [
    "print(model)"
   ]
  },
  {
   "cell_type": "code",
   "execution_count": 4,
   "metadata": {},
   "outputs": [
    {
     "name": "stderr",
     "output_type": "stream",
     "text": [
      "/home/daniel/ml_workspace/circuit-finder/.venv/lib/python3.10/site-packages/datasets/load.py:1486: FutureWarning: The repository for c4 contains custom code which must be executed to correctly load the dataset. You can inspect the repository content at https://hf.co/datasets/c4\n",
      "You can avoid this message in future by passing the argument `trust_remote_code=True`.\n",
      "Passing `trust_remote_code=True` will be mandatory to load this dataset from the next major release of `datasets`.\n",
      "  warnings.warn(\n",
      "/home/daniel/.cache/huggingface/modules/datasets_modules/datasets/c4/584d57ebe81c209b6c7f31727066d2c4b4bba37cb7092cdd83083d5ec11207db/c4.py:53: FutureWarning: Dataset 'c4' is deprecated and will be deleted. Use 'allenai/c4' instead.\n",
      "  warnings.warn(\n"
     ]
    }
   ],
   "source": [
    "from datasets import load_dataset\n",
    "\n",
    "dataset = load_dataset(\"c4\", \"en\", streaming=True)"
   ]
  },
  {
   "cell_type": "code",
   "execution_count": 5,
   "metadata": {},
   "outputs": [
    {
     "name": "stderr",
     "output_type": "stream",
     "text": [
      "200it [00:30,  6.58it/s]"
     ]
    },
    {
     "name": "stdout",
     "output_type": "stream",
     "text": [
      "74737\n"
     ]
    },
    {
     "name": "stderr",
     "output_type": "stream",
     "text": [
      "\n"
     ]
    }
   ],
   "source": [
    "from circuit_finder.utils import clear_memory\n",
    "from tqdm import tqdm\n",
    "import torch\n",
    "\n",
    "cluster_mean_1 = torch.load('cluster_1_mean.pt')\n",
    "cluster_mean_2 = torch.load('cluster_2_mean.pt')\n",
    "\n",
    "resid_act_dots_cluster_mean_1 = []\n",
    "resid_act_dots_cluster_mean_2 = []\n",
    "resid_act_null_norms = []\n",
    "\n",
    "n_tokens = 0\n",
    "with torch.no_grad():\n",
    "    for element in tqdm(dataset['train'].take(2)):\n",
    "        text = element['text']\n",
    "        _, cache = model.run_with_cache(text, names_filter = \"blocks.11.hook_resid_post\")\n",
    "        # Do stuff with cache\n",
    "        resid_act = cache['blocks.11.hook_resid_post']\n",
    "        n_tokens += resid_act.shape[1]\n",
    "        # Compute the component of the residual in the null space\n",
    "        resid_act_null = resid_act @ U_null\n",
    "        resid_act_null_norm = torch.norm(resid_act_null, dim=-1).squeeze(0)\n",
    "        resid_act_null_norms.extend(resid_act_null_norm.tolist())\n",
    "        # Compute the dot product with the cluster mean\n",
    "        resid_act_dot = (resid_act @ cluster_mean_1).squeeze(0)\n",
    "        resid_act_dots_cluster_mean_1.extend(resid_act_dot.tolist())\n",
    "        resid_act_dot = (resid_act @ cluster_mean_2).squeeze(0)\n",
    "        resid_act_dots_cluster_mean_2.extend(resid_act_dot.tolist())\n",
    "\n",
    "        del cache\n",
    "        del resid_act\n",
    "        del resid_act_null\n",
    "        del resid_act_dot\n",
    "        clear_memory()\n",
    "\n",
    "print(n_tokens)"
   ]
  },
  {
   "cell_type": "code",
   "execution_count": 9,
   "metadata": {},
   "outputs": [
    {
     "data": {
      "text/plain": [
       "Text(0.5, 1.0, 'Residual stream dot product with SAE entropy feature cluster means')"
      ]
     },
     "execution_count": 9,
     "metadata": {},
     "output_type": "execute_result"
    },
    {
     "data": {
      "image/png": "[encoded data removed]",
      "text/plain": [
       "<Figure size 640x480 with 1 Axes>"
      ]
     },
     "metadata": {},
     "output_type": "display_data"
    }
   ],
   "source": [
    "import seaborn as sns\n",
    "import matplotlib.pyplot as plt \n",
    "\n",
    "sns.set_theme()\n",
    "fig, ax = plt.subplots()\n",
    "sns.histplot(resid_act_dots_cluster_mean_1, bins=100, label = \"Dot product with cluster 1\", ax = ax )\n",
    "sns.histplot(resid_act_dots_cluster_mean_2, bins=100, label = \"Dot product with cluster 2\", ax = ax )\n",
    "ax.legend()\n",
    "plt.title(\"Residual stream dot product with SAE entropy feature cluster means\")"
   ]
  }
 ],
 "metadata": {
  "kernelspec": {
   "display_name": ".venv",
   "language": "python",
   "name": "python3"
  },
  "language_info": {
   "codemirror_mode": {
    "name": "ipython",
    "version": 3
   },
   "file_extension": ".py",
   "mimetype": "text/x-python",
   "name": "python",
   "nbconvert_exporter": "python",
   "pygments_lexer": "ipython3",
   "version": "3.10.13"
  }
 },
 "nbformat": 4,
 "nbformat_minor": 2
}
