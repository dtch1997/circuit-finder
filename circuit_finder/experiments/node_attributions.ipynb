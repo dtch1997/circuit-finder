{
 "cells": [
  {
   "cell_type": "code",
   "execution_count": 2,
   "metadata": {},
   "outputs": [
    {
     "name": "stderr",
     "output_type": "stream",
     "text": [
      "/workspace/circuit-finder/.venv/lib/python3.10/site-packages/huggingface_hub/file_download.py:1132: FutureWarning: `resume_download` is deprecated and will be removed in version 1.0.0. Downloads always resume when possible. If you want to force a new download, use `force_download=True`.\n",
      "  warnings.warn(\n"
     ]
    },
    {
     "data": {
      "application/vnd.jupyter.widget-view+json": {
       "model_id": "b488827cf1b942138ad6a875d70cbd3f",
       "version_major": 2,
       "version_minor": 0
      },
      "text/plain": [
       "config.json:   0%|          | 0.00/665 [00:00<?, ?B/s]"
      ]
     },
     "metadata": {},
     "output_type": "display_data"
    },
    {
     "data": {
      "application/vnd.jupyter.widget-view+json": {
       "model_id": "8055292a91984ca08ff62c63a580329c",
       "version_major": 2,
       "version_minor": 0
      },
      "text/plain": [
       "model.safetensors:   0%|          | 0.00/548M [00:00<?, ?B/s]"
      ]
     },
     "metadata": {},
     "output_type": "display_data"
    },
    {
     "data": {
      "application/vnd.jupyter.widget-view+json": {
       "model_id": "99f4f1d5d16e4750bb065c725ee526d7",
       "version_major": 2,
       "version_minor": 0
      },
      "text/plain": [
       "generation_config.json:   0%|          | 0.00/124 [00:00<?, ?B/s]"
      ]
     },
     "metadata": {},
     "output_type": "display_data"
    },
    {
     "data": {
      "application/vnd.jupyter.widget-view+json": {
       "model_id": "3553994d37e84165a08b7b76c69458fa",
       "version_major": 2,
       "version_minor": 0
      },
      "text/plain": [
       "tokenizer_config.json:   0%|          | 0.00/26.0 [00:00<?, ?B/s]"
      ]
     },
     "metadata": {},
     "output_type": "display_data"
    },
    {
     "data": {
      "application/vnd.jupyter.widget-view+json": {
       "model_id": "3285fe16fb7c46ffb027ab9b42f34451",
       "version_major": 2,
       "version_minor": 0
      },
      "text/plain": [
       "vocab.json:   0%|          | 0.00/1.04M [00:00<?, ?B/s]"
      ]
     },
     "metadata": {},
     "output_type": "display_data"
    },
    {
     "data": {
      "application/vnd.jupyter.widget-view+json": {
       "model_id": "b4e52c1e8f1d43b38cbca192c8f47918",
       "version_major": 2,
       "version_minor": 0
      },
      "text/plain": [
       "merges.txt:   0%|          | 0.00/456k [00:00<?, ?B/s]"
      ]
     },
     "metadata": {},
     "output_type": "display_data"
    },
    {
     "data": {
      "application/vnd.jupyter.widget-view+json": {
       "model_id": "b5814c13c4a74e2dbc6602398a726036",
       "version_major": 2,
       "version_minor": 0
      },
      "text/plain": [
       "tokenizer.json:   0%|          | 0.00/1.36M [00:00<?, ?B/s]"
      ]
     },
     "metadata": {},
     "output_type": "display_data"
    },
    {
     "name": "stdout",
     "output_type": "stream",
     "text": [
      "Loaded pretrained model gpt2 into HookedTransformer\n"
     ]
    },
    {
     "data": {
      "application/vnd.jupyter.widget-view+json": {
       "model_id": "d4ee99b8bf60464ca2c6e97aab6a3e47",
       "version_major": 2,
       "version_minor": 0
      },
      "text/plain": [
       "(…)-06_rsanthropic_rie25000_nr4_v9_cfg.json:   0%|          | 0.00/1.01k [00:00<?, ?B/s]"
      ]
     },
     "metadata": {},
     "output_type": "display_data"
    },
    {
     "data": {
      "application/vnd.jupyter.widget-view+json": {
       "model_id": "641c001401094282941d4b41c77474f5",
       "version_major": 2,
       "version_minor": 0
      },
      "text/plain": [
       "(…)c1.00e-06_rsanthropic_rie25000_nr4_v9.pt:   0%|          | 0.00/151M [00:00<?, ?B/s]"
      ]
     },
     "metadata": {},
     "output_type": "display_data"
    },
    {
     "data": {
      "application/vnd.jupyter.widget-view+json": {
       "model_id": "c841cfa262154036ac6374417a0d2252",
       "version_major": 2,
       "version_minor": 0
      },
      "text/plain": [
       "(…)-06_rsanthropic_rie25000_nr4_v5_cfg.json:   0%|          | 0.00/1.02k [00:00<?, ?B/s]"
      ]
     },
     "metadata": {},
     "output_type": "display_data"
    },
    {
     "data": {
      "application/vnd.jupyter.widget-view+json": {
       "model_id": "d7ed6bf65d1145a2a938412bd3acd40a",
       "version_major": 2,
       "version_minor": 0
      },
      "text/plain": [
       "(…)c1.00e-06_rsanthropic_rie25000_nr4_v5.pt:   0%|          | 0.00/151M [00:00<?, ?B/s]"
      ]
     },
     "metadata": {},
     "output_type": "display_data"
    },
    {
     "data": {
      "application/vnd.jupyter.widget-view+json": {
       "model_id": "b38f69f8cd5f442db2e87da841a53dd3",
       "version_major": 2,
       "version_minor": 0
      },
      "text/plain": [
       "(…)-06_rsanthropic_rie25000_nr4_v4_cfg.json:   0%|          | 0.00/1.02k [00:00<?, ?B/s]"
      ]
     },
     "metadata": {},
     "output_type": "display_data"
    },
    {
     "data": {
      "application/vnd.jupyter.widget-view+json": {
       "model_id": "f78146c074a14ae1bda33e30895babd1",
       "version_major": 2,
       "version_minor": 0
      },
      "text/plain": [
       "(…)c1.00e-06_rsanthropic_rie25000_nr4_v4.pt:   0%|          | 0.00/151M [00:00<?, ?B/s]"
      ]
     },
     "metadata": {},
     "output_type": "display_data"
    },
    {
     "data": {
      "application/vnd.jupyter.widget-view+json": {
       "model_id": "182844d8141648f6931e99f9d67ad2d6",
       "version_major": 2,
       "version_minor": 0
      },
      "text/plain": [
       "(…)-06_rsanthropic_rie25000_nr4_v9_cfg.json:   0%|          | 0.00/1.01k [00:00<?, ?B/s]"
      ]
     },
     "metadata": {},
     "output_type": "display_data"
    },
    {
     "data": {
      "application/vnd.jupyter.widget-view+json": {
       "model_id": "ba8a7880f38044ec80337228d456e20c",
       "version_major": 2,
       "version_minor": 0
      },
      "text/plain": [
       "(…)c1.00e-06_rsanthropic_rie25000_nr4_v9.pt:   0%|          | 0.00/151M [00:00<?, ?B/s]"
      ]
     },
     "metadata": {},
     "output_type": "display_data"
    },
    {
     "data": {
      "application/vnd.jupyter.widget-view+json": {
       "model_id": "b9a108b3e0664bfea77c33dff97987f9",
       "version_major": 2,
       "version_minor": 0
      },
      "text/plain": [
       "(…)-06_rsanthropic_rie25000_nr4_v7_cfg.json:   0%|          | 0.00/1.01k [00:00<?, ?B/s]"
      ]
     },
     "metadata": {},
     "output_type": "display_data"
    },
    {
     "data": {
      "application/vnd.jupyter.widget-view+json": {
       "model_id": "47da9a150c764af797679bd304e1cb37",
       "version_major": 2,
       "version_minor": 0
      },
      "text/plain": [
       "(…)c1.00e-06_rsanthropic_rie25000_nr4_v7.pt:   0%|          | 0.00/151M [00:00<?, ?B/s]"
      ]
     },
     "metadata": {},
     "output_type": "display_data"
    },
    {
     "data": {
      "application/vnd.jupyter.widget-view+json": {
       "model_id": "986bc79f22654ac8b91a22a51a5d317f",
       "version_major": 2,
       "version_minor": 0
      },
      "text/plain": [
       "(…)-06_rsanthropic_rie25000_nr4_v9_cfg.json:   0%|          | 0.00/1.02k [00:00<?, ?B/s]"
      ]
     },
     "metadata": {},
     "output_type": "display_data"
    },
    {
     "data": {
      "application/vnd.jupyter.widget-view+json": {
       "model_id": "095e0907c9f04652aca5478303fb1f60",
       "version_major": 2,
       "version_minor": 0
      },
      "text/plain": [
       "(…)c1.00e-06_rsanthropic_rie25000_nr4_v9.pt:   0%|          | 0.00/302M [00:00<?, ?B/s]"
      ]
     },
     "metadata": {},
     "output_type": "display_data"
    },
    {
     "data": {
      "application/vnd.jupyter.widget-view+json": {
       "model_id": "49d48fafdd934c8788b619e5acf5d050",
       "version_major": 2,
       "version_minor": 0
      },
      "text/plain": [
       "(…)-06_rsanthropic_rie25000_nr4_v9_cfg.json:   0%|          | 0.00/1.01k [00:00<?, ?B/s]"
      ]
     },
     "metadata": {},
     "output_type": "display_data"
    },
    {
     "data": {
      "application/vnd.jupyter.widget-view+json": {
       "model_id": "5bf21c60af9943b28a05fcc4fbeaa62f",
       "version_major": 2,
       "version_minor": 0
      },
      "text/plain": [
       "(…)c1.00e-06_rsanthropic_rie25000_nr4_v9.pt:   0%|          | 0.00/151M [00:00<?, ?B/s]"
      ]
     },
     "metadata": {},
     "output_type": "display_data"
    },
    {
     "data": {
      "application/vnd.jupyter.widget-view+json": {
       "model_id": "a1c1274f5dbc4e56bde4d0443d8376ed",
       "version_major": 2,
       "version_minor": 0
      },
      "text/plain": [
       "(…)-06_rsanthropic_rie25000_nr4_v9_cfg.json:   0%|          | 0.00/1.01k [00:00<?, ?B/s]"
      ]
     },
     "metadata": {},
     "output_type": "display_data"
    },
    {
     "data": {
      "application/vnd.jupyter.widget-view+json": {
       "model_id": "4ccbcddb4de947c281ef536723822c6b",
       "version_major": 2,
       "version_minor": 0
      },
      "text/plain": [
       "(…)c1.00e-06_rsanthropic_rie25000_nr4_v9.pt:   0%|          | 0.00/302M [00:00<?, ?B/s]"
      ]
     },
     "metadata": {},
     "output_type": "display_data"
    },
    {
     "data": {
      "application/vnd.jupyter.widget-view+json": {
       "model_id": "6c5f0688d9894dae95f6e15340939446",
       "version_major": 2,
       "version_minor": 0
      },
      "text/plain": [
       "(…)-05_rsanthropic_rie25000_nr4_v6_cfg.json:   0%|          | 0.00/1.02k [00:00<?, ?B/s]"
      ]
     },
     "metadata": {},
     "output_type": "display_data"
    },
    {
     "data": {
      "application/vnd.jupyter.widget-view+json": {
       "model_id": "43946d7dfa3a49a284161d637126ef97",
       "version_major": 2,
       "version_minor": 0
      },
      "text/plain": [
       "(…)c1.00e-05_rsanthropic_rie25000_nr4_v6.pt:   0%|          | 0.00/151M [00:00<?, ?B/s]"
      ]
     },
     "metadata": {},
     "output_type": "display_data"
    },
    {
     "data": {
      "application/vnd.jupyter.widget-view+json": {
       "model_id": "1f8a2d5209c246958381b7547e0e1b0d",
       "version_major": 2,
       "version_minor": 0
      },
      "text/plain": [
       "(…)-06_rsanthropic_rie25000_nr4_v9_cfg.json:   0%|          | 0.00/1.01k [00:00<?, ?B/s]"
      ]
     },
     "metadata": {},
     "output_type": "display_data"
    },
    {
     "data": {
      "application/vnd.jupyter.widget-view+json": {
       "model_id": "1aeb2e7e746d4643bb16a0256ee22cc4",
       "version_major": 2,
       "version_minor": 0
      },
      "text/plain": [
       "(…)c1.00e-06_rsanthropic_rie25000_nr4_v9.pt:   0%|          | 0.00/151M [00:00<?, ?B/s]"
      ]
     },
     "metadata": {},
     "output_type": "display_data"
    },
    {
     "data": {
      "application/vnd.jupyter.widget-view+json": {
       "model_id": "194f83174e924fe49515094cbe0d6152",
       "version_major": 2,
       "version_minor": 0
      },
      "text/plain": [
       "(…)-05_rsanthropic_rie25000_nr4_v9_cfg.json:   0%|          | 0.00/1.02k [00:00<?, ?B/s]"
      ]
     },
     "metadata": {},
     "output_type": "display_data"
    },
    {
     "data": {
      "application/vnd.jupyter.widget-view+json": {
       "model_id": "e345e916022f4d82934e371be310a066",
       "version_major": 2,
       "version_minor": 0
      },
      "text/plain": [
       "(…)c1.00e-05_rsanthropic_rie25000_nr4_v9.pt:   0%|          | 0.00/151M [00:00<?, ?B/s]"
      ]
     },
     "metadata": {},
     "output_type": "display_data"
    },
    {
     "data": {
      "application/vnd.jupyter.widget-view+json": {
       "model_id": "76eb7413203f4c2ba2ae3d4a9b8db213",
       "version_major": 2,
       "version_minor": 0
      },
      "text/plain": [
       "(…)-06_rsanthropic_rie25000_nr4_v9_cfg.json:   0%|          | 0.00/1.03k [00:00<?, ?B/s]"
      ]
     },
     "metadata": {},
     "output_type": "display_data"
    },
    {
     "data": {
      "application/vnd.jupyter.widget-view+json": {
       "model_id": "0fa6af222d5e4b85a23c623e5b3fa325",
       "version_major": 2,
       "version_minor": 0
      },
      "text/plain": [
       "(…)c3.16e-06_rsanthropic_rie25000_nr4_v9.pt:   0%|          | 0.00/151M [00:00<?, ?B/s]"
      ]
     },
     "metadata": {},
     "output_type": "display_data"
    },
    {
     "data": {
      "application/vnd.jupyter.widget-view+json": {
       "model_id": "e61d92b4783b4468ab4e0d83119e5b9b",
       "version_major": 2,
       "version_minor": 0
      },
      "text/plain": [
       "Fetching 26 files:   0%|          | 0/26 [00:00<?, ?it/s]"
      ]
     },
     "metadata": {},
     "output_type": "display_data"
    },
    {
     "data": {
      "application/vnd.jupyter.widget-view+json": {
       "model_id": "4d335283bfbd4f788f36d2ee7848f61f",
       "version_major": 2,
       "version_minor": 0
      },
      "text/plain": [
       "(…)normalized_24576_log_feature_sparsity.pt:   0%|          | 0.00/100k [00:00<?, ?B/s]"
      ]
     },
     "metadata": {},
     "output_type": "display_data"
    },
    {
     "data": {
      "application/vnd.jupyter.widget-view+json": {
       "model_id": "2973a54bc66e4823ae5899366c458d63",
       "version_major": 2,
       "version_minor": 0
      },
      "text/plain": [
       "(…)ll_blocks.0.ln2.hook_normalized_24576.pt:   0%|          | 0.00/151M [00:00<?, ?B/s]"
      ]
     },
     "metadata": {},
     "output_type": "display_data"
    },
    {
     "data": {
      "application/vnd.jupyter.widget-view+json": {
       "model_id": "388bbcf76f034a2b8ff56779ec1f2c54",
       "version_major": 2,
       "version_minor": 0
      },
      "text/plain": [
       "(…)ll_blocks.1.ln2.hook_normalized_24576.pt:   0%|          | 0.00/151M [00:00<?, ?B/s]"
      ]
     },
     "metadata": {},
     "output_type": "display_data"
    },
    {
     "data": {
      "application/vnd.jupyter.widget-view+json": {
       "model_id": "f94a95edc5d444a69b21b3ddfcd47701",
       "version_major": 2,
       "version_minor": 0
      },
      "text/plain": [
       "(…)l_blocks.10.ln2.hook_normalized_24576.pt:   0%|          | 0.00/151M [00:00<?, ?B/s]"
      ]
     },
     "metadata": {},
     "output_type": "display_data"
    },
    {
     "data": {
      "application/vnd.jupyter.widget-view+json": {
       "model_id": "04064794eb2c4a3c849e39c1591dcdaf",
       "version_major": 2,
       "version_minor": 0
      },
      "text/plain": [
       "(…)l_blocks.11.ln2.hook_normalized_24576.pt:   0%|          | 0.00/151M [00:00<?, ?B/s]"
      ]
     },
     "metadata": {},
     "output_type": "display_data"
    },
    {
     "data": {
      "application/vnd.jupyter.widget-view+json": {
       "model_id": "5bea23d62b804034a8381691061e026f",
       "version_major": 2,
       "version_minor": 0
      },
      "text/plain": [
       "(…)normalized_24576_log_feature_sparsity.pt:   0%|          | 0.00/100k [00:00<?, ?B/s]"
      ]
     },
     "metadata": {},
     "output_type": "display_data"
    },
    {
     "data": {
      "application/vnd.jupyter.widget-view+json": {
       "model_id": "19b467be6b6249e398c15fb52eb59aba",
       "version_major": 2,
       "version_minor": 0
      },
      "text/plain": [
       "(…)normalized_24576_log_feature_sparsity.pt:   0%|          | 0.00/100k [00:00<?, ?B/s]"
      ]
     },
     "metadata": {},
     "output_type": "display_data"
    },
    {
     "data": {
      "application/vnd.jupyter.widget-view+json": {
       "model_id": "e771590197ac4115b38e67f6a940f492",
       "version_major": 2,
       "version_minor": 0
      },
      "text/plain": [
       "(…)normalized_24576_log_feature_sparsity.pt:   0%|          | 0.00/100k [00:00<?, ?B/s]"
      ]
     },
     "metadata": {},
     "output_type": "display_data"
    },
    {
     "data": {
      "application/vnd.jupyter.widget-view+json": {
       "model_id": "d2d8240057fa44e681bb14b727de2c0f",
       "version_major": 2,
       "version_minor": 0
      },
      "text/plain": [
       "(…)ll_blocks.3.ln2.hook_normalized_24576.pt:   0%|          | 0.00/151M [00:00<?, ?B/s]"
      ]
     },
     "metadata": {},
     "output_type": "display_data"
    },
    {
     "data": {
      "application/vnd.jupyter.widget-view+json": {
       "model_id": "31308982737a4837b9b6a741b54c7203",
       "version_major": 2,
       "version_minor": 0
      },
      "text/plain": [
       "(…)ll_blocks.2.ln2.hook_normalized_24576.pt:   0%|          | 0.00/151M [00:00<?, ?B/s]"
      ]
     },
     "metadata": {},
     "output_type": "display_data"
    },
    {
     "data": {
      "application/vnd.jupyter.widget-view+json": {
       "model_id": "a269064093694ce6b5529e45b1c9e8f9",
       "version_major": 2,
       "version_minor": 0
      },
      "text/plain": [
       "(…)normalized_24576_log_feature_sparsity.pt:   0%|          | 0.00/100k [00:00<?, ?B/s]"
      ]
     },
     "metadata": {},
     "output_type": "display_data"
    },
    {
     "data": {
      "application/vnd.jupyter.widget-view+json": {
       "model_id": "bd294dbe644d4b4eab711175ac3b0831",
       "version_major": 2,
       "version_minor": 0
      },
      "text/plain": [
       "(…)normalized_24576_log_feature_sparsity.pt:   0%|          | 0.00/100k [00:00<?, ?B/s]"
      ]
     },
     "metadata": {},
     "output_type": "display_data"
    },
    {
     "data": {
      "application/vnd.jupyter.widget-view+json": {
       "model_id": "8234db69e37f43588d28656f7475edda",
       "version_major": 2,
       "version_minor": 0
      },
      "text/plain": [
       "(…)ll_blocks.4.ln2.hook_normalized_24576.pt:   0%|          | 0.00/151M [00:00<?, ?B/s]"
      ]
     },
     "metadata": {},
     "output_type": "display_data"
    },
    {
     "data": {
      "application/vnd.jupyter.widget-view+json": {
       "model_id": "196733666ea24c3588ee463790c91e3f",
       "version_major": 2,
       "version_minor": 0
      },
      "text/plain": [
       "(…)normalized_24576_log_feature_sparsity.pt:   0%|          | 0.00/100k [00:00<?, ?B/s]"
      ]
     },
     "metadata": {},
     "output_type": "display_data"
    },
    {
     "data": {
      "application/vnd.jupyter.widget-view+json": {
       "model_id": "1adf6920c8d549e981cdb16b0600fc60",
       "version_major": 2,
       "version_minor": 0
      },
      "text/plain": [
       "(…)ll_blocks.5.ln2.hook_normalized_24576.pt:   0%|          | 0.00/151M [00:00<?, ?B/s]"
      ]
     },
     "metadata": {},
     "output_type": "display_data"
    },
    {
     "data": {
      "application/vnd.jupyter.widget-view+json": {
       "model_id": "7a0a0de6da4a4064bafc73f0dabf5508",
       "version_major": 2,
       "version_minor": 0
      },
      "text/plain": [
       "(…)normalized_24576_log_feature_sparsity.pt:   0%|          | 0.00/100k [00:00<?, ?B/s]"
      ]
     },
     "metadata": {},
     "output_type": "display_data"
    },
    {
     "data": {
      "application/vnd.jupyter.widget-view+json": {
       "model_id": "c7099a5c44fb4b2dbf75d04582750e4c",
       "version_major": 2,
       "version_minor": 0
      },
      "text/plain": [
       "(…)ll_blocks.6.ln2.hook_normalized_24576.pt:   0%|          | 0.00/151M [00:00<?, ?B/s]"
      ]
     },
     "metadata": {},
     "output_type": "display_data"
    },
    {
     "data": {
      "application/vnd.jupyter.widget-view+json": {
       "model_id": "07ac654b9fdb4d0f8fe4b858bd1be137",
       "version_major": 2,
       "version_minor": 0
      },
      "text/plain": [
       "(…)normalized_24576_log_feature_sparsity.pt:   0%|          | 0.00/100k [00:00<?, ?B/s]"
      ]
     },
     "metadata": {},
     "output_type": "display_data"
    },
    {
     "data": {
      "application/vnd.jupyter.widget-view+json": {
       "model_id": "27480a57af7b434896896528e302b08e",
       "version_major": 2,
       "version_minor": 0
      },
      "text/plain": [
       "(…)ll_blocks.7.ln2.hook_normalized_24576.pt:   0%|          | 0.00/151M [00:00<?, ?B/s]"
      ]
     },
     "metadata": {},
     "output_type": "display_data"
    },
    {
     "data": {
      "application/vnd.jupyter.widget-view+json": {
       "model_id": "380fa29a0e804888ac0970fa47e67fe1",
       "version_major": 2,
       "version_minor": 0
      },
      "text/plain": [
       "(…)normalized_24576_log_feature_sparsity.pt:   0%|          | 0.00/100k [00:00<?, ?B/s]"
      ]
     },
     "metadata": {},
     "output_type": "display_data"
    },
    {
     "data": {
      "application/vnd.jupyter.widget-view+json": {
       "model_id": "17aaaaa3d4e54836925c477e3beaadb9",
       "version_major": 2,
       "version_minor": 0
      },
      "text/plain": [
       "(…)ll_blocks.8.ln2.hook_normalized_24576.pt:   0%|          | 0.00/151M [00:00<?, ?B/s]"
      ]
     },
     "metadata": {},
     "output_type": "display_data"
    },
    {
     "data": {
      "application/vnd.jupyter.widget-view+json": {
       "model_id": "d564a8ed7e5347e5a70c9c631ec3d5ee",
       "version_major": 2,
       "version_minor": 0
      },
      "text/plain": [
       "(…)ll_blocks.9.ln2.hook_normalized_24576.pt:   0%|          | 0.00/151M [00:00<?, ?B/s]"
      ]
     },
     "metadata": {},
     "output_type": "display_data"
    },
    {
     "data": {
      "application/vnd.jupyter.widget-view+json": {
       "model_id": "ea498fb2d59241489cce1cc10fa381a9",
       "version_major": 2,
       "version_minor": 0
      },
      "text/plain": [
       "(…)normalized_24576_log_feature_sparsity.pt:   0%|          | 0.00/100k [00:00<?, ?B/s]"
      ]
     },
     "metadata": {},
     "output_type": "display_data"
    },
    {
     "data": {
      "application/vnd.jupyter.widget-view+json": {
       "model_id": "4ca51a0181024c369408159bbfb8187f",
       "version_major": 2,
       "version_minor": 0
      },
      "text/plain": [
       "(…)normalized_24576_log_feature_sparsity.pt:   0%|          | 0.00/100k [00:00<?, ?B/s]"
      ]
     },
     "metadata": {},
     "output_type": "display_data"
    },
    {
     "data": {
      "application/vnd.jupyter.widget-view+json": {
       "model_id": "c6daab21fe004d29945d79fa0594cf6f",
       "version_major": 2,
       "version_minor": 0
      },
      "text/plain": [
       "(…)l_blocks.11.ln2.hook_normalized_24576.pt:   0%|          | 0.00/151M [00:00<?, ?B/s]"
      ]
     },
     "metadata": {},
     "output_type": "display_data"
    },
    {
     "data": {
      "application/vnd.jupyter.widget-view+json": {
       "model_id": "cbb13ea6d8144361a91ce57b8dce0d2c",
       "version_major": 2,
       "version_minor": 0
      },
      "text/plain": [
       "(…)normalized_24576_log_feature_sparsity.pt:   0%|          | 0.00/100k [00:00<?, ?B/s]"
      ]
     },
     "metadata": {},
     "output_type": "display_data"
    }
   ],
   "source": [
    "\n",
    "import sys\n",
    "sys.path.append(\"/workspace/circuit-finder\")\n",
    "from circuit_finder.pretrained import load_model, load_attn_saes, load_hooked_mlp_transcoders\n",
    "\n",
    "model = load_model()\n",
    "attn_saes = load_attn_saes()\n",
    "hooked_mlp_transcoders = load_hooked_mlp_transcoders()\n"
   ]
  },
  {
   "cell_type": "code",
   "execution_count": 6,
   "metadata": {},
   "outputs": [
    {
     "name": "stdout",
     "output_type": "stream",
     "text": [
      "tensor(3.3740, device='cuda:0', grad_fn=<MeanBackward0>)\n"
     ]
    }
   ],
   "source": [
    "from eindex import eindex\n",
    "\n",
    "clean_prompt = \"When John and Mary went to the shop, John gave a bottle to\"\n",
    "corrupt_prompt = \"When Alice and Bob went to the shop, Charlie gave a bottle to\"\n",
    "correct_answer = \" Mary\"\n",
    "wrong_answer = \" John\"\n",
    "\n",
    "clean_prompt_tokens = model.to_tokens(clean_prompt)\n",
    "corrupt_prompt_tokens = model.to_tokens(corrupt_prompt)\n",
    "correct_answer_tokens = model.to_tokens(correct_answer, prepend_bos=False).squeeze(-1)\n",
    "wrong_answer_tokens = model.to_tokens(wrong_answer, prepend_bos=False).squeeze(-1)\n",
    "\n",
    "def logit_diff(model, prompt_tokens, correct_answer_tokens, wrong_answer_tokens):\n",
    "    logits = model(prompt_tokens)\n",
    "    last_logits = logits[:, -1, :]\n",
    "    correct_logits = eindex(last_logits, correct_answer_tokens, \"batch [batch]\")\n",
    "    wrong_logits = eindex(last_logits, wrong_answer_tokens, \"batch [batch]\")\n",
    "    return (correct_logits - wrong_logits).mean()\n",
    "\n",
    "print(logit_diff(model, clean_prompt_tokens, correct_answer_tokens, wrong_answer_tokens))"
   ]
  },
  {
   "cell_type": "code",
   "execution_count": 8,
   "metadata": {},
   "outputs": [],
   "source": [
    "import torch\n",
    "from functools import partial\n",
    "from circuit_finder.patching.ablate import splice_model_with_saes_and_transcoders\n",
    "from circuit_finder.patching.gradient_cache import get_gradient_cache\n",
    "\n",
    "transcoders = list(hooked_mlp_transcoders.values())\n",
    "saes = list(attn_saes.values())\n",
    "\n",
    "with splice_model_with_saes_and_transcoders(model, transcoders, saes) as spliced_model:\n",
    "    metric_fn = partial(logit_diff, correct_answer_tokens=correct_answer_tokens, wrong_answer_tokens=wrong_answer_tokens)\n",
    "    grad_cache = get_gradient_cache(spliced_model, clean_prompt_tokens, metric_fn)\n",
    "\n",
    "    with torch.no_grad():\n",
    "        _, clean_cache = model.run_with_cache(clean_prompt_tokens)\n",
    "        _, corrupt_cache = model.run_with_cache(corrupt_prompt_tokens)\n"
   ]
  },
  {
   "cell_type": "code",
   "execution_count": 9,
   "metadata": {},
   "outputs": [
    {
     "name": "stdout",
     "output_type": "stream",
     "text": [
      "ActivationCache with keys ['hook_embed', 'hook_pos_embed', 'blocks.0.hook_resid_pre', 'blocks.0.ln1.hook_scale', 'blocks.0.ln1.hook_normalized', 'blocks.0.attn.hook_q', 'blocks.0.attn.hook_k', 'blocks.0.attn.hook_v', 'blocks.0.attn.hook_attn_scores', 'blocks.0.attn.hook_pattern', 'blocks.0.attn.hook_z.hook_sae_input', 'blocks.0.attn.hook_z.hook_sae_acts_pre', 'blocks.0.attn.hook_z.hook_sae_acts_post', 'blocks.0.attn.hook_z.hook_sae_recons', 'blocks.0.attn.hook_z.hook_sae_error', 'blocks.0.attn.hook_z.hook_sae_output', 'blocks.0.hook_attn_out', 'blocks.0.hook_resid_mid', 'blocks.0.ln2.hook_scale', 'blocks.0.ln2.hook_normalized', 'blocks.0.mlp.transcoder.hook_sae_input', 'blocks.0.mlp.transcoder.hook_sae_acts_pre', 'blocks.0.mlp.transcoder.hook_sae_acts_post', 'blocks.0.mlp.transcoder.hook_sae_recons', 'blocks.0.mlp.mlp.hook_pre', 'blocks.0.mlp.mlp.hook_post', 'blocks.0.mlp.hook_sae_error', 'blocks.0.mlp.hook_sae_output', 'blocks.0.hook_mlp_out', 'blocks.0.hook_resid_post', 'blocks.1.hook_resid_pre', 'blocks.1.ln1.hook_scale', 'blocks.1.ln1.hook_normalized', 'blocks.1.attn.hook_q', 'blocks.1.attn.hook_k', 'blocks.1.attn.hook_v', 'blocks.1.attn.hook_attn_scores', 'blocks.1.attn.hook_pattern', 'blocks.1.attn.hook_z.hook_sae_input', 'blocks.1.attn.hook_z.hook_sae_acts_pre', 'blocks.1.attn.hook_z.hook_sae_acts_post', 'blocks.1.attn.hook_z.hook_sae_recons', 'blocks.1.attn.hook_z.hook_sae_error', 'blocks.1.attn.hook_z.hook_sae_output', 'blocks.1.hook_attn_out', 'blocks.1.hook_resid_mid', 'blocks.1.ln2.hook_scale', 'blocks.1.ln2.hook_normalized', 'blocks.1.mlp.transcoder.hook_sae_input', 'blocks.1.mlp.transcoder.hook_sae_acts_pre', 'blocks.1.mlp.transcoder.hook_sae_acts_post', 'blocks.1.mlp.transcoder.hook_sae_recons', 'blocks.1.mlp.mlp.hook_pre', 'blocks.1.mlp.mlp.hook_post', 'blocks.1.mlp.hook_sae_error', 'blocks.1.mlp.hook_sae_output', 'blocks.1.hook_mlp_out', 'blocks.1.hook_resid_post', 'blocks.2.hook_resid_pre', 'blocks.2.ln1.hook_scale', 'blocks.2.ln1.hook_normalized', 'blocks.2.attn.hook_q', 'blocks.2.attn.hook_k', 'blocks.2.attn.hook_v', 'blocks.2.attn.hook_attn_scores', 'blocks.2.attn.hook_pattern', 'blocks.2.attn.hook_z.hook_sae_input', 'blocks.2.attn.hook_z.hook_sae_acts_pre', 'blocks.2.attn.hook_z.hook_sae_acts_post', 'blocks.2.attn.hook_z.hook_sae_recons', 'blocks.2.attn.hook_z.hook_sae_error', 'blocks.2.attn.hook_z.hook_sae_output', 'blocks.2.hook_attn_out', 'blocks.2.hook_resid_mid', 'blocks.2.ln2.hook_scale', 'blocks.2.ln2.hook_normalized', 'blocks.2.mlp.transcoder.hook_sae_input', 'blocks.2.mlp.transcoder.hook_sae_acts_pre', 'blocks.2.mlp.transcoder.hook_sae_acts_post', 'blocks.2.mlp.transcoder.hook_sae_recons', 'blocks.2.mlp.mlp.hook_pre', 'blocks.2.mlp.mlp.hook_post', 'blocks.2.mlp.hook_sae_error', 'blocks.2.mlp.hook_sae_output', 'blocks.2.hook_mlp_out', 'blocks.2.hook_resid_post', 'blocks.3.hook_resid_pre', 'blocks.3.ln1.hook_scale', 'blocks.3.ln1.hook_normalized', 'blocks.3.attn.hook_q', 'blocks.3.attn.hook_k', 'blocks.3.attn.hook_v', 'blocks.3.attn.hook_attn_scores', 'blocks.3.attn.hook_pattern', 'blocks.3.attn.hook_z.hook_sae_input', 'blocks.3.attn.hook_z.hook_sae_acts_pre', 'blocks.3.attn.hook_z.hook_sae_acts_post', 'blocks.3.attn.hook_z.hook_sae_recons', 'blocks.3.attn.hook_z.hook_sae_error', 'blocks.3.attn.hook_z.hook_sae_output', 'blocks.3.hook_attn_out', 'blocks.3.hook_resid_mid', 'blocks.3.ln2.hook_scale', 'blocks.3.ln2.hook_normalized', 'blocks.3.mlp.transcoder.hook_sae_input', 'blocks.3.mlp.transcoder.hook_sae_acts_pre', 'blocks.3.mlp.transcoder.hook_sae_acts_post', 'blocks.3.mlp.transcoder.hook_sae_recons', 'blocks.3.mlp.mlp.hook_pre', 'blocks.3.mlp.mlp.hook_post', 'blocks.3.mlp.hook_sae_error', 'blocks.3.mlp.hook_sae_output', 'blocks.3.hook_mlp_out', 'blocks.3.hook_resid_post', 'blocks.4.hook_resid_pre', 'blocks.4.ln1.hook_scale', 'blocks.4.ln1.hook_normalized', 'blocks.4.attn.hook_q', 'blocks.4.attn.hook_k', 'blocks.4.attn.hook_v', 'blocks.4.attn.hook_attn_scores', 'blocks.4.attn.hook_pattern', 'blocks.4.attn.hook_z.hook_sae_input', 'blocks.4.attn.hook_z.hook_sae_acts_pre', 'blocks.4.attn.hook_z.hook_sae_acts_post', 'blocks.4.attn.hook_z.hook_sae_recons', 'blocks.4.attn.hook_z.hook_sae_error', 'blocks.4.attn.hook_z.hook_sae_output', 'blocks.4.hook_attn_out', 'blocks.4.hook_resid_mid', 'blocks.4.ln2.hook_scale', 'blocks.4.ln2.hook_normalized', 'blocks.4.mlp.transcoder.hook_sae_input', 'blocks.4.mlp.transcoder.hook_sae_acts_pre', 'blocks.4.mlp.transcoder.hook_sae_acts_post', 'blocks.4.mlp.transcoder.hook_sae_recons', 'blocks.4.mlp.mlp.hook_pre', 'blocks.4.mlp.mlp.hook_post', 'blocks.4.mlp.hook_sae_error', 'blocks.4.mlp.hook_sae_output', 'blocks.4.hook_mlp_out', 'blocks.4.hook_resid_post', 'blocks.5.hook_resid_pre', 'blocks.5.ln1.hook_scale', 'blocks.5.ln1.hook_normalized', 'blocks.5.attn.hook_q', 'blocks.5.attn.hook_k', 'blocks.5.attn.hook_v', 'blocks.5.attn.hook_attn_scores', 'blocks.5.attn.hook_pattern', 'blocks.5.attn.hook_z.hook_sae_input', 'blocks.5.attn.hook_z.hook_sae_acts_pre', 'blocks.5.attn.hook_z.hook_sae_acts_post', 'blocks.5.attn.hook_z.hook_sae_recons', 'blocks.5.attn.hook_z.hook_sae_error', 'blocks.5.attn.hook_z.hook_sae_output', 'blocks.5.hook_attn_out', 'blocks.5.hook_resid_mid', 'blocks.5.ln2.hook_scale', 'blocks.5.ln2.hook_normalized', 'blocks.5.mlp.transcoder.hook_sae_input', 'blocks.5.mlp.transcoder.hook_sae_acts_pre', 'blocks.5.mlp.transcoder.hook_sae_acts_post', 'blocks.5.mlp.transcoder.hook_sae_recons', 'blocks.5.mlp.mlp.hook_pre', 'blocks.5.mlp.mlp.hook_post', 'blocks.5.mlp.hook_sae_error', 'blocks.5.mlp.hook_sae_output', 'blocks.5.hook_mlp_out', 'blocks.5.hook_resid_post', 'blocks.6.hook_resid_pre', 'blocks.6.ln1.hook_scale', 'blocks.6.ln1.hook_normalized', 'blocks.6.attn.hook_q', 'blocks.6.attn.hook_k', 'blocks.6.attn.hook_v', 'blocks.6.attn.hook_attn_scores', 'blocks.6.attn.hook_pattern', 'blocks.6.attn.hook_z.hook_sae_input', 'blocks.6.attn.hook_z.hook_sae_acts_pre', 'blocks.6.attn.hook_z.hook_sae_acts_post', 'blocks.6.attn.hook_z.hook_sae_recons', 'blocks.6.attn.hook_z.hook_sae_error', 'blocks.6.attn.hook_z.hook_sae_output', 'blocks.6.hook_attn_out', 'blocks.6.hook_resid_mid', 'blocks.6.ln2.hook_scale', 'blocks.6.ln2.hook_normalized', 'blocks.6.mlp.transcoder.hook_sae_input', 'blocks.6.mlp.transcoder.hook_sae_acts_pre', 'blocks.6.mlp.transcoder.hook_sae_acts_post', 'blocks.6.mlp.transcoder.hook_sae_recons', 'blocks.6.mlp.mlp.hook_pre', 'blocks.6.mlp.mlp.hook_post', 'blocks.6.mlp.hook_sae_error', 'blocks.6.mlp.hook_sae_output', 'blocks.6.hook_mlp_out', 'blocks.6.hook_resid_post', 'blocks.7.hook_resid_pre', 'blocks.7.ln1.hook_scale', 'blocks.7.ln1.hook_normalized', 'blocks.7.attn.hook_q', 'blocks.7.attn.hook_k', 'blocks.7.attn.hook_v', 'blocks.7.attn.hook_attn_scores', 'blocks.7.attn.hook_pattern', 'blocks.7.attn.hook_z.hook_sae_input', 'blocks.7.attn.hook_z.hook_sae_acts_pre', 'blocks.7.attn.hook_z.hook_sae_acts_post', 'blocks.7.attn.hook_z.hook_sae_recons', 'blocks.7.attn.hook_z.hook_sae_error', 'blocks.7.attn.hook_z.hook_sae_output', 'blocks.7.hook_attn_out', 'blocks.7.hook_resid_mid', 'blocks.7.ln2.hook_scale', 'blocks.7.ln2.hook_normalized', 'blocks.7.mlp.transcoder.hook_sae_input', 'blocks.7.mlp.transcoder.hook_sae_acts_pre', 'blocks.7.mlp.transcoder.hook_sae_acts_post', 'blocks.7.mlp.transcoder.hook_sae_recons', 'blocks.7.mlp.mlp.hook_pre', 'blocks.7.mlp.mlp.hook_post', 'blocks.7.mlp.hook_sae_error', 'blocks.7.mlp.hook_sae_output', 'blocks.7.hook_mlp_out', 'blocks.7.hook_resid_post', 'blocks.8.hook_resid_pre', 'blocks.8.ln1.hook_scale', 'blocks.8.ln1.hook_normalized', 'blocks.8.attn.hook_q', 'blocks.8.attn.hook_k', 'blocks.8.attn.hook_v', 'blocks.8.attn.hook_attn_scores', 'blocks.8.attn.hook_pattern', 'blocks.8.attn.hook_z.hook_sae_input', 'blocks.8.attn.hook_z.hook_sae_acts_pre', 'blocks.8.attn.hook_z.hook_sae_acts_post', 'blocks.8.attn.hook_z.hook_sae_recons', 'blocks.8.attn.hook_z.hook_sae_error', 'blocks.8.attn.hook_z.hook_sae_output', 'blocks.8.hook_attn_out', 'blocks.8.hook_resid_mid', 'blocks.8.ln2.hook_scale', 'blocks.8.ln2.hook_normalized', 'blocks.8.mlp.transcoder.hook_sae_input', 'blocks.8.mlp.transcoder.hook_sae_acts_pre', 'blocks.8.mlp.transcoder.hook_sae_acts_post', 'blocks.8.mlp.transcoder.hook_sae_recons', 'blocks.8.mlp.mlp.hook_pre', 'blocks.8.mlp.mlp.hook_post', 'blocks.8.mlp.hook_sae_error', 'blocks.8.mlp.hook_sae_output', 'blocks.8.hook_mlp_out', 'blocks.8.hook_resid_post', 'blocks.9.hook_resid_pre', 'blocks.9.ln1.hook_scale', 'blocks.9.ln1.hook_normalized', 'blocks.9.attn.hook_q', 'blocks.9.attn.hook_k', 'blocks.9.attn.hook_v', 'blocks.9.attn.hook_attn_scores', 'blocks.9.attn.hook_pattern', 'blocks.9.attn.hook_z.hook_sae_input', 'blocks.9.attn.hook_z.hook_sae_acts_pre', 'blocks.9.attn.hook_z.hook_sae_acts_post', 'blocks.9.attn.hook_z.hook_sae_recons', 'blocks.9.attn.hook_z.hook_sae_error', 'blocks.9.attn.hook_z.hook_sae_output', 'blocks.9.hook_attn_out', 'blocks.9.hook_resid_mid', 'blocks.9.ln2.hook_scale', 'blocks.9.ln2.hook_normalized', 'blocks.9.mlp.transcoder.hook_sae_input', 'blocks.9.mlp.transcoder.hook_sae_acts_pre', 'blocks.9.mlp.transcoder.hook_sae_acts_post', 'blocks.9.mlp.transcoder.hook_sae_recons', 'blocks.9.mlp.mlp.hook_pre', 'blocks.9.mlp.mlp.hook_post', 'blocks.9.mlp.hook_sae_error', 'blocks.9.mlp.hook_sae_output', 'blocks.9.hook_mlp_out', 'blocks.9.hook_resid_post', 'blocks.10.hook_resid_pre', 'blocks.10.ln1.hook_scale', 'blocks.10.ln1.hook_normalized', 'blocks.10.attn.hook_q', 'blocks.10.attn.hook_k', 'blocks.10.attn.hook_v', 'blocks.10.attn.hook_attn_scores', 'blocks.10.attn.hook_pattern', 'blocks.10.attn.hook_z.hook_sae_input', 'blocks.10.attn.hook_z.hook_sae_acts_pre', 'blocks.10.attn.hook_z.hook_sae_acts_post', 'blocks.10.attn.hook_z.hook_sae_recons', 'blocks.10.attn.hook_z.hook_sae_error', 'blocks.10.attn.hook_z.hook_sae_output', 'blocks.10.hook_attn_out', 'blocks.10.hook_resid_mid', 'blocks.10.ln2.hook_scale', 'blocks.10.ln2.hook_normalized', 'blocks.10.mlp.transcoder.hook_sae_input', 'blocks.10.mlp.transcoder.hook_sae_acts_pre', 'blocks.10.mlp.transcoder.hook_sae_acts_post', 'blocks.10.mlp.transcoder.hook_sae_recons', 'blocks.10.mlp.mlp.hook_pre', 'blocks.10.mlp.mlp.hook_post', 'blocks.10.mlp.hook_sae_error', 'blocks.10.mlp.hook_sae_output', 'blocks.10.hook_mlp_out', 'blocks.10.hook_resid_post', 'blocks.11.hook_resid_pre', 'blocks.11.ln1.hook_scale', 'blocks.11.ln1.hook_normalized', 'blocks.11.attn.hook_q', 'blocks.11.attn.hook_k', 'blocks.11.attn.hook_v', 'blocks.11.attn.hook_attn_scores', 'blocks.11.attn.hook_pattern', 'blocks.11.attn.hook_z.hook_sae_input', 'blocks.11.attn.hook_z.hook_sae_acts_pre', 'blocks.11.attn.hook_z.hook_sae_acts_post', 'blocks.11.attn.hook_z.hook_sae_recons', 'blocks.11.attn.hook_z.hook_sae_error', 'blocks.11.attn.hook_z.hook_sae_output', 'blocks.11.hook_attn_out', 'blocks.11.hook_resid_mid', 'blocks.11.ln2.hook_scale', 'blocks.11.ln2.hook_normalized', 'blocks.11.mlp.transcoder.hook_sae_input', 'blocks.11.mlp.transcoder.hook_sae_acts_pre', 'blocks.11.mlp.transcoder.hook_sae_acts_post', 'blocks.11.mlp.transcoder.hook_sae_recons', 'blocks.11.mlp.mlp.hook_pre', 'blocks.11.mlp.mlp.hook_post', 'blocks.11.mlp.hook_sae_error', 'blocks.11.mlp.hook_sae_output', 'blocks.11.hook_mlp_out', 'blocks.11.hook_resid_post', 'ln_final.hook_scale', 'ln_final.hook_normalized']\n",
      "ActivationCache with keys ['hook_embed', 'hook_pos_embed', 'blocks.0.hook_resid_pre', 'blocks.0.ln1.hook_scale', 'blocks.0.ln1.hook_normalized', 'blocks.0.attn.hook_q', 'blocks.0.attn.hook_k', 'blocks.0.attn.hook_v', 'blocks.0.attn.hook_attn_scores', 'blocks.0.attn.hook_pattern', 'blocks.0.attn.hook_z.hook_sae_input', 'blocks.0.attn.hook_z.hook_sae_acts_pre', 'blocks.0.attn.hook_z.hook_sae_acts_post', 'blocks.0.attn.hook_z.hook_sae_recons', 'blocks.0.attn.hook_z.hook_sae_error', 'blocks.0.attn.hook_z.hook_sae_output', 'blocks.0.hook_attn_out', 'blocks.0.hook_resid_mid', 'blocks.0.ln2.hook_scale', 'blocks.0.ln2.hook_normalized', 'blocks.0.mlp.transcoder.hook_sae_input', 'blocks.0.mlp.transcoder.hook_sae_acts_pre', 'blocks.0.mlp.transcoder.hook_sae_acts_post', 'blocks.0.mlp.transcoder.hook_sae_recons', 'blocks.0.mlp.mlp.hook_pre', 'blocks.0.mlp.mlp.hook_post', 'blocks.0.mlp.hook_sae_error', 'blocks.0.mlp.hook_sae_output', 'blocks.0.hook_mlp_out', 'blocks.0.hook_resid_post', 'blocks.1.hook_resid_pre', 'blocks.1.ln1.hook_scale', 'blocks.1.ln1.hook_normalized', 'blocks.1.attn.hook_q', 'blocks.1.attn.hook_k', 'blocks.1.attn.hook_v', 'blocks.1.attn.hook_attn_scores', 'blocks.1.attn.hook_pattern', 'blocks.1.attn.hook_z.hook_sae_input', 'blocks.1.attn.hook_z.hook_sae_acts_pre', 'blocks.1.attn.hook_z.hook_sae_acts_post', 'blocks.1.attn.hook_z.hook_sae_recons', 'blocks.1.attn.hook_z.hook_sae_error', 'blocks.1.attn.hook_z.hook_sae_output', 'blocks.1.hook_attn_out', 'blocks.1.hook_resid_mid', 'blocks.1.ln2.hook_scale', 'blocks.1.ln2.hook_normalized', 'blocks.1.mlp.transcoder.hook_sae_input', 'blocks.1.mlp.transcoder.hook_sae_acts_pre', 'blocks.1.mlp.transcoder.hook_sae_acts_post', 'blocks.1.mlp.transcoder.hook_sae_recons', 'blocks.1.mlp.mlp.hook_pre', 'blocks.1.mlp.mlp.hook_post', 'blocks.1.mlp.hook_sae_error', 'blocks.1.mlp.hook_sae_output', 'blocks.1.hook_mlp_out', 'blocks.1.hook_resid_post', 'blocks.2.hook_resid_pre', 'blocks.2.ln1.hook_scale', 'blocks.2.ln1.hook_normalized', 'blocks.2.attn.hook_q', 'blocks.2.attn.hook_k', 'blocks.2.attn.hook_v', 'blocks.2.attn.hook_attn_scores', 'blocks.2.attn.hook_pattern', 'blocks.2.attn.hook_z.hook_sae_input', 'blocks.2.attn.hook_z.hook_sae_acts_pre', 'blocks.2.attn.hook_z.hook_sae_acts_post', 'blocks.2.attn.hook_z.hook_sae_recons', 'blocks.2.attn.hook_z.hook_sae_error', 'blocks.2.attn.hook_z.hook_sae_output', 'blocks.2.hook_attn_out', 'blocks.2.hook_resid_mid', 'blocks.2.ln2.hook_scale', 'blocks.2.ln2.hook_normalized', 'blocks.2.mlp.transcoder.hook_sae_input', 'blocks.2.mlp.transcoder.hook_sae_acts_pre', 'blocks.2.mlp.transcoder.hook_sae_acts_post', 'blocks.2.mlp.transcoder.hook_sae_recons', 'blocks.2.mlp.mlp.hook_pre', 'blocks.2.mlp.mlp.hook_post', 'blocks.2.mlp.hook_sae_error', 'blocks.2.mlp.hook_sae_output', 'blocks.2.hook_mlp_out', 'blocks.2.hook_resid_post', 'blocks.3.hook_resid_pre', 'blocks.3.ln1.hook_scale', 'blocks.3.ln1.hook_normalized', 'blocks.3.attn.hook_q', 'blocks.3.attn.hook_k', 'blocks.3.attn.hook_v', 'blocks.3.attn.hook_attn_scores', 'blocks.3.attn.hook_pattern', 'blocks.3.attn.hook_z.hook_sae_input', 'blocks.3.attn.hook_z.hook_sae_acts_pre', 'blocks.3.attn.hook_z.hook_sae_acts_post', 'blocks.3.attn.hook_z.hook_sae_recons', 'blocks.3.attn.hook_z.hook_sae_error', 'blocks.3.attn.hook_z.hook_sae_output', 'blocks.3.hook_attn_out', 'blocks.3.hook_resid_mid', 'blocks.3.ln2.hook_scale', 'blocks.3.ln2.hook_normalized', 'blocks.3.mlp.transcoder.hook_sae_input', 'blocks.3.mlp.transcoder.hook_sae_acts_pre', 'blocks.3.mlp.transcoder.hook_sae_acts_post', 'blocks.3.mlp.transcoder.hook_sae_recons', 'blocks.3.mlp.mlp.hook_pre', 'blocks.3.mlp.mlp.hook_post', 'blocks.3.mlp.hook_sae_error', 'blocks.3.mlp.hook_sae_output', 'blocks.3.hook_mlp_out', 'blocks.3.hook_resid_post', 'blocks.4.hook_resid_pre', 'blocks.4.ln1.hook_scale', 'blocks.4.ln1.hook_normalized', 'blocks.4.attn.hook_q', 'blocks.4.attn.hook_k', 'blocks.4.attn.hook_v', 'blocks.4.attn.hook_attn_scores', 'blocks.4.attn.hook_pattern', 'blocks.4.attn.hook_z.hook_sae_input', 'blocks.4.attn.hook_z.hook_sae_acts_pre', 'blocks.4.attn.hook_z.hook_sae_acts_post', 'blocks.4.attn.hook_z.hook_sae_recons', 'blocks.4.attn.hook_z.hook_sae_error', 'blocks.4.attn.hook_z.hook_sae_output', 'blocks.4.hook_attn_out', 'blocks.4.hook_resid_mid', 'blocks.4.ln2.hook_scale', 'blocks.4.ln2.hook_normalized', 'blocks.4.mlp.transcoder.hook_sae_input', 'blocks.4.mlp.transcoder.hook_sae_acts_pre', 'blocks.4.mlp.transcoder.hook_sae_acts_post', 'blocks.4.mlp.transcoder.hook_sae_recons', 'blocks.4.mlp.mlp.hook_pre', 'blocks.4.mlp.mlp.hook_post', 'blocks.4.mlp.hook_sae_error', 'blocks.4.mlp.hook_sae_output', 'blocks.4.hook_mlp_out', 'blocks.4.hook_resid_post', 'blocks.5.hook_resid_pre', 'blocks.5.ln1.hook_scale', 'blocks.5.ln1.hook_normalized', 'blocks.5.attn.hook_q', 'blocks.5.attn.hook_k', 'blocks.5.attn.hook_v', 'blocks.5.attn.hook_attn_scores', 'blocks.5.attn.hook_pattern', 'blocks.5.attn.hook_z.hook_sae_input', 'blocks.5.attn.hook_z.hook_sae_acts_pre', 'blocks.5.attn.hook_z.hook_sae_acts_post', 'blocks.5.attn.hook_z.hook_sae_recons', 'blocks.5.attn.hook_z.hook_sae_error', 'blocks.5.attn.hook_z.hook_sae_output', 'blocks.5.hook_attn_out', 'blocks.5.hook_resid_mid', 'blocks.5.ln2.hook_scale', 'blocks.5.ln2.hook_normalized', 'blocks.5.mlp.transcoder.hook_sae_input', 'blocks.5.mlp.transcoder.hook_sae_acts_pre', 'blocks.5.mlp.transcoder.hook_sae_acts_post', 'blocks.5.mlp.transcoder.hook_sae_recons', 'blocks.5.mlp.mlp.hook_pre', 'blocks.5.mlp.mlp.hook_post', 'blocks.5.mlp.hook_sae_error', 'blocks.5.mlp.hook_sae_output', 'blocks.5.hook_mlp_out', 'blocks.5.hook_resid_post', 'blocks.6.hook_resid_pre', 'blocks.6.ln1.hook_scale', 'blocks.6.ln1.hook_normalized', 'blocks.6.attn.hook_q', 'blocks.6.attn.hook_k', 'blocks.6.attn.hook_v', 'blocks.6.attn.hook_attn_scores', 'blocks.6.attn.hook_pattern', 'blocks.6.attn.hook_z.hook_sae_input', 'blocks.6.attn.hook_z.hook_sae_acts_pre', 'blocks.6.attn.hook_z.hook_sae_acts_post', 'blocks.6.attn.hook_z.hook_sae_recons', 'blocks.6.attn.hook_z.hook_sae_error', 'blocks.6.attn.hook_z.hook_sae_output', 'blocks.6.hook_attn_out', 'blocks.6.hook_resid_mid', 'blocks.6.ln2.hook_scale', 'blocks.6.ln2.hook_normalized', 'blocks.6.mlp.transcoder.hook_sae_input', 'blocks.6.mlp.transcoder.hook_sae_acts_pre', 'blocks.6.mlp.transcoder.hook_sae_acts_post', 'blocks.6.mlp.transcoder.hook_sae_recons', 'blocks.6.mlp.mlp.hook_pre', 'blocks.6.mlp.mlp.hook_post', 'blocks.6.mlp.hook_sae_error', 'blocks.6.mlp.hook_sae_output', 'blocks.6.hook_mlp_out', 'blocks.6.hook_resid_post', 'blocks.7.hook_resid_pre', 'blocks.7.ln1.hook_scale', 'blocks.7.ln1.hook_normalized', 'blocks.7.attn.hook_q', 'blocks.7.attn.hook_k', 'blocks.7.attn.hook_v', 'blocks.7.attn.hook_attn_scores', 'blocks.7.attn.hook_pattern', 'blocks.7.attn.hook_z.hook_sae_input', 'blocks.7.attn.hook_z.hook_sae_acts_pre', 'blocks.7.attn.hook_z.hook_sae_acts_post', 'blocks.7.attn.hook_z.hook_sae_recons', 'blocks.7.attn.hook_z.hook_sae_error', 'blocks.7.attn.hook_z.hook_sae_output', 'blocks.7.hook_attn_out', 'blocks.7.hook_resid_mid', 'blocks.7.ln2.hook_scale', 'blocks.7.ln2.hook_normalized', 'blocks.7.mlp.transcoder.hook_sae_input', 'blocks.7.mlp.transcoder.hook_sae_acts_pre', 'blocks.7.mlp.transcoder.hook_sae_acts_post', 'blocks.7.mlp.transcoder.hook_sae_recons', 'blocks.7.mlp.mlp.hook_pre', 'blocks.7.mlp.mlp.hook_post', 'blocks.7.mlp.hook_sae_error', 'blocks.7.mlp.hook_sae_output', 'blocks.7.hook_mlp_out', 'blocks.7.hook_resid_post', 'blocks.8.hook_resid_pre', 'blocks.8.ln1.hook_scale', 'blocks.8.ln1.hook_normalized', 'blocks.8.attn.hook_q', 'blocks.8.attn.hook_k', 'blocks.8.attn.hook_v', 'blocks.8.attn.hook_attn_scores', 'blocks.8.attn.hook_pattern', 'blocks.8.attn.hook_z.hook_sae_input', 'blocks.8.attn.hook_z.hook_sae_acts_pre', 'blocks.8.attn.hook_z.hook_sae_acts_post', 'blocks.8.attn.hook_z.hook_sae_recons', 'blocks.8.attn.hook_z.hook_sae_error', 'blocks.8.attn.hook_z.hook_sae_output', 'blocks.8.hook_attn_out', 'blocks.8.hook_resid_mid', 'blocks.8.ln2.hook_scale', 'blocks.8.ln2.hook_normalized', 'blocks.8.mlp.transcoder.hook_sae_input', 'blocks.8.mlp.transcoder.hook_sae_acts_pre', 'blocks.8.mlp.transcoder.hook_sae_acts_post', 'blocks.8.mlp.transcoder.hook_sae_recons', 'blocks.8.mlp.mlp.hook_pre', 'blocks.8.mlp.mlp.hook_post', 'blocks.8.mlp.hook_sae_error', 'blocks.8.mlp.hook_sae_output', 'blocks.8.hook_mlp_out', 'blocks.8.hook_resid_post', 'blocks.9.hook_resid_pre', 'blocks.9.ln1.hook_scale', 'blocks.9.ln1.hook_normalized', 'blocks.9.attn.hook_q', 'blocks.9.attn.hook_k', 'blocks.9.attn.hook_v', 'blocks.9.attn.hook_attn_scores', 'blocks.9.attn.hook_pattern', 'blocks.9.attn.hook_z.hook_sae_input', 'blocks.9.attn.hook_z.hook_sae_acts_pre', 'blocks.9.attn.hook_z.hook_sae_acts_post', 'blocks.9.attn.hook_z.hook_sae_recons', 'blocks.9.attn.hook_z.hook_sae_error', 'blocks.9.attn.hook_z.hook_sae_output', 'blocks.9.hook_attn_out', 'blocks.9.hook_resid_mid', 'blocks.9.ln2.hook_scale', 'blocks.9.ln2.hook_normalized', 'blocks.9.mlp.transcoder.hook_sae_input', 'blocks.9.mlp.transcoder.hook_sae_acts_pre', 'blocks.9.mlp.transcoder.hook_sae_acts_post', 'blocks.9.mlp.transcoder.hook_sae_recons', 'blocks.9.mlp.mlp.hook_pre', 'blocks.9.mlp.mlp.hook_post', 'blocks.9.mlp.hook_sae_error', 'blocks.9.mlp.hook_sae_output', 'blocks.9.hook_mlp_out', 'blocks.9.hook_resid_post', 'blocks.10.hook_resid_pre', 'blocks.10.ln1.hook_scale', 'blocks.10.ln1.hook_normalized', 'blocks.10.attn.hook_q', 'blocks.10.attn.hook_k', 'blocks.10.attn.hook_v', 'blocks.10.attn.hook_attn_scores', 'blocks.10.attn.hook_pattern', 'blocks.10.attn.hook_z.hook_sae_input', 'blocks.10.attn.hook_z.hook_sae_acts_pre', 'blocks.10.attn.hook_z.hook_sae_acts_post', 'blocks.10.attn.hook_z.hook_sae_recons', 'blocks.10.attn.hook_z.hook_sae_error', 'blocks.10.attn.hook_z.hook_sae_output', 'blocks.10.hook_attn_out', 'blocks.10.hook_resid_mid', 'blocks.10.ln2.hook_scale', 'blocks.10.ln2.hook_normalized', 'blocks.10.mlp.transcoder.hook_sae_input', 'blocks.10.mlp.transcoder.hook_sae_acts_pre', 'blocks.10.mlp.transcoder.hook_sae_acts_post', 'blocks.10.mlp.transcoder.hook_sae_recons', 'blocks.10.mlp.mlp.hook_pre', 'blocks.10.mlp.mlp.hook_post', 'blocks.10.mlp.hook_sae_error', 'blocks.10.mlp.hook_sae_output', 'blocks.10.hook_mlp_out', 'blocks.10.hook_resid_post', 'blocks.11.hook_resid_pre', 'blocks.11.ln1.hook_scale', 'blocks.11.ln1.hook_normalized', 'blocks.11.attn.hook_q', 'blocks.11.attn.hook_k', 'blocks.11.attn.hook_v', 'blocks.11.attn.hook_attn_scores', 'blocks.11.attn.hook_pattern', 'blocks.11.attn.hook_z.hook_sae_input', 'blocks.11.attn.hook_z.hook_sae_acts_pre', 'blocks.11.attn.hook_z.hook_sae_acts_post', 'blocks.11.attn.hook_z.hook_sae_recons', 'blocks.11.attn.hook_z.hook_sae_error', 'blocks.11.attn.hook_z.hook_sae_output', 'blocks.11.hook_attn_out', 'blocks.11.hook_resid_mid', 'blocks.11.ln2.hook_scale', 'blocks.11.ln2.hook_normalized', 'blocks.11.mlp.transcoder.hook_sae_input', 'blocks.11.mlp.transcoder.hook_sae_acts_pre', 'blocks.11.mlp.transcoder.hook_sae_acts_post', 'blocks.11.mlp.transcoder.hook_sae_recons', 'blocks.11.mlp.mlp.hook_pre', 'blocks.11.mlp.mlp.hook_post', 'blocks.11.mlp.hook_sae_error', 'blocks.11.mlp.hook_sae_output', 'blocks.11.hook_mlp_out', 'blocks.11.hook_resid_post', 'ln_final.hook_scale', 'ln_final.hook_normalized']\n"
     ]
    }
   ],
   "source": [
    "print(clean_cache)\n",
    "print(corrupt_cache)"
   ]
  },
  {
   "cell_type": "code",
   "execution_count": 10,
   "metadata": {},
   "outputs": [
    {
     "name": "stdout",
     "output_type": "stream",
     "text": [
      "ActivationCache with keys ['ln_final.hook_normalized', 'ln_final.hook_scale', 'blocks.11.hook_resid_post', 'blocks.11.hook_mlp_out', 'blocks.11.mlp.hook_sae_output', 'blocks.11.mlp.hook_sae_error', 'blocks.11.mlp.mlp.hook_post', 'blocks.11.mlp.mlp.hook_pre', 'blocks.11.mlp.transcoder.hook_sae_recons', 'blocks.11.mlp.transcoder.hook_sae_acts_post', 'blocks.11.mlp.transcoder.hook_sae_acts_pre', 'blocks.11.ln2.hook_normalized', 'blocks.11.ln2.hook_scale', 'blocks.11.hook_resid_mid', 'blocks.11.hook_attn_out', 'blocks.11.attn.hook_z.hook_sae_output', 'blocks.11.attn.hook_z.hook_sae_error', 'blocks.11.attn.hook_z.hook_sae_recons', 'blocks.11.attn.hook_z.hook_sae_acts_post', 'blocks.11.attn.hook_z.hook_sae_acts_pre', 'blocks.11.attn.hook_pattern', 'blocks.11.attn.hook_attn_scores', 'blocks.11.attn.hook_v', 'blocks.11.attn.hook_k', 'blocks.11.attn.hook_q', 'blocks.11.ln1.hook_normalized', 'blocks.11.ln1.hook_scale', 'blocks.11.hook_resid_pre', 'blocks.10.hook_resid_post', 'blocks.10.hook_mlp_out', 'blocks.10.mlp.hook_sae_output', 'blocks.10.mlp.hook_sae_error', 'blocks.10.mlp.mlp.hook_post', 'blocks.10.mlp.mlp.hook_pre', 'blocks.10.mlp.transcoder.hook_sae_recons', 'blocks.10.mlp.transcoder.hook_sae_acts_post', 'blocks.10.mlp.transcoder.hook_sae_acts_pre', 'blocks.10.ln2.hook_normalized', 'blocks.10.ln2.hook_scale', 'blocks.10.hook_resid_mid', 'blocks.10.hook_attn_out', 'blocks.10.attn.hook_z.hook_sae_output', 'blocks.10.attn.hook_z.hook_sae_error', 'blocks.10.attn.hook_z.hook_sae_recons', 'blocks.10.attn.hook_z.hook_sae_acts_post', 'blocks.10.attn.hook_z.hook_sae_acts_pre', 'blocks.10.attn.hook_pattern', 'blocks.10.attn.hook_attn_scores', 'blocks.10.attn.hook_v', 'blocks.10.attn.hook_k', 'blocks.10.attn.hook_q', 'blocks.10.ln1.hook_normalized', 'blocks.10.ln1.hook_scale', 'blocks.10.hook_resid_pre', 'blocks.9.hook_resid_post', 'blocks.9.hook_mlp_out', 'blocks.9.mlp.hook_sae_output', 'blocks.9.mlp.hook_sae_error', 'blocks.9.mlp.mlp.hook_post', 'blocks.9.mlp.mlp.hook_pre', 'blocks.9.mlp.transcoder.hook_sae_recons', 'blocks.9.mlp.transcoder.hook_sae_acts_post', 'blocks.9.mlp.transcoder.hook_sae_acts_pre', 'blocks.9.ln2.hook_normalized', 'blocks.9.ln2.hook_scale', 'blocks.9.hook_resid_mid', 'blocks.9.hook_attn_out', 'blocks.9.attn.hook_z.hook_sae_output', 'blocks.9.attn.hook_z.hook_sae_error', 'blocks.9.attn.hook_z.hook_sae_recons', 'blocks.9.attn.hook_z.hook_sae_acts_post', 'blocks.9.attn.hook_z.hook_sae_acts_pre', 'blocks.9.attn.hook_pattern', 'blocks.9.attn.hook_attn_scores', 'blocks.9.attn.hook_v', 'blocks.9.attn.hook_k', 'blocks.9.attn.hook_q', 'blocks.9.ln1.hook_normalized', 'blocks.9.ln1.hook_scale', 'blocks.9.hook_resid_pre', 'blocks.8.hook_resid_post', 'blocks.8.hook_mlp_out', 'blocks.8.mlp.hook_sae_output', 'blocks.8.mlp.hook_sae_error', 'blocks.8.mlp.mlp.hook_post', 'blocks.8.mlp.mlp.hook_pre', 'blocks.8.mlp.transcoder.hook_sae_recons', 'blocks.8.mlp.transcoder.hook_sae_acts_post', 'blocks.8.mlp.transcoder.hook_sae_acts_pre', 'blocks.8.ln2.hook_normalized', 'blocks.8.ln2.hook_scale', 'blocks.8.hook_resid_mid', 'blocks.8.hook_attn_out', 'blocks.8.attn.hook_z.hook_sae_output', 'blocks.8.attn.hook_z.hook_sae_error', 'blocks.8.attn.hook_z.hook_sae_recons', 'blocks.8.attn.hook_z.hook_sae_acts_post', 'blocks.8.attn.hook_z.hook_sae_acts_pre', 'blocks.8.attn.hook_pattern', 'blocks.8.attn.hook_attn_scores', 'blocks.8.attn.hook_v', 'blocks.8.attn.hook_k', 'blocks.8.attn.hook_q', 'blocks.8.ln1.hook_normalized', 'blocks.8.ln1.hook_scale', 'blocks.8.hook_resid_pre', 'blocks.7.hook_resid_post', 'blocks.7.hook_mlp_out', 'blocks.7.mlp.hook_sae_output', 'blocks.7.mlp.hook_sae_error', 'blocks.7.mlp.mlp.hook_post', 'blocks.7.mlp.mlp.hook_pre', 'blocks.7.mlp.transcoder.hook_sae_recons', 'blocks.7.mlp.transcoder.hook_sae_acts_post', 'blocks.7.mlp.transcoder.hook_sae_acts_pre', 'blocks.7.ln2.hook_normalized', 'blocks.7.ln2.hook_scale', 'blocks.7.hook_resid_mid', 'blocks.7.hook_attn_out', 'blocks.7.attn.hook_z.hook_sae_output', 'blocks.7.attn.hook_z.hook_sae_error', 'blocks.7.attn.hook_z.hook_sae_recons', 'blocks.7.attn.hook_z.hook_sae_acts_post', 'blocks.7.attn.hook_z.hook_sae_acts_pre', 'blocks.7.attn.hook_pattern', 'blocks.7.attn.hook_attn_scores', 'blocks.7.attn.hook_v', 'blocks.7.attn.hook_k', 'blocks.7.attn.hook_q', 'blocks.7.ln1.hook_normalized', 'blocks.7.ln1.hook_scale', 'blocks.7.hook_resid_pre', 'blocks.6.hook_resid_post', 'blocks.6.hook_mlp_out', 'blocks.6.mlp.hook_sae_output', 'blocks.6.mlp.hook_sae_error', 'blocks.6.mlp.mlp.hook_post', 'blocks.6.mlp.mlp.hook_pre', 'blocks.6.mlp.transcoder.hook_sae_recons', 'blocks.6.mlp.transcoder.hook_sae_acts_post', 'blocks.6.mlp.transcoder.hook_sae_acts_pre', 'blocks.6.ln2.hook_normalized', 'blocks.6.ln2.hook_scale', 'blocks.6.hook_resid_mid', 'blocks.6.hook_attn_out', 'blocks.6.attn.hook_z.hook_sae_output', 'blocks.6.attn.hook_z.hook_sae_error', 'blocks.6.attn.hook_z.hook_sae_recons', 'blocks.6.attn.hook_z.hook_sae_acts_post', 'blocks.6.attn.hook_z.hook_sae_acts_pre', 'blocks.6.attn.hook_pattern', 'blocks.6.attn.hook_attn_scores', 'blocks.6.attn.hook_v', 'blocks.6.attn.hook_k', 'blocks.6.attn.hook_q', 'blocks.6.ln1.hook_normalized', 'blocks.6.ln1.hook_scale', 'blocks.6.hook_resid_pre', 'blocks.5.hook_resid_post', 'blocks.5.hook_mlp_out', 'blocks.5.mlp.hook_sae_output', 'blocks.5.mlp.hook_sae_error', 'blocks.5.mlp.mlp.hook_post', 'blocks.5.mlp.mlp.hook_pre', 'blocks.5.mlp.transcoder.hook_sae_recons', 'blocks.5.mlp.transcoder.hook_sae_acts_post', 'blocks.5.mlp.transcoder.hook_sae_acts_pre', 'blocks.5.ln2.hook_normalized', 'blocks.5.ln2.hook_scale', 'blocks.5.hook_resid_mid', 'blocks.5.hook_attn_out', 'blocks.5.attn.hook_z.hook_sae_output', 'blocks.5.attn.hook_z.hook_sae_error', 'blocks.5.attn.hook_z.hook_sae_recons', 'blocks.5.attn.hook_z.hook_sae_acts_post', 'blocks.5.attn.hook_z.hook_sae_acts_pre', 'blocks.5.attn.hook_pattern', 'blocks.5.attn.hook_attn_scores', 'blocks.5.attn.hook_v', 'blocks.5.attn.hook_k', 'blocks.5.attn.hook_q', 'blocks.5.ln1.hook_normalized', 'blocks.5.ln1.hook_scale', 'blocks.5.hook_resid_pre', 'blocks.4.hook_resid_post', 'blocks.4.hook_mlp_out', 'blocks.4.mlp.hook_sae_output', 'blocks.4.mlp.hook_sae_error', 'blocks.4.mlp.mlp.hook_post', 'blocks.4.mlp.mlp.hook_pre', 'blocks.4.mlp.transcoder.hook_sae_recons', 'blocks.4.mlp.transcoder.hook_sae_acts_post', 'blocks.4.mlp.transcoder.hook_sae_acts_pre', 'blocks.4.ln2.hook_normalized', 'blocks.4.ln2.hook_scale', 'blocks.4.hook_resid_mid', 'blocks.4.hook_attn_out', 'blocks.4.attn.hook_z.hook_sae_output', 'blocks.4.attn.hook_z.hook_sae_error', 'blocks.4.attn.hook_z.hook_sae_recons', 'blocks.4.attn.hook_z.hook_sae_acts_post', 'blocks.4.attn.hook_z.hook_sae_acts_pre', 'blocks.4.attn.hook_pattern', 'blocks.4.attn.hook_attn_scores', 'blocks.4.attn.hook_v', 'blocks.4.attn.hook_k', 'blocks.4.attn.hook_q', 'blocks.4.ln1.hook_normalized', 'blocks.4.ln1.hook_scale', 'blocks.4.hook_resid_pre', 'blocks.3.hook_resid_post', 'blocks.3.hook_mlp_out', 'blocks.3.mlp.hook_sae_output', 'blocks.3.mlp.hook_sae_error', 'blocks.3.mlp.mlp.hook_post', 'blocks.3.mlp.mlp.hook_pre', 'blocks.3.mlp.transcoder.hook_sae_recons', 'blocks.3.mlp.transcoder.hook_sae_acts_post', 'blocks.3.mlp.transcoder.hook_sae_acts_pre', 'blocks.3.ln2.hook_normalized', 'blocks.3.ln2.hook_scale', 'blocks.3.hook_resid_mid', 'blocks.3.hook_attn_out', 'blocks.3.attn.hook_z.hook_sae_output', 'blocks.3.attn.hook_z.hook_sae_error', 'blocks.3.attn.hook_z.hook_sae_recons', 'blocks.3.attn.hook_z.hook_sae_acts_post', 'blocks.3.attn.hook_z.hook_sae_acts_pre', 'blocks.3.attn.hook_pattern', 'blocks.3.attn.hook_attn_scores', 'blocks.3.attn.hook_v', 'blocks.3.attn.hook_k', 'blocks.3.attn.hook_q', 'blocks.3.ln1.hook_normalized', 'blocks.3.ln1.hook_scale', 'blocks.3.hook_resid_pre', 'blocks.2.hook_resid_post', 'blocks.2.hook_mlp_out', 'blocks.2.mlp.hook_sae_output', 'blocks.2.mlp.hook_sae_error', 'blocks.2.mlp.mlp.hook_post', 'blocks.2.mlp.mlp.hook_pre', 'blocks.2.mlp.transcoder.hook_sae_recons', 'blocks.2.mlp.transcoder.hook_sae_acts_post', 'blocks.2.mlp.transcoder.hook_sae_acts_pre', 'blocks.2.ln2.hook_normalized', 'blocks.2.ln2.hook_scale', 'blocks.2.hook_resid_mid', 'blocks.2.hook_attn_out', 'blocks.2.attn.hook_z.hook_sae_output', 'blocks.2.attn.hook_z.hook_sae_error', 'blocks.2.attn.hook_z.hook_sae_recons', 'blocks.2.attn.hook_z.hook_sae_acts_post', 'blocks.2.attn.hook_z.hook_sae_acts_pre', 'blocks.2.attn.hook_pattern', 'blocks.2.attn.hook_attn_scores', 'blocks.2.attn.hook_v', 'blocks.2.attn.hook_k', 'blocks.2.attn.hook_q', 'blocks.2.ln1.hook_normalized', 'blocks.2.ln1.hook_scale', 'blocks.2.hook_resid_pre', 'blocks.1.hook_resid_post', 'blocks.1.hook_mlp_out', 'blocks.1.mlp.hook_sae_output', 'blocks.1.mlp.hook_sae_error', 'blocks.1.mlp.mlp.hook_post', 'blocks.1.mlp.mlp.hook_pre', 'blocks.1.mlp.transcoder.hook_sae_recons', 'blocks.1.mlp.transcoder.hook_sae_acts_post', 'blocks.1.mlp.transcoder.hook_sae_acts_pre', 'blocks.1.ln2.hook_normalized', 'blocks.1.ln2.hook_scale', 'blocks.1.hook_resid_mid', 'blocks.1.hook_attn_out', 'blocks.1.attn.hook_z.hook_sae_output', 'blocks.1.attn.hook_z.hook_sae_error', 'blocks.1.attn.hook_z.hook_sae_recons', 'blocks.1.attn.hook_z.hook_sae_acts_post', 'blocks.1.attn.hook_z.hook_sae_acts_pre', 'blocks.1.attn.hook_pattern', 'blocks.1.attn.hook_attn_scores', 'blocks.1.attn.hook_v', 'blocks.1.attn.hook_k', 'blocks.1.attn.hook_q', 'blocks.1.ln1.hook_normalized', 'blocks.1.ln1.hook_scale', 'blocks.1.hook_resid_pre', 'blocks.0.hook_resid_post', 'blocks.0.hook_mlp_out', 'blocks.0.mlp.hook_sae_output', 'blocks.0.mlp.hook_sae_error', 'blocks.0.mlp.mlp.hook_post', 'blocks.0.mlp.mlp.hook_pre', 'blocks.0.mlp.transcoder.hook_sae_recons', 'blocks.0.mlp.transcoder.hook_sae_acts_post', 'blocks.0.mlp.transcoder.hook_sae_acts_pre', 'blocks.0.ln2.hook_normalized', 'blocks.0.ln2.hook_scale', 'blocks.0.hook_resid_mid', 'blocks.0.hook_attn_out', 'blocks.0.attn.hook_z.hook_sae_output', 'blocks.0.attn.hook_z.hook_sae_error', 'blocks.0.attn.hook_z.hook_sae_recons', 'blocks.0.attn.hook_z.hook_sae_acts_post', 'blocks.0.attn.hook_z.hook_sae_acts_pre', 'blocks.0.attn.hook_pattern', 'blocks.0.attn.hook_attn_scores', 'blocks.0.attn.hook_v', 'blocks.0.attn.hook_k', 'blocks.0.attn.hook_q', 'blocks.0.ln1.hook_normalized', 'blocks.0.ln1.hook_scale', 'blocks.0.hook_resid_pre', 'hook_pos_embed', 'hook_embed']\n"
     ]
    }
   ],
   "source": [
    "print(grad_cache)"
   ]
  },
  {
   "cell_type": "code",
   "execution_count": 20,
   "metadata": {},
   "outputs": [],
   "source": [
    "# Compute node attributions\n",
    "attr_cache = {}\n",
    "for node, grad in grad_cache.items():\n",
    "    # NOTE on sign: \n",
    "    # clean - corr --> positive attrib means metric(clean) is higher than metric(corr). \n",
    "    attr_cache[node] = grad * (clean_cache[node] - corrupt_cache[node])"
   ]
  },
  {
   "cell_type": "code",
   "execution_count": 21,
   "metadata": {},
   "outputs": [
    {
     "name": "stdout",
     "output_type": "stream",
     "text": [
      "638976\n"
     ]
    },
    {
     "data": {
      "text/html": [
       "<div>\n",
       "<style scoped>\n",
       "    .dataframe tbody tr th:only-of-type {\n",
       "        vertical-align: middle;\n",
       "    }\n",
       "\n",
       "    .dataframe tbody tr th {\n",
       "        vertical-align: top;\n",
       "    }\n",
       "\n",
       "    .dataframe thead th {\n",
       "        text-align: right;\n",
       "    }\n",
       "</style>\n",
       "<table border=\"1\" class=\"dataframe\">\n",
       "  <thead>\n",
       "    <tr style=\"text-align: right;\">\n",
       "      <th></th>\n",
       "      <th>feature_idx</th>\n",
       "      <th>total_node_attrib</th>\n",
       "      <th>act_name</th>\n",
       "    </tr>\n",
       "  </thead>\n",
       "  <tbody>\n",
       "    <tr>\n",
       "      <th>0</th>\n",
       "      <td>0</td>\n",
       "      <td>0.0</td>\n",
       "      <td>blocks.0.attn.hook_z.hook_sae_acts_post</td>\n",
       "    </tr>\n",
       "    <tr>\n",
       "      <th>1</th>\n",
       "      <td>1</td>\n",
       "      <td>0.0</td>\n",
       "      <td>blocks.0.attn.hook_z.hook_sae_acts_post</td>\n",
       "    </tr>\n",
       "    <tr>\n",
       "      <th>2</th>\n",
       "      <td>2</td>\n",
       "      <td>0.0</td>\n",
       "      <td>blocks.0.attn.hook_z.hook_sae_acts_post</td>\n",
       "    </tr>\n",
       "    <tr>\n",
       "      <th>3</th>\n",
       "      <td>3</td>\n",
       "      <td>0.0</td>\n",
       "      <td>blocks.0.attn.hook_z.hook_sae_acts_post</td>\n",
       "    </tr>\n",
       "    <tr>\n",
       "      <th>4</th>\n",
       "      <td>4</td>\n",
       "      <td>0.0</td>\n",
       "      <td>blocks.0.attn.hook_z.hook_sae_acts_post</td>\n",
       "    </tr>\n",
       "  </tbody>\n",
       "</table>\n",
       "</div>"
      ],
      "text/plain": [
       "   feature_idx  total_node_attrib                                 act_name\n",
       "0            0                0.0  blocks.0.attn.hook_z.hook_sae_acts_post\n",
       "1            1                0.0  blocks.0.attn.hook_z.hook_sae_acts_post\n",
       "2            2                0.0  blocks.0.attn.hook_z.hook_sae_acts_post\n",
       "3            3                0.0  blocks.0.attn.hook_z.hook_sae_acts_post\n",
       "4            4                0.0  blocks.0.attn.hook_z.hook_sae_acts_post"
      ]
     },
     "execution_count": 21,
     "metadata": {},
     "output_type": "execute_result"
    }
   ],
   "source": [
    "# Get the features with high attribution \n",
    "\n",
    "import pandas as pd\n",
    "\n",
    "attn_act_names = [\n",
    "    f\"blocks.{layer}.attn.hook_z.hook_sae_acts_post\" for layer in range(model.cfg.n_layers)\n",
    "]\n",
    "\n",
    "transcoder_act_names = [\n",
    "    f\"blocks.{layer}.mlp.transcoder.hook_sae_acts_post\" for layer in range(model.cfg.n_layers)\n",
    "]\n",
    "\n",
    "all_act_names = attn_act_names + transcoder_act_names\n",
    "\n",
    "\n",
    "dfs = []\n",
    "for act_name in all_act_names:\n",
    "    node_attrib = attr_cache[act_name]\n",
    "    feature_idx = list(range(node_attrib.shape[-1]))\n",
    "    total_node_attrib = node_attrib.sum(0).sum(0).tolist()\n",
    "    \n",
    "    df = pd.DataFrame({\n",
    "        \"feature_idx\": feature_idx,\n",
    "        \"total_node_attrib\": total_node_attrib,\n",
    "    })\n",
    "    df['act_name'] = act_name\n",
    "    dfs.append(df)\n",
    "\n",
    "df = pd.concat(dfs)\n",
    "print(len(df))\n",
    "df.head()\n"
   ]
  },
  {
   "cell_type": "code",
   "execution_count": 22,
   "metadata": {},
   "outputs": [],
   "source": [
    "def get_neuronpedia_link(layer: int, feature: int, sae_set: str):\n",
    "    return f\"https://www.neuronpedia.org/gpt2-small/{layer}-{sae_set}/{feature}\""
   ]
  },
  {
   "cell_type": "code",
   "execution_count": 23,
   "metadata": {},
   "outputs": [],
   "source": [
    "df['layer'] = df['act_name'].apply(lambda x: int(x.split('.')[1]))\n",
    "df['module_type'] = df['act_name'].apply(lambda x: x.split('.')[2])"
   ]
  },
  {
   "cell_type": "code",
   "execution_count": 24,
   "metadata": {},
   "outputs": [
    {
     "data": {
      "text/html": [
       "<div>\n",
       "<style scoped>\n",
       "    .dataframe tbody tr th:only-of-type {\n",
       "        vertical-align: middle;\n",
       "    }\n",
       "\n",
       "    .dataframe tbody tr th {\n",
       "        vertical-align: top;\n",
       "    }\n",
       "\n",
       "    .dataframe thead th {\n",
       "        text-align: right;\n",
       "    }\n",
       "</style>\n",
       "<table border=\"1\" class=\"dataframe\">\n",
       "  <thead>\n",
       "    <tr style=\"text-align: right;\">\n",
       "      <th></th>\n",
       "      <th>feature_idx</th>\n",
       "      <th>total_node_attrib</th>\n",
       "      <th>act_name</th>\n",
       "      <th>layer</th>\n",
       "      <th>module_type</th>\n",
       "    </tr>\n",
       "  </thead>\n",
       "  <tbody>\n",
       "    <tr>\n",
       "      <th>11368</th>\n",
       "      <td>11368</td>\n",
       "      <td>0.957243</td>\n",
       "      <td>blocks.9.attn.hook_z.hook_sae_acts_post</td>\n",
       "      <td>9</td>\n",
       "      <td>attn</td>\n",
       "    </tr>\n",
       "    <tr>\n",
       "      <th>3849</th>\n",
       "      <td>3849</td>\n",
       "      <td>0.935761</td>\n",
       "      <td>blocks.10.attn.hook_z.hook_sae_acts_post</td>\n",
       "      <td>10</td>\n",
       "      <td>attn</td>\n",
       "    </tr>\n",
       "    <tr>\n",
       "      <th>16513</th>\n",
       "      <td>16513</td>\n",
       "      <td>0.858569</td>\n",
       "      <td>blocks.8.attn.hook_z.hook_sae_acts_post</td>\n",
       "      <td>8</td>\n",
       "      <td>attn</td>\n",
       "    </tr>\n",
       "    <tr>\n",
       "      <th>17410</th>\n",
       "      <td>17410</td>\n",
       "      <td>0.454890</td>\n",
       "      <td>blocks.6.attn.hook_z.hook_sae_acts_post</td>\n",
       "      <td>6</td>\n",
       "      <td>attn</td>\n",
       "    </tr>\n",
       "    <tr>\n",
       "      <th>13836</th>\n",
       "      <td>13836</td>\n",
       "      <td>0.361531</td>\n",
       "      <td>blocks.6.attn.hook_z.hook_sae_acts_post</td>\n",
       "      <td>6</td>\n",
       "      <td>attn</td>\n",
       "    </tr>\n",
       "  </tbody>\n",
       "</table>\n",
       "</div>"
      ],
      "text/plain": [
       "       feature_idx  total_node_attrib  \\\n",
       "11368        11368           0.957243   \n",
       "3849          3849           0.935761   \n",
       "16513        16513           0.858569   \n",
       "17410        17410           0.454890   \n",
       "13836        13836           0.361531   \n",
       "\n",
       "                                       act_name  layer module_type  \n",
       "11368   blocks.9.attn.hook_z.hook_sae_acts_post      9        attn  \n",
       "3849   blocks.10.attn.hook_z.hook_sae_acts_post     10        attn  \n",
       "16513   blocks.8.attn.hook_z.hook_sae_acts_post      8        attn  \n",
       "17410   blocks.6.attn.hook_z.hook_sae_acts_post      6        attn  \n",
       "13836   blocks.6.attn.hook_z.hook_sae_acts_post      6        attn  "
      ]
     },
     "execution_count": 24,
     "metadata": {},
     "output_type": "execute_result"
    }
   ],
   "source": [
    "k = 100\n",
    "top_k_nodes = df.sort_values('total_node_attrib', ascending = False).head(k)\n",
    "top_k_nodes.head()"
   ]
  },
  {
   "cell_type": "code",
   "execution_count": 31,
   "metadata": {},
   "outputs": [],
   "source": [
    "# Print the neuronpedia links\n",
    "\n",
    "module_type_to_sae_set = {\n",
    "    \"attn\": \"att-kk\",\n",
    "    \"mlp\": \"tres-dc\"\n",
    "}\n",
    "\n",
    "def print_neuronpedia_links(df):\n",
    "    for index, row in df.iterrows():\n",
    "        layer = row['layer']\n",
    "        feature_idx = row['feature_idx']\n",
    "        sae_set = module_type_to_sae_set[row['module_type']]\n",
    "        print(row, get_neuronpedia_link(layer, feature_idx, sae_set))"
   ]
  },
  {
   "cell_type": "code",
   "execution_count": 30,
   "metadata": {},
   "outputs": [
    {
     "name": "stdout",
     "output_type": "stream",
     "text": [
      "feature_idx                                            11368\n",
      "total_node_attrib                                   0.957243\n",
      "act_name             blocks.9.attn.hook_z.hook_sae_acts_post\n",
      "layer                                                      9\n",
      "module_type                                             attn\n",
      "Name: 11368, dtype: object https://www.neuronpedia.org/gpt2-small/9-att-kk/11368\n",
      "feature_idx                                              3849\n",
      "total_node_attrib                                    0.935761\n",
      "act_name             blocks.10.attn.hook_z.hook_sae_acts_post\n",
      "layer                                                      10\n",
      "module_type                                              attn\n",
      "Name: 3849, dtype: object https://www.neuronpedia.org/gpt2-small/10-att-kk/3849\n",
      "feature_idx                                            16513\n",
      "total_node_attrib                                   0.858569\n",
      "act_name             blocks.8.attn.hook_z.hook_sae_acts_post\n",
      "layer                                                      8\n",
      "module_type                                             attn\n",
      "Name: 16513, dtype: object https://www.neuronpedia.org/gpt2-small/8-att-kk/16513\n",
      "feature_idx                                            17410\n",
      "total_node_attrib                                    0.45489\n",
      "act_name             blocks.6.attn.hook_z.hook_sae_acts_post\n",
      "layer                                                      6\n",
      "module_type                                             attn\n",
      "Name: 17410, dtype: object https://www.neuronpedia.org/gpt2-small/6-att-kk/17410\n",
      "feature_idx                                            13836\n",
      "total_node_attrib                                   0.361531\n",
      "act_name             blocks.6.attn.hook_z.hook_sae_acts_post\n",
      "layer                                                      6\n",
      "module_type                                             attn\n",
      "Name: 13836, dtype: object https://www.neuronpedia.org/gpt2-small/6-att-kk/13836\n",
      "feature_idx                                               17431\n",
      "total_node_attrib                                       0.34026\n",
      "act_name             blocks.3.mlp.transcoder.hook_sae_acts_post\n",
      "layer                                                         3\n",
      "module_type                                                 mlp\n",
      "Name: 17431, dtype: object https://www.neuronpedia.org/gpt2-small/3-tres-dc/17431\n",
      "feature_idx                                               15447\n",
      "total_node_attrib                                      0.323928\n",
      "act_name             blocks.0.mlp.transcoder.hook_sae_acts_post\n",
      "layer                                                         0\n",
      "module_type                                                 mlp\n",
      "Name: 15447, dtype: object https://www.neuronpedia.org/gpt2-small/0-tres-dc/15447\n",
      "feature_idx                                             7515\n",
      "total_node_attrib                                   0.252299\n",
      "act_name             blocks.5.attn.hook_z.hook_sae_acts_post\n",
      "layer                                                      5\n",
      "module_type                                             attn\n",
      "Name: 7515, dtype: object https://www.neuronpedia.org/gpt2-small/5-att-kk/7515\n",
      "feature_idx                                                5913\n",
      "total_node_attrib                                      0.245375\n",
      "act_name             blocks.1.mlp.transcoder.hook_sae_acts_post\n",
      "layer                                                         1\n",
      "module_type                                                 mlp\n",
      "Name: 5913, dtype: object https://www.neuronpedia.org/gpt2-small/1-tres-dc/5913\n",
      "feature_idx                                               15094\n",
      "total_node_attrib                                      0.240358\n",
      "act_name             blocks.5.mlp.transcoder.hook_sae_acts_post\n",
      "layer                                                         5\n",
      "module_type                                                 mlp\n",
      "Name: 15094, dtype: object https://www.neuronpedia.org/gpt2-small/5-tres-dc/15094\n",
      "feature_idx                                             2390\n",
      "total_node_attrib                                   0.226074\n",
      "act_name             blocks.8.attn.hook_z.hook_sae_acts_post\n",
      "layer                                                      8\n",
      "module_type                                             attn\n",
      "Name: 2390, dtype: object https://www.neuronpedia.org/gpt2-small/8-att-kk/2390\n",
      "feature_idx                                                6769\n",
      "total_node_attrib                                      0.208089\n",
      "act_name             blocks.4.mlp.transcoder.hook_sae_acts_post\n",
      "layer                                                         4\n",
      "module_type                                                 mlp\n",
      "Name: 6769, dtype: object https://www.neuronpedia.org/gpt2-small/4-tres-dc/6769\n",
      "feature_idx                                                23082\n",
      "total_node_attrib                                       0.183062\n",
      "act_name             blocks.11.mlp.transcoder.hook_sae_acts_post\n",
      "layer                                                         11\n",
      "module_type                                                  mlp\n",
      "Name: 23082, dtype: object https://www.neuronpedia.org/gpt2-small/11-tres-dc/23082\n",
      "feature_idx                                            17232\n",
      "total_node_attrib                                   0.167236\n",
      "act_name             blocks.8.attn.hook_z.hook_sae_acts_post\n",
      "layer                                                      8\n",
      "module_type                                             attn\n",
      "Name: 17232, dtype: object https://www.neuronpedia.org/gpt2-small/8-att-kk/17232\n",
      "feature_idx                                                23047\n",
      "total_node_attrib                                       0.155168\n",
      "act_name             blocks.10.mlp.transcoder.hook_sae_acts_post\n",
      "layer                                                         10\n",
      "module_type                                                  mlp\n",
      "Name: 23047, dtype: object https://www.neuronpedia.org/gpt2-small/10-tres-dc/23047\n",
      "feature_idx                                                3104\n",
      "total_node_attrib                                      0.154527\n",
      "act_name             blocks.3.mlp.transcoder.hook_sae_acts_post\n",
      "layer                                                         3\n",
      "module_type                                                 mlp\n",
      "Name: 3104, dtype: object https://www.neuronpedia.org/gpt2-small/3-tres-dc/3104\n",
      "feature_idx                                               13544\n",
      "total_node_attrib                                       0.13924\n",
      "act_name             blocks.9.mlp.transcoder.hook_sae_acts_post\n",
      "layer                                                         9\n",
      "module_type                                                 mlp\n",
      "Name: 13544, dtype: object https://www.neuronpedia.org/gpt2-small/9-tres-dc/13544\n",
      "feature_idx                                               22520\n",
      "total_node_attrib                                      0.131482\n",
      "act_name             blocks.4.mlp.transcoder.hook_sae_acts_post\n",
      "layer                                                         4\n",
      "module_type                                                 mlp\n",
      "Name: 22520, dtype: object https://www.neuronpedia.org/gpt2-small/4-tres-dc/22520\n",
      "feature_idx                                             3977\n",
      "total_node_attrib                                   0.117094\n",
      "act_name             blocks.4.attn.hook_z.hook_sae_acts_post\n",
      "layer                                                      4\n",
      "module_type                                             attn\n",
      "Name: 3977, dtype: object https://www.neuronpedia.org/gpt2-small/4-att-kk/3977\n",
      "feature_idx                                                9632\n",
      "total_node_attrib                                      0.116123\n",
      "act_name             blocks.5.mlp.transcoder.hook_sae_acts_post\n",
      "layer                                                         5\n",
      "module_type                                                 mlp\n",
      "Name: 9632, dtype: object https://www.neuronpedia.org/gpt2-small/5-tres-dc/9632\n",
      "feature_idx                                            29482\n",
      "total_node_attrib                                   0.110945\n",
      "act_name             blocks.5.attn.hook_z.hook_sae_acts_post\n",
      "layer                                                      5\n",
      "module_type                                             attn\n",
      "Name: 29482, dtype: object https://www.neuronpedia.org/gpt2-small/5-att-kk/29482\n",
      "feature_idx                                            13877\n",
      "total_node_attrib                                    0.09808\n",
      "act_name             blocks.4.attn.hook_z.hook_sae_acts_post\n",
      "layer                                                      4\n",
      "module_type                                             attn\n",
      "Name: 13877, dtype: object https://www.neuronpedia.org/gpt2-small/4-att-kk/13877\n",
      "feature_idx                                                7897\n",
      "total_node_attrib                                      0.097946\n",
      "act_name             blocks.2.mlp.transcoder.hook_sae_acts_post\n",
      "layer                                                         2\n",
      "module_type                                                 mlp\n",
      "Name: 7897, dtype: object https://www.neuronpedia.org/gpt2-small/2-tres-dc/7897\n",
      "feature_idx                                             3363\n",
      "total_node_attrib                                   0.090035\n",
      "act_name             blocks.3.attn.hook_z.hook_sae_acts_post\n",
      "layer                                                      3\n",
      "module_type                                             attn\n",
      "Name: 3363, dtype: object https://www.neuronpedia.org/gpt2-small/3-att-kk/3363\n",
      "feature_idx                                            47569\n",
      "total_node_attrib                                   0.089518\n",
      "act_name             blocks.7.attn.hook_z.hook_sae_acts_post\n",
      "layer                                                      7\n",
      "module_type                                             attn\n",
      "Name: 47569, dtype: object https://www.neuronpedia.org/gpt2-small/7-att-kk/47569\n",
      "feature_idx                                            24728\n",
      "total_node_attrib                                   0.086891\n",
      "act_name             blocks.7.attn.hook_z.hook_sae_acts_post\n",
      "layer                                                      7\n",
      "module_type                                             attn\n",
      "Name: 24728, dtype: object https://www.neuronpedia.org/gpt2-small/7-att-kk/24728\n",
      "feature_idx                                            38313\n",
      "total_node_attrib                                   0.086335\n",
      "act_name             blocks.7.attn.hook_z.hook_sae_acts_post\n",
      "layer                                                      7\n",
      "module_type                                             attn\n",
      "Name: 38313, dtype: object https://www.neuronpedia.org/gpt2-small/7-att-kk/38313\n",
      "feature_idx                                             8489\n",
      "total_node_attrib                                   0.082625\n",
      "act_name             blocks.8.attn.hook_z.hook_sae_acts_post\n",
      "layer                                                      8\n",
      "module_type                                             attn\n",
      "Name: 8489, dtype: object https://www.neuronpedia.org/gpt2-small/8-att-kk/8489\n",
      "feature_idx                                            36451\n",
      "total_node_attrib                                   0.079158\n",
      "act_name             blocks.5.attn.hook_z.hook_sae_acts_post\n",
      "layer                                                      5\n",
      "module_type                                             attn\n",
      "Name: 36451, dtype: object https://www.neuronpedia.org/gpt2-small/5-att-kk/36451\n",
      "feature_idx                                               10087\n",
      "total_node_attrib                                      0.079123\n",
      "act_name             blocks.8.mlp.transcoder.hook_sae_acts_post\n",
      "layer                                                         8\n",
      "module_type                                                 mlp\n",
      "Name: 10087, dtype: object https://www.neuronpedia.org/gpt2-small/8-tres-dc/10087\n",
      "feature_idx                                               17180\n",
      "total_node_attrib                                      0.076083\n",
      "act_name             blocks.4.mlp.transcoder.hook_sae_acts_post\n",
      "layer                                                         4\n",
      "module_type                                                 mlp\n",
      "Name: 17180, dtype: object https://www.neuronpedia.org/gpt2-small/4-tres-dc/17180\n",
      "feature_idx                                            27535\n",
      "total_node_attrib                                   0.075822\n",
      "act_name             blocks.5.attn.hook_z.hook_sae_acts_post\n",
      "layer                                                      5\n",
      "module_type                                             attn\n",
      "Name: 27535, dtype: object https://www.neuronpedia.org/gpt2-small/5-att-kk/27535\n",
      "feature_idx                                                2068\n",
      "total_node_attrib                                      0.072915\n",
      "act_name             blocks.5.mlp.transcoder.hook_sae_acts_post\n",
      "layer                                                         5\n",
      "module_type                                                 mlp\n",
      "Name: 2068, dtype: object https://www.neuronpedia.org/gpt2-small/5-tres-dc/2068\n",
      "feature_idx                                              5731\n",
      "total_node_attrib                                    0.072868\n",
      "act_name             blocks.10.attn.hook_z.hook_sae_acts_post\n",
      "layer                                                      10\n",
      "module_type                                              attn\n",
      "Name: 5731, dtype: object https://www.neuronpedia.org/gpt2-small/10-att-kk/5731\n",
      "feature_idx                                              827\n",
      "total_node_attrib                                   0.071318\n",
      "act_name             blocks.0.attn.hook_z.hook_sae_acts_post\n",
      "layer                                                      0\n",
      "module_type                                             attn\n",
      "Name: 827, dtype: object https://www.neuronpedia.org/gpt2-small/0-att-kk/827\n",
      "feature_idx                                             5186\n",
      "total_node_attrib                                   0.068296\n",
      "act_name             blocks.7.attn.hook_z.hook_sae_acts_post\n",
      "layer                                                      7\n",
      "module_type                                             attn\n",
      "Name: 5186, dtype: object https://www.neuronpedia.org/gpt2-small/7-att-kk/5186\n",
      "feature_idx                                               12820\n",
      "total_node_attrib                                       0.06746\n",
      "act_name             blocks.1.mlp.transcoder.hook_sae_acts_post\n",
      "layer                                                         1\n",
      "module_type                                                 mlp\n",
      "Name: 12820, dtype: object https://www.neuronpedia.org/gpt2-small/1-tres-dc/12820\n",
      "feature_idx                                             4178\n",
      "total_node_attrib                                   0.066801\n",
      "act_name             blocks.6.attn.hook_z.hook_sae_acts_post\n",
      "layer                                                      6\n",
      "module_type                                             attn\n",
      "Name: 4178, dtype: object https://www.neuronpedia.org/gpt2-small/6-att-kk/4178\n",
      "feature_idx                                                 697\n",
      "total_node_attrib                                      0.066736\n",
      "act_name             blocks.3.mlp.transcoder.hook_sae_acts_post\n",
      "layer                                                         3\n",
      "module_type                                                 mlp\n",
      "Name: 697, dtype: object https://www.neuronpedia.org/gpt2-small/3-tres-dc/697\n",
      "feature_idx                                               10204\n",
      "total_node_attrib                                      0.066048\n",
      "act_name             blocks.6.mlp.transcoder.hook_sae_acts_post\n",
      "layer                                                         6\n",
      "module_type                                                 mlp\n",
      "Name: 10204, dtype: object https://www.neuronpedia.org/gpt2-small/6-tres-dc/10204\n",
      "feature_idx                                            33240\n",
      "total_node_attrib                                   0.065022\n",
      "act_name             blocks.5.attn.hook_z.hook_sae_acts_post\n",
      "layer                                                      5\n",
      "module_type                                             attn\n",
      "Name: 33240, dtype: object https://www.neuronpedia.org/gpt2-small/5-att-kk/33240\n",
      "feature_idx                                            10364\n",
      "total_node_attrib                                   0.064221\n",
      "act_name             blocks.3.attn.hook_z.hook_sae_acts_post\n",
      "layer                                                      3\n",
      "module_type                                             attn\n",
      "Name: 10364, dtype: object https://www.neuronpedia.org/gpt2-small/3-att-kk/10364\n",
      "feature_idx                                             14702\n",
      "total_node_attrib                                    0.063193\n",
      "act_name             blocks.11.attn.hook_z.hook_sae_acts_post\n",
      "layer                                                      11\n",
      "module_type                                              attn\n",
      "Name: 14702, dtype: object https://www.neuronpedia.org/gpt2-small/11-att-kk/14702\n",
      "feature_idx                                            35667\n",
      "total_node_attrib                                    0.06142\n",
      "act_name             blocks.7.attn.hook_z.hook_sae_acts_post\n",
      "layer                                                      7\n",
      "module_type                                             attn\n",
      "Name: 35667, dtype: object https://www.neuronpedia.org/gpt2-small/7-att-kk/35667\n",
      "feature_idx                                            34396\n",
      "total_node_attrib                                   0.059516\n",
      "act_name             blocks.7.attn.hook_z.hook_sae_acts_post\n",
      "layer                                                      7\n",
      "module_type                                             attn\n",
      "Name: 34396, dtype: object https://www.neuronpedia.org/gpt2-small/7-att-kk/34396\n",
      "feature_idx                                               16880\n",
      "total_node_attrib                                      0.059505\n",
      "act_name             blocks.3.mlp.transcoder.hook_sae_acts_post\n",
      "layer                                                         3\n",
      "module_type                                                 mlp\n",
      "Name: 16880, dtype: object https://www.neuronpedia.org/gpt2-small/3-tres-dc/16880\n",
      "feature_idx                                               16834\n",
      "total_node_attrib                                      0.059346\n",
      "act_name             blocks.0.mlp.transcoder.hook_sae_acts_post\n",
      "layer                                                         0\n",
      "module_type                                                 mlp\n",
      "Name: 16834, dtype: object https://www.neuronpedia.org/gpt2-small/0-tres-dc/16834\n",
      "feature_idx                                            45093\n",
      "total_node_attrib                                   0.057267\n",
      "act_name             blocks.7.attn.hook_z.hook_sae_acts_post\n",
      "layer                                                      7\n",
      "module_type                                             attn\n",
      "Name: 45093, dtype: object https://www.neuronpedia.org/gpt2-small/7-att-kk/45093\n",
      "feature_idx                                            15015\n",
      "total_node_attrib                                   0.057229\n",
      "act_name             blocks.2.attn.hook_z.hook_sae_acts_post\n",
      "layer                                                      2\n",
      "module_type                                             attn\n",
      "Name: 15015, dtype: object https://www.neuronpedia.org/gpt2-small/2-att-kk/15015\n",
      "feature_idx                                            21012\n",
      "total_node_attrib                                    0.05649\n",
      "act_name             blocks.4.attn.hook_z.hook_sae_acts_post\n",
      "layer                                                      4\n",
      "module_type                                             attn\n",
      "Name: 21012, dtype: object https://www.neuronpedia.org/gpt2-small/4-att-kk/21012\n",
      "feature_idx                                                9019\n",
      "total_node_attrib                                      0.056198\n",
      "act_name             blocks.5.mlp.transcoder.hook_sae_acts_post\n",
      "layer                                                         5\n",
      "module_type                                                 mlp\n",
      "Name: 9019, dtype: object https://www.neuronpedia.org/gpt2-small/5-tres-dc/9019\n",
      "feature_idx                                             6424\n",
      "total_node_attrib                                   0.054626\n",
      "act_name             blocks.8.attn.hook_z.hook_sae_acts_post\n",
      "layer                                                      8\n",
      "module_type                                             attn\n",
      "Name: 6424, dtype: object https://www.neuronpedia.org/gpt2-small/8-att-kk/6424\n",
      "feature_idx                                                1396\n",
      "total_node_attrib                                      0.050265\n",
      "act_name             blocks.5.mlp.transcoder.hook_sae_acts_post\n",
      "layer                                                         5\n",
      "module_type                                                 mlp\n",
      "Name: 1396, dtype: object https://www.neuronpedia.org/gpt2-small/5-tres-dc/1396\n",
      "feature_idx                                               18293\n",
      "total_node_attrib                                       0.04879\n",
      "act_name             blocks.0.mlp.transcoder.hook_sae_acts_post\n",
      "layer                                                         0\n",
      "module_type                                                 mlp\n",
      "Name: 18293, dtype: object https://www.neuronpedia.org/gpt2-small/0-tres-dc/18293\n",
      "feature_idx                                             1629\n",
      "total_node_attrib                                   0.048261\n",
      "act_name             blocks.8.attn.hook_z.hook_sae_acts_post\n",
      "layer                                                      8\n",
      "module_type                                             attn\n",
      "Name: 1629, dtype: object https://www.neuronpedia.org/gpt2-small/8-att-kk/1629\n",
      "feature_idx                                             3829\n",
      "total_node_attrib                                   0.046332\n",
      "act_name             blocks.7.attn.hook_z.hook_sae_acts_post\n",
      "layer                                                      7\n",
      "module_type                                             attn\n",
      "Name: 3829, dtype: object https://www.neuronpedia.org/gpt2-small/7-att-kk/3829\n",
      "feature_idx                                               18122\n",
      "total_node_attrib                                      0.045146\n",
      "act_name             blocks.9.mlp.transcoder.hook_sae_acts_post\n",
      "layer                                                         9\n",
      "module_type                                                 mlp\n",
      "Name: 18122, dtype: object https://www.neuronpedia.org/gpt2-small/9-tres-dc/18122\n",
      "feature_idx                                               16298\n",
      "total_node_attrib                                       0.04499\n",
      "act_name             blocks.4.mlp.transcoder.hook_sae_acts_post\n",
      "layer                                                         4\n",
      "module_type                                                 mlp\n",
      "Name: 16298, dtype: object https://www.neuronpedia.org/gpt2-small/4-tres-dc/16298\n",
      "feature_idx                                            17242\n",
      "total_node_attrib                                   0.044845\n",
      "act_name             blocks.0.attn.hook_z.hook_sae_acts_post\n",
      "layer                                                      0\n",
      "module_type                                             attn\n",
      "Name: 17242, dtype: object https://www.neuronpedia.org/gpt2-small/0-att-kk/17242\n",
      "feature_idx                                             23252\n",
      "total_node_attrib                                    0.043638\n",
      "act_name             blocks.11.attn.hook_z.hook_sae_acts_post\n",
      "layer                                                      11\n",
      "module_type                                              attn\n",
      "Name: 23252, dtype: object https://www.neuronpedia.org/gpt2-small/11-att-kk/23252\n",
      "feature_idx                                                  782\n",
      "total_node_attrib                                       0.043434\n",
      "act_name             blocks.10.mlp.transcoder.hook_sae_acts_post\n",
      "layer                                                         10\n",
      "module_type                                                  mlp\n",
      "Name: 782, dtype: object https://www.neuronpedia.org/gpt2-small/10-tres-dc/782\n",
      "feature_idx                                                13947\n",
      "total_node_attrib                                       0.042778\n",
      "act_name             blocks.10.mlp.transcoder.hook_sae_acts_post\n",
      "layer                                                         10\n",
      "module_type                                                  mlp\n",
      "Name: 13947, dtype: object https://www.neuronpedia.org/gpt2-small/10-tres-dc/13947\n",
      "feature_idx                                              8096\n",
      "total_node_attrib                                      0.0426\n",
      "act_name             blocks.11.attn.hook_z.hook_sae_acts_post\n",
      "layer                                                      11\n",
      "module_type                                              attn\n",
      "Name: 8096, dtype: object https://www.neuronpedia.org/gpt2-small/11-att-kk/8096\n",
      "feature_idx                                            10581\n",
      "total_node_attrib                                   0.042139\n",
      "act_name             blocks.5.attn.hook_z.hook_sae_acts_post\n",
      "layer                                                      5\n",
      "module_type                                             attn\n",
      "Name: 10581, dtype: object https://www.neuronpedia.org/gpt2-small/5-att-kk/10581\n",
      "feature_idx                                               11264\n",
      "total_node_attrib                                      0.041624\n",
      "act_name             blocks.6.mlp.transcoder.hook_sae_acts_post\n",
      "layer                                                         6\n",
      "module_type                                                 mlp\n",
      "Name: 11264, dtype: object https://www.neuronpedia.org/gpt2-small/6-tres-dc/11264\n",
      "feature_idx                                            46880\n",
      "total_node_attrib                                   0.041527\n",
      "act_name             blocks.5.attn.hook_z.hook_sae_acts_post\n",
      "layer                                                      5\n",
      "module_type                                             attn\n",
      "Name: 46880, dtype: object https://www.neuronpedia.org/gpt2-small/5-att-kk/46880\n",
      "feature_idx                                                  91\n",
      "total_node_attrib                                       0.04008\n",
      "act_name             blocks.3.mlp.transcoder.hook_sae_acts_post\n",
      "layer                                                         3\n",
      "module_type                                                 mlp\n",
      "Name: 91, dtype: object https://www.neuronpedia.org/gpt2-small/3-tres-dc/91\n",
      "feature_idx                                            21151\n",
      "total_node_attrib                                   0.040066\n",
      "act_name             blocks.5.attn.hook_z.hook_sae_acts_post\n",
      "layer                                                      5\n",
      "module_type                                             attn\n",
      "Name: 21151, dtype: object https://www.neuronpedia.org/gpt2-small/5-att-kk/21151\n",
      "feature_idx                                                5272\n",
      "total_node_attrib                                      0.039694\n",
      "act_name             blocks.6.mlp.transcoder.hook_sae_acts_post\n",
      "layer                                                         6\n",
      "module_type                                                 mlp\n",
      "Name: 5272, dtype: object https://www.neuronpedia.org/gpt2-small/6-tres-dc/5272\n",
      "feature_idx                                            10137\n",
      "total_node_attrib                                   0.039651\n",
      "act_name             blocks.3.attn.hook_z.hook_sae_acts_post\n",
      "layer                                                      3\n",
      "module_type                                             attn\n",
      "Name: 10137, dtype: object https://www.neuronpedia.org/gpt2-small/3-att-kk/10137\n",
      "feature_idx                                                6128\n",
      "total_node_attrib                                      0.039598\n",
      "act_name             blocks.7.mlp.transcoder.hook_sae_acts_post\n",
      "layer                                                         7\n",
      "module_type                                                 mlp\n",
      "Name: 6128, dtype: object https://www.neuronpedia.org/gpt2-small/7-tres-dc/6128\n",
      "feature_idx                                               24013\n",
      "total_node_attrib                                      0.039483\n",
      "act_name             blocks.4.mlp.transcoder.hook_sae_acts_post\n",
      "layer                                                         4\n",
      "module_type                                                 mlp\n",
      "Name: 24013, dtype: object https://www.neuronpedia.org/gpt2-small/4-tres-dc/24013\n",
      "feature_idx                                              7500\n",
      "total_node_attrib                                    0.039105\n",
      "act_name             blocks.10.attn.hook_z.hook_sae_acts_post\n",
      "layer                                                      10\n",
      "module_type                                              attn\n",
      "Name: 7500, dtype: object https://www.neuronpedia.org/gpt2-small/10-att-kk/7500\n",
      "feature_idx                                               13565\n",
      "total_node_attrib                                      0.038943\n",
      "act_name             blocks.9.mlp.transcoder.hook_sae_acts_post\n",
      "layer                                                         9\n",
      "module_type                                                 mlp\n",
      "Name: 13565, dtype: object https://www.neuronpedia.org/gpt2-small/9-tres-dc/13565\n",
      "feature_idx                                                 5633\n",
      "total_node_attrib                                       0.038472\n",
      "act_name             blocks.10.mlp.transcoder.hook_sae_acts_post\n",
      "layer                                                         10\n",
      "module_type                                                  mlp\n",
      "Name: 5633, dtype: object https://www.neuronpedia.org/gpt2-small/10-tres-dc/5633\n",
      "feature_idx                                             3147\n",
      "total_node_attrib                                   0.038229\n",
      "act_name             blocks.7.attn.hook_z.hook_sae_acts_post\n",
      "layer                                                      7\n",
      "module_type                                             attn\n",
      "Name: 3147, dtype: object https://www.neuronpedia.org/gpt2-small/7-att-kk/3147\n",
      "feature_idx                                            45333\n",
      "total_node_attrib                                   0.038005\n",
      "act_name             blocks.7.attn.hook_z.hook_sae_acts_post\n",
      "layer                                                      7\n",
      "module_type                                             attn\n",
      "Name: 45333, dtype: object https://www.neuronpedia.org/gpt2-small/7-att-kk/45333\n",
      "feature_idx                                            19991\n",
      "total_node_attrib                                    0.03771\n",
      "act_name             blocks.2.attn.hook_z.hook_sae_acts_post\n",
      "layer                                                      2\n",
      "module_type                                             attn\n",
      "Name: 19991, dtype: object https://www.neuronpedia.org/gpt2-small/2-att-kk/19991\n",
      "feature_idx                                               15151\n",
      "total_node_attrib                                      0.037387\n",
      "act_name             blocks.2.mlp.transcoder.hook_sae_acts_post\n",
      "layer                                                         2\n",
      "module_type                                                 mlp\n",
      "Name: 15151, dtype: object https://www.neuronpedia.org/gpt2-small/2-tres-dc/15151\n",
      "feature_idx                                               23774\n",
      "total_node_attrib                                      0.037379\n",
      "act_name             blocks.4.mlp.transcoder.hook_sae_acts_post\n",
      "layer                                                         4\n",
      "module_type                                                 mlp\n",
      "Name: 23774, dtype: object https://www.neuronpedia.org/gpt2-small/4-tres-dc/23774\n",
      "feature_idx                                                4384\n",
      "total_node_attrib                                       0.03577\n",
      "act_name             blocks.7.mlp.transcoder.hook_sae_acts_post\n",
      "layer                                                         7\n",
      "module_type                                                 mlp\n",
      "Name: 4384, dtype: object https://www.neuronpedia.org/gpt2-small/7-tres-dc/4384\n",
      "feature_idx                                            39659\n",
      "total_node_attrib                                   0.035554\n",
      "act_name             blocks.7.attn.hook_z.hook_sae_acts_post\n",
      "layer                                                      7\n",
      "module_type                                             attn\n",
      "Name: 39659, dtype: object https://www.neuronpedia.org/gpt2-small/7-att-kk/39659\n",
      "feature_idx                                               22416\n",
      "total_node_attrib                                      0.034936\n",
      "act_name             blocks.0.mlp.transcoder.hook_sae_acts_post\n",
      "layer                                                         0\n",
      "module_type                                                 mlp\n",
      "Name: 22416, dtype: object https://www.neuronpedia.org/gpt2-small/0-tres-dc/22416\n",
      "feature_idx                                                7313\n",
      "total_node_attrib                                      0.034863\n",
      "act_name             blocks.3.mlp.transcoder.hook_sae_acts_post\n",
      "layer                                                         3\n",
      "module_type                                                 mlp\n",
      "Name: 7313, dtype: object https://www.neuronpedia.org/gpt2-small/3-tres-dc/7313\n",
      "feature_idx                                                6947\n",
      "total_node_attrib                                      0.034575\n",
      "act_name             blocks.4.mlp.transcoder.hook_sae_acts_post\n",
      "layer                                                         4\n",
      "module_type                                                 mlp\n",
      "Name: 6947, dtype: object https://www.neuronpedia.org/gpt2-small/4-tres-dc/6947\n",
      "feature_idx                                                5395\n",
      "total_node_attrib                                      0.034037\n",
      "act_name             blocks.4.mlp.transcoder.hook_sae_acts_post\n",
      "layer                                                         4\n",
      "module_type                                                 mlp\n",
      "Name: 5395, dtype: object https://www.neuronpedia.org/gpt2-small/4-tres-dc/5395\n",
      "feature_idx                                                 8470\n",
      "total_node_attrib                                       0.033885\n",
      "act_name             blocks.10.mlp.transcoder.hook_sae_acts_post\n",
      "layer                                                         10\n",
      "module_type                                                  mlp\n",
      "Name: 8470, dtype: object https://www.neuronpedia.org/gpt2-small/10-tres-dc/8470\n",
      "feature_idx                                             5580\n",
      "total_node_attrib                                   0.033844\n",
      "act_name             blocks.8.attn.hook_z.hook_sae_acts_post\n",
      "layer                                                      8\n",
      "module_type                                             attn\n",
      "Name: 5580, dtype: object https://www.neuronpedia.org/gpt2-small/8-att-kk/5580\n",
      "feature_idx                                               15037\n",
      "total_node_attrib                                      0.033755\n",
      "act_name             blocks.6.mlp.transcoder.hook_sae_acts_post\n",
      "layer                                                         6\n",
      "module_type                                                 mlp\n",
      "Name: 15037, dtype: object https://www.neuronpedia.org/gpt2-small/6-tres-dc/15037\n",
      "feature_idx                                               20813\n",
      "total_node_attrib                                       0.03309\n",
      "act_name             blocks.6.mlp.transcoder.hook_sae_acts_post\n",
      "layer                                                         6\n",
      "module_type                                                 mlp\n",
      "Name: 20813, dtype: object https://www.neuronpedia.org/gpt2-small/6-tres-dc/20813\n",
      "feature_idx                                               10760\n",
      "total_node_attrib                                      0.032825\n",
      "act_name             blocks.8.mlp.transcoder.hook_sae_acts_post\n",
      "layer                                                         8\n",
      "module_type                                                 mlp\n",
      "Name: 10760, dtype: object https://www.neuronpedia.org/gpt2-small/8-tres-dc/10760\n",
      "feature_idx                                                3006\n",
      "total_node_attrib                                       0.03262\n",
      "act_name             blocks.3.mlp.transcoder.hook_sae_acts_post\n",
      "layer                                                         3\n",
      "module_type                                                 mlp\n",
      "Name: 3006, dtype: object https://www.neuronpedia.org/gpt2-small/3-tres-dc/3006\n",
      "feature_idx                                               23426\n",
      "total_node_attrib                                      0.032372\n",
      "act_name             blocks.3.mlp.transcoder.hook_sae_acts_post\n",
      "layer                                                         3\n",
      "module_type                                                 mlp\n",
      "Name: 23426, dtype: object https://www.neuronpedia.org/gpt2-small/3-tres-dc/23426\n",
      "feature_idx                                               17305\n",
      "total_node_attrib                                      0.031712\n",
      "act_name             blocks.5.mlp.transcoder.hook_sae_acts_post\n",
      "layer                                                         5\n",
      "module_type                                                 mlp\n",
      "Name: 17305, dtype: object https://www.neuronpedia.org/gpt2-small/5-tres-dc/17305\n",
      "feature_idx                                            19248\n",
      "total_node_attrib                                   0.031671\n",
      "act_name             blocks.8.attn.hook_z.hook_sae_acts_post\n",
      "layer                                                      8\n",
      "module_type                                             attn\n",
      "Name: 19248, dtype: object https://www.neuronpedia.org/gpt2-small/8-att-kk/19248\n",
      "feature_idx                                               21471\n",
      "total_node_attrib                                      0.031341\n",
      "act_name             blocks.0.mlp.transcoder.hook_sae_acts_post\n",
      "layer                                                         0\n",
      "module_type                                                 mlp\n",
      "Name: 21471, dtype: object https://www.neuronpedia.org/gpt2-small/0-tres-dc/21471\n",
      "feature_idx                                             2299\n",
      "total_node_attrib                                   0.031297\n",
      "act_name             blocks.8.attn.hook_z.hook_sae_acts_post\n",
      "layer                                                      8\n",
      "module_type                                             attn\n",
      "Name: 2299, dtype: object https://www.neuronpedia.org/gpt2-small/8-att-kk/2299\n",
      "feature_idx                                               20692\n",
      "total_node_attrib                                      0.031293\n",
      "act_name             blocks.2.mlp.transcoder.hook_sae_acts_post\n",
      "layer                                                         2\n",
      "module_type                                                 mlp\n",
      "Name: 20692, dtype: object https://www.neuronpedia.org/gpt2-small/2-tres-dc/20692\n",
      "feature_idx                                                3400\n",
      "total_node_attrib                                      0.030631\n",
      "act_name             blocks.5.mlp.transcoder.hook_sae_acts_post\n",
      "layer                                                         5\n",
      "module_type                                                 mlp\n",
      "Name: 3400, dtype: object https://www.neuronpedia.org/gpt2-small/5-tres-dc/3400\n",
      "feature_idx                                               12184\n",
      "total_node_attrib                                      0.030564\n",
      "act_name             blocks.0.mlp.transcoder.hook_sae_acts_post\n",
      "layer                                                         0\n",
      "module_type                                                 mlp\n",
      "Name: 12184, dtype: object https://www.neuronpedia.org/gpt2-small/0-tres-dc/12184\n"
     ]
    }
   ],
   "source": [
    "print_neuronpedia_links(top_k_nodes)"
   ]
  }
 ],
 "metadata": {
  "kernelspec": {
   "display_name": ".venv",
   "language": "python",
   "name": "python3"
  },
  "language_info": {
   "codemirror_mode": {
    "name": "ipython",
    "version": 3
   },
   "file_extension": ".py",
   "mimetype": "text/x-python",
   "name": "python",
   "nbconvert_exporter": "python",
   "pygments_lexer": "ipython3",
   "version": "3.11.9"
  }
 },
 "nbformat": 4,
 "nbformat_minor": 2
}
