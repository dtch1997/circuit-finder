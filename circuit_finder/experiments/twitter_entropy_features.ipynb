{
 "cells": [
  {
   "cell_type": "code",
   "execution_count": 1,
   "metadata": {},
   "outputs": [
    {
     "name": "stdout",
     "output_type": "stream",
     "text": [
      "[848, 849, 894, 1144, 1901, 1915, 1978, 2147, 2829, 3112, 3389, 3668, 4240, 4687, 4998, 5309, 5415, 6132, 6186, 6720, 7121, 7410, 7724, 7812, 7969, 8250, 8494, 9880, 9994, 10143, 11761, 11951, 11968, 12355, 12661, 12976, 13270, 15105, 15428, 16252, 16775, 17011, 17219, 17622, 17711, 19115, 19447, 20030, 20135, 20677, 21417, 21890, 21986, 22477, 22696, 23167]\n"
     ]
    }
   ],
   "source": [
    "import json\n",
    "\n",
    "with open('cluster_idx.json', 'r') as jsonfile:\n",
    "    cluster_idx = json.load(jsonfile)\n",
    "\n",
    "print(cluster_idx['1'])"
   ]
  },
  {
   "cell_type": "code",
   "execution_count": 2,
   "metadata": {},
   "outputs": [],
   "source": [
    "import sys\n",
    "sys.path.append(\"/home/daniel/ml_workspace/circuit-finder\")"
   ]
  },
  {
   "cell_type": "code",
   "execution_count": 3,
   "metadata": {},
   "outputs": [
    {
     "name": "stdout",
     "output_type": "stream",
     "text": [
      "https://neuronpedia.org/quick-list/?name=temporary_list&features=%5B%7B%22modelId%22%3A%20%22gpt2-small%22%2C%20%22layer%22%3A%20%2211-tres-dc%22%2C%20%22index%22%3A%20%22848%22%7D%2C%20%7B%22modelId%22%3A%20%22gpt2-small%22%2C%20%22layer%22%3A%20%2211-tres-dc%22%2C%20%22index%22%3A%20%22849%22%7D%2C%20%7B%22modelId%22%3A%20%22gpt2-small%22%2C%20%22layer%22%3A%20%2211-tres-dc%22%2C%20%22index%22%3A%20%22894%22%7D%2C%20%7B%22modelId%22%3A%20%22gpt2-small%22%2C%20%22layer%22%3A%20%2211-tres-dc%22%2C%20%22index%22%3A%20%221144%22%7D%2C%20%7B%22modelId%22%3A%20%22gpt2-small%22%2C%20%22layer%22%3A%20%2211-tres-dc%22%2C%20%22index%22%3A%20%221901%22%7D%2C%20%7B%22modelId%22%3A%20%22gpt2-small%22%2C%20%22layer%22%3A%20%2211-tres-dc%22%2C%20%22index%22%3A%20%221915%22%7D%2C%20%7B%22modelId%22%3A%20%22gpt2-small%22%2C%20%22layer%22%3A%20%2211-tres-dc%22%2C%20%22index%22%3A%20%221978%22%7D%2C%20%7B%22modelId%22%3A%20%22gpt2-small%22%2C%20%22layer%22%3A%20%2211-tres-dc%22%2C%20%22index%22%3A%20%222147%22%7D%2C%20%7B%22modelId%22%3A%20%22gpt2-small%22%2C%20%22layer%22%3A%20%2211-tres-dc%22%2C%20%22index%22%3A%20%222829%22%7D%2C%20%7B%22modelId%22%3A%20%22gpt2-small%22%2C%20%22layer%22%3A%20%2211-tres-dc%22%2C%20%22index%22%3A%20%223112%22%7D%2C%20%7B%22modelId%22%3A%20%22gpt2-small%22%2C%20%22layer%22%3A%20%2211-tres-dc%22%2C%20%22index%22%3A%20%223389%22%7D%2C%20%7B%22modelId%22%3A%20%22gpt2-small%22%2C%20%22layer%22%3A%20%2211-tres-dc%22%2C%20%22index%22%3A%20%223668%22%7D%2C%20%7B%22modelId%22%3A%20%22gpt2-small%22%2C%20%22layer%22%3A%20%2211-tres-dc%22%2C%20%22index%22%3A%20%224240%22%7D%2C%20%7B%22modelId%22%3A%20%22gpt2-small%22%2C%20%22layer%22%3A%20%2211-tres-dc%22%2C%20%22index%22%3A%20%224687%22%7D%2C%20%7B%22modelId%22%3A%20%22gpt2-small%22%2C%20%22layer%22%3A%20%2211-tres-dc%22%2C%20%22index%22%3A%20%224998%22%7D%2C%20%7B%22modelId%22%3A%20%22gpt2-small%22%2C%20%22layer%22%3A%20%2211-tres-dc%22%2C%20%22index%22%3A%20%225309%22%7D%2C%20%7B%22modelId%22%3A%20%22gpt2-small%22%2C%20%22layer%22%3A%20%2211-tres-dc%22%2C%20%22index%22%3A%20%225415%22%7D%2C%20%7B%22modelId%22%3A%20%22gpt2-small%22%2C%20%22layer%22%3A%20%2211-tres-dc%22%2C%20%22index%22%3A%20%226132%22%7D%2C%20%7B%22modelId%22%3A%20%22gpt2-small%22%2C%20%22layer%22%3A%20%2211-tres-dc%22%2C%20%22index%22%3A%20%226186%22%7D%2C%20%7B%22modelId%22%3A%20%22gpt2-small%22%2C%20%22layer%22%3A%20%2211-tres-dc%22%2C%20%22index%22%3A%20%226720%22%7D%2C%20%7B%22modelId%22%3A%20%22gpt2-small%22%2C%20%22layer%22%3A%20%2211-tres-dc%22%2C%20%22index%22%3A%20%227121%22%7D%2C%20%7B%22modelId%22%3A%20%22gpt2-small%22%2C%20%22layer%22%3A%20%2211-tres-dc%22%2C%20%22index%22%3A%20%227410%22%7D%2C%20%7B%22modelId%22%3A%20%22gpt2-small%22%2C%20%22layer%22%3A%20%2211-tres-dc%22%2C%20%22index%22%3A%20%227724%22%7D%2C%20%7B%22modelId%22%3A%20%22gpt2-small%22%2C%20%22layer%22%3A%20%2211-tres-dc%22%2C%20%22index%22%3A%20%227812%22%7D%2C%20%7B%22modelId%22%3A%20%22gpt2-small%22%2C%20%22layer%22%3A%20%2211-tres-dc%22%2C%20%22index%22%3A%20%227969%22%7D%2C%20%7B%22modelId%22%3A%20%22gpt2-small%22%2C%20%22layer%22%3A%20%2211-tres-dc%22%2C%20%22index%22%3A%20%228250%22%7D%2C%20%7B%22modelId%22%3A%20%22gpt2-small%22%2C%20%22layer%22%3A%20%2211-tres-dc%22%2C%20%22index%22%3A%20%228494%22%7D%2C%20%7B%22modelId%22%3A%20%22gpt2-small%22%2C%20%22layer%22%3A%20%2211-tres-dc%22%2C%20%22index%22%3A%20%229880%22%7D%2C%20%7B%22modelId%22%3A%20%22gpt2-small%22%2C%20%22layer%22%3A%20%2211-tres-dc%22%2C%20%22index%22%3A%20%229994%22%7D%2C%20%7B%22modelId%22%3A%20%22gpt2-small%22%2C%20%22layer%22%3A%20%2211-tres-dc%22%2C%20%22index%22%3A%20%2210143%22%7D%2C%20%7B%22modelId%22%3A%20%22gpt2-small%22%2C%20%22layer%22%3A%20%2211-tres-dc%22%2C%20%22index%22%3A%20%2211761%22%7D%2C%20%7B%22modelId%22%3A%20%22gpt2-small%22%2C%20%22layer%22%3A%20%2211-tres-dc%22%2C%20%22index%22%3A%20%2211951%22%7D%2C%20%7B%22modelId%22%3A%20%22gpt2-small%22%2C%20%22layer%22%3A%20%2211-tres-dc%22%2C%20%22index%22%3A%20%2211968%22%7D%2C%20%7B%22modelId%22%3A%20%22gpt2-small%22%2C%20%22layer%22%3A%20%2211-tres-dc%22%2C%20%22index%22%3A%20%2212355%22%7D%2C%20%7B%22modelId%22%3A%20%22gpt2-small%22%2C%20%22layer%22%3A%20%2211-tres-dc%22%2C%20%22index%22%3A%20%2212661%22%7D%2C%20%7B%22modelId%22%3A%20%22gpt2-small%22%2C%20%22layer%22%3A%20%2211-tres-dc%22%2C%20%22index%22%3A%20%2212976%22%7D%2C%20%7B%22modelId%22%3A%20%22gpt2-small%22%2C%20%22layer%22%3A%20%2211-tres-dc%22%2C%20%22index%22%3A%20%2213270%22%7D%2C%20%7B%22modelId%22%3A%20%22gpt2-small%22%2C%20%22layer%22%3A%20%2211-tres-dc%22%2C%20%22index%22%3A%20%2215105%22%7D%2C%20%7B%22modelId%22%3A%20%22gpt2-small%22%2C%20%22layer%22%3A%20%2211-tres-dc%22%2C%20%22index%22%3A%20%2215428%22%7D%2C%20%7B%22modelId%22%3A%20%22gpt2-small%22%2C%20%22layer%22%3A%20%2211-tres-dc%22%2C%20%22index%22%3A%20%2216252%22%7D%2C%20%7B%22modelId%22%3A%20%22gpt2-small%22%2C%20%22layer%22%3A%20%2211-tres-dc%22%2C%20%22index%22%3A%20%2216775%22%7D%2C%20%7B%22modelId%22%3A%20%22gpt2-small%22%2C%20%22layer%22%3A%20%2211-tres-dc%22%2C%20%22index%22%3A%20%2217011%22%7D%2C%20%7B%22modelId%22%3A%20%22gpt2-small%22%2C%20%22layer%22%3A%20%2211-tres-dc%22%2C%20%22index%22%3A%20%2217219%22%7D%2C%20%7B%22modelId%22%3A%20%22gpt2-small%22%2C%20%22layer%22%3A%20%2211-tres-dc%22%2C%20%22index%22%3A%20%2217622%22%7D%2C%20%7B%22modelId%22%3A%20%22gpt2-small%22%2C%20%22layer%22%3A%20%2211-tres-dc%22%2C%20%22index%22%3A%20%2217711%22%7D%2C%20%7B%22modelId%22%3A%20%22gpt2-small%22%2C%20%22layer%22%3A%20%2211-tres-dc%22%2C%20%22index%22%3A%20%2219115%22%7D%2C%20%7B%22modelId%22%3A%20%22gpt2-small%22%2C%20%22layer%22%3A%20%2211-tres-dc%22%2C%20%22index%22%3A%20%2219447%22%7D%2C%20%7B%22modelId%22%3A%20%22gpt2-small%22%2C%20%22layer%22%3A%20%2211-tres-dc%22%2C%20%22index%22%3A%20%2220030%22%7D%2C%20%7B%22modelId%22%3A%20%22gpt2-small%22%2C%20%22layer%22%3A%20%2211-tres-dc%22%2C%20%22index%22%3A%20%2220135%22%7D%2C%20%7B%22modelId%22%3A%20%22gpt2-small%22%2C%20%22layer%22%3A%20%2211-tres-dc%22%2C%20%22index%22%3A%20%2220677%22%7D%2C%20%7B%22modelId%22%3A%20%22gpt2-small%22%2C%20%22layer%22%3A%20%2211-tres-dc%22%2C%20%22index%22%3A%20%2221417%22%7D%2C%20%7B%22modelId%22%3A%20%22gpt2-small%22%2C%20%22layer%22%3A%20%2211-tres-dc%22%2C%20%22index%22%3A%20%2221890%22%7D%2C%20%7B%22modelId%22%3A%20%22gpt2-small%22%2C%20%22layer%22%3A%20%2211-tres-dc%22%2C%20%22index%22%3A%20%2221986%22%7D%2C%20%7B%22modelId%22%3A%20%22gpt2-small%22%2C%20%22layer%22%3A%20%2211-tres-dc%22%2C%20%22index%22%3A%20%2222477%22%7D%2C%20%7B%22modelId%22%3A%20%22gpt2-small%22%2C%20%22layer%22%3A%20%2211-tres-dc%22%2C%20%22index%22%3A%20%2222696%22%7D%2C%20%7B%22modelId%22%3A%20%22gpt2-small%22%2C%20%22layer%22%3A%20%2211-tres-dc%22%2C%20%22index%22%3A%20%2223167%22%7D%5D\n"
     ]
    }
   ],
   "source": [
    "from circuit_finder.neuronpedia import get_neuronpedia_url_for_quick_list\n",
    "\n",
    "c1_features = cluster_idx['1']\n",
    "layer = 11\n",
    "\n",
    "url = get_neuronpedia_url_for_quick_list(layer, c1_features, \"tres-dc\")\n",
    "print(url)\n"
   ]
  },
  {
   "cell_type": "code",
   "execution_count": 4,
   "metadata": {},
   "outputs": [
    {
     "name": "stdout",
     "output_type": "stream",
     "text": [
      "https://neuronpedia.org/quick-list/?name=temporary_list&features=%5B%7B%22modelId%22%3A%20%22gpt2-small%22%2C%20%22layer%22%3A%20%2211-tres-dc%22%2C%20%22index%22%3A%20%22499%22%7D%2C%20%7B%22modelId%22%3A%20%22gpt2-small%22%2C%20%22layer%22%3A%20%2211-tres-dc%22%2C%20%22index%22%3A%20%22680%22%7D%2C%20%7B%22modelId%22%3A%20%22gpt2-small%22%2C%20%22layer%22%3A%20%2211-tres-dc%22%2C%20%22index%22%3A%20%22685%22%7D%2C%20%7B%22modelId%22%3A%20%22gpt2-small%22%2C%20%22layer%22%3A%20%2211-tres-dc%22%2C%20%22index%22%3A%20%22730%22%7D%2C%20%7B%22modelId%22%3A%20%22gpt2-small%22%2C%20%22layer%22%3A%20%2211-tres-dc%22%2C%20%22index%22%3A%20%221012%22%7D%2C%20%7B%22modelId%22%3A%20%22gpt2-small%22%2C%20%22layer%22%3A%20%2211-tres-dc%22%2C%20%22index%22%3A%20%221199%22%7D%2C%20%7B%22modelId%22%3A%20%22gpt2-small%22%2C%20%22layer%22%3A%20%2211-tres-dc%22%2C%20%22index%22%3A%20%221329%22%7D%2C%20%7B%22modelId%22%3A%20%22gpt2-small%22%2C%20%22layer%22%3A%20%2211-tres-dc%22%2C%20%22index%22%3A%20%221440%22%7D%2C%20%7B%22modelId%22%3A%20%22gpt2-small%22%2C%20%22layer%22%3A%20%2211-tres-dc%22%2C%20%22index%22%3A%20%221515%22%7D%2C%20%7B%22modelId%22%3A%20%22gpt2-small%22%2C%20%22layer%22%3A%20%2211-tres-dc%22%2C%20%22index%22%3A%20%221902%22%7D%2C%20%7B%22modelId%22%3A%20%22gpt2-small%22%2C%20%22layer%22%3A%20%2211-tres-dc%22%2C%20%22index%22%3A%20%222165%22%7D%2C%20%7B%22modelId%22%3A%20%22gpt2-small%22%2C%20%22layer%22%3A%20%2211-tres-dc%22%2C%20%22index%22%3A%20%222399%22%7D%2C%20%7B%22modelId%22%3A%20%22gpt2-small%22%2C%20%22layer%22%3A%20%2211-tres-dc%22%2C%20%22index%22%3A%20%222510%22%7D%2C%20%7B%22modelId%22%3A%20%22gpt2-small%22%2C%20%22layer%22%3A%20%2211-tres-dc%22%2C%20%22index%22%3A%20%223127%22%7D%2C%20%7B%22modelId%22%3A%20%22gpt2-small%22%2C%20%22layer%22%3A%20%2211-tres-dc%22%2C%20%22index%22%3A%20%223722%22%7D%2C%20%7B%22modelId%22%3A%20%22gpt2-small%22%2C%20%22layer%22%3A%20%2211-tres-dc%22%2C%20%22index%22%3A%20%223781%22%7D%2C%20%7B%22modelId%22%3A%20%22gpt2-small%22%2C%20%22layer%22%3A%20%2211-tres-dc%22%2C%20%22index%22%3A%20%224433%22%7D%2C%20%7B%22modelId%22%3A%20%22gpt2-small%22%2C%20%22layer%22%3A%20%2211-tres-dc%22%2C%20%22index%22%3A%20%224917%22%7D%2C%20%7B%22modelId%22%3A%20%22gpt2-small%22%2C%20%22layer%22%3A%20%2211-tres-dc%22%2C%20%22index%22%3A%20%224937%22%7D%2C%20%7B%22modelId%22%3A%20%22gpt2-small%22%2C%20%22layer%22%3A%20%2211-tres-dc%22%2C%20%22index%22%3A%20%225341%22%7D%2C%20%7B%22modelId%22%3A%20%22gpt2-small%22%2C%20%22layer%22%3A%20%2211-tres-dc%22%2C%20%22index%22%3A%20%225707%22%7D%2C%20%7B%22modelId%22%3A%20%22gpt2-small%22%2C%20%22layer%22%3A%20%2211-tres-dc%22%2C%20%22index%22%3A%20%225747%22%7D%2C%20%7B%22modelId%22%3A%20%22gpt2-small%22%2C%20%22layer%22%3A%20%2211-tres-dc%22%2C%20%22index%22%3A%20%225750%22%7D%2C%20%7B%22modelId%22%3A%20%22gpt2-small%22%2C%20%22layer%22%3A%20%2211-tres-dc%22%2C%20%22index%22%3A%20%225934%22%7D%2C%20%7B%22modelId%22%3A%20%22gpt2-small%22%2C%20%22layer%22%3A%20%2211-tres-dc%22%2C%20%22index%22%3A%20%226136%22%7D%2C%20%7B%22modelId%22%3A%20%22gpt2-small%22%2C%20%22layer%22%3A%20%2211-tres-dc%22%2C%20%22index%22%3A%20%226536%22%7D%2C%20%7B%22modelId%22%3A%20%22gpt2-small%22%2C%20%22layer%22%3A%20%2211-tres-dc%22%2C%20%22index%22%3A%20%226565%22%7D%2C%20%7B%22modelId%22%3A%20%22gpt2-small%22%2C%20%22layer%22%3A%20%2211-tres-dc%22%2C%20%22index%22%3A%20%227069%22%7D%2C%20%7B%22modelId%22%3A%20%22gpt2-small%22%2C%20%22layer%22%3A%20%2211-tres-dc%22%2C%20%22index%22%3A%20%227283%22%7D%2C%20%7B%22modelId%22%3A%20%22gpt2-small%22%2C%20%22layer%22%3A%20%2211-tres-dc%22%2C%20%22index%22%3A%20%227328%22%7D%2C%20%7B%22modelId%22%3A%20%22gpt2-small%22%2C%20%22layer%22%3A%20%2211-tres-dc%22%2C%20%22index%22%3A%20%227644%22%7D%2C%20%7B%22modelId%22%3A%20%22gpt2-small%22%2C%20%22layer%22%3A%20%2211-tres-dc%22%2C%20%22index%22%3A%20%228260%22%7D%2C%20%7B%22modelId%22%3A%20%22gpt2-small%22%2C%20%22layer%22%3A%20%2211-tres-dc%22%2C%20%22index%22%3A%20%228398%22%7D%2C%20%7B%22modelId%22%3A%20%22gpt2-small%22%2C%20%22layer%22%3A%20%2211-tres-dc%22%2C%20%22index%22%3A%20%228457%22%7D%2C%20%7B%22modelId%22%3A%20%22gpt2-small%22%2C%20%22layer%22%3A%20%2211-tres-dc%22%2C%20%22index%22%3A%20%228607%22%7D%2C%20%7B%22modelId%22%3A%20%22gpt2-small%22%2C%20%22layer%22%3A%20%2211-tres-dc%22%2C%20%22index%22%3A%20%228616%22%7D%2C%20%7B%22modelId%22%3A%20%22gpt2-small%22%2C%20%22layer%22%3A%20%2211-tres-dc%22%2C%20%22index%22%3A%20%228770%22%7D%2C%20%7B%22modelId%22%3A%20%22gpt2-small%22%2C%20%22layer%22%3A%20%2211-tres-dc%22%2C%20%22index%22%3A%20%229084%22%7D%2C%20%7B%22modelId%22%3A%20%22gpt2-small%22%2C%20%22layer%22%3A%20%2211-tres-dc%22%2C%20%22index%22%3A%20%229151%22%7D%2C%20%7B%22modelId%22%3A%20%22gpt2-small%22%2C%20%22layer%22%3A%20%2211-tres-dc%22%2C%20%22index%22%3A%20%229424%22%7D%2C%20%7B%22modelId%22%3A%20%22gpt2-small%22%2C%20%22layer%22%3A%20%2211-tres-dc%22%2C%20%22index%22%3A%20%229647%22%7D%2C%20%7B%22modelId%22%3A%20%22gpt2-small%22%2C%20%22layer%22%3A%20%2211-tres-dc%22%2C%20%22index%22%3A%20%229885%22%7D%2C%20%7B%22modelId%22%3A%20%22gpt2-small%22%2C%20%22layer%22%3A%20%2211-tres-dc%22%2C%20%22index%22%3A%20%2210054%22%7D%2C%20%7B%22modelId%22%3A%20%22gpt2-small%22%2C%20%22layer%22%3A%20%2211-tres-dc%22%2C%20%22index%22%3A%20%2210407%22%7D%2C%20%7B%22modelId%22%3A%20%22gpt2-small%22%2C%20%22layer%22%3A%20%2211-tres-dc%22%2C%20%22index%22%3A%20%2210822%22%7D%2C%20%7B%22modelId%22%3A%20%22gpt2-small%22%2C%20%22layer%22%3A%20%2211-tres-dc%22%2C%20%22index%22%3A%20%2211193%22%7D%2C%20%7B%22modelId%22%3A%20%22gpt2-small%22%2C%20%22layer%22%3A%20%2211-tres-dc%22%2C%20%22index%22%3A%20%2211419%22%7D%2C%20%7B%22modelId%22%3A%20%22gpt2-small%22%2C%20%22layer%22%3A%20%2211-tres-dc%22%2C%20%22index%22%3A%20%2211678%22%7D%2C%20%7B%22modelId%22%3A%20%22gpt2-small%22%2C%20%22layer%22%3A%20%2211-tres-dc%22%2C%20%22index%22%3A%20%2211838%22%7D%2C%20%7B%22modelId%22%3A%20%22gpt2-small%22%2C%20%22layer%22%3A%20%2211-tres-dc%22%2C%20%22index%22%3A%20%2211847%22%7D%2C%20%7B%22modelId%22%3A%20%22gpt2-small%22%2C%20%22layer%22%3A%20%2211-tres-dc%22%2C%20%22index%22%3A%20%2212551%22%7D%2C%20%7B%22modelId%22%3A%20%22gpt2-small%22%2C%20%22layer%22%3A%20%2211-tres-dc%22%2C%20%22index%22%3A%20%2212848%22%7D%2C%20%7B%22modelId%22%3A%20%22gpt2-small%22%2C%20%22layer%22%3A%20%2211-tres-dc%22%2C%20%22index%22%3A%20%2212953%22%7D%2C%20%7B%22modelId%22%3A%20%22gpt2-small%22%2C%20%22layer%22%3A%20%2211-tres-dc%22%2C%20%22index%22%3A%20%2213068%22%7D%2C%20%7B%22modelId%22%3A%20%22gpt2-small%22%2C%20%22layer%22%3A%20%2211-tres-dc%22%2C%20%22index%22%3A%20%2213613%22%7D%2C%20%7B%22modelId%22%3A%20%22gpt2-small%22%2C%20%22layer%22%3A%20%2211-tres-dc%22%2C%20%22index%22%3A%20%2213948%22%7D%2C%20%7B%22modelId%22%3A%20%22gpt2-small%22%2C%20%22layer%22%3A%20%2211-tres-dc%22%2C%20%22index%22%3A%20%2214003%22%7D%2C%20%7B%22modelId%22%3A%20%22gpt2-small%22%2C%20%22layer%22%3A%20%2211-tres-dc%22%2C%20%22index%22%3A%20%2214004%22%7D%2C%20%7B%22modelId%22%3A%20%22gpt2-small%22%2C%20%22layer%22%3A%20%2211-tres-dc%22%2C%20%22index%22%3A%20%2214246%22%7D%2C%20%7B%22modelId%22%3A%20%22gpt2-small%22%2C%20%22layer%22%3A%20%2211-tres-dc%22%2C%20%22index%22%3A%20%2214331%22%7D%2C%20%7B%22modelId%22%3A%20%22gpt2-small%22%2C%20%22layer%22%3A%20%2211-tres-dc%22%2C%20%22index%22%3A%20%2214445%22%7D%2C%20%7B%22modelId%22%3A%20%22gpt2-small%22%2C%20%22layer%22%3A%20%2211-tres-dc%22%2C%20%22index%22%3A%20%2214576%22%7D%2C%20%7B%22modelId%22%3A%20%22gpt2-small%22%2C%20%22layer%22%3A%20%2211-tres-dc%22%2C%20%22index%22%3A%20%2214800%22%7D%2C%20%7B%22modelId%22%3A%20%22gpt2-small%22%2C%20%22layer%22%3A%20%2211-tres-dc%22%2C%20%22index%22%3A%20%2215417%22%7D%2C%20%7B%22modelId%22%3A%20%22gpt2-small%22%2C%20%22layer%22%3A%20%2211-tres-dc%22%2C%20%22index%22%3A%20%2215690%22%7D%2C%20%7B%22modelId%22%3A%20%22gpt2-small%22%2C%20%22layer%22%3A%20%2211-tres-dc%22%2C%20%22index%22%3A%20%2217304%22%7D%2C%20%7B%22modelId%22%3A%20%22gpt2-small%22%2C%20%22layer%22%3A%20%2211-tres-dc%22%2C%20%22index%22%3A%20%2217651%22%7D%2C%20%7B%22modelId%22%3A%20%22gpt2-small%22%2C%20%22layer%22%3A%20%2211-tres-dc%22%2C%20%22index%22%3A%20%2217663%22%7D%2C%20%7B%22modelId%22%3A%20%22gpt2-small%22%2C%20%22layer%22%3A%20%2211-tres-dc%22%2C%20%22index%22%3A%20%2218044%22%7D%2C%20%7B%22modelId%22%3A%20%22gpt2-small%22%2C%20%22layer%22%3A%20%2211-tres-dc%22%2C%20%22index%22%3A%20%2218415%22%7D%2C%20%7B%22modelId%22%3A%20%22gpt2-small%22%2C%20%22layer%22%3A%20%2211-tres-dc%22%2C%20%22index%22%3A%20%2218555%22%7D%2C%20%7B%22modelId%22%3A%20%22gpt2-small%22%2C%20%22layer%22%3A%20%2211-tres-dc%22%2C%20%22index%22%3A%20%2218826%22%7D%2C%20%7B%22modelId%22%3A%20%22gpt2-small%22%2C%20%22layer%22%3A%20%2211-tres-dc%22%2C%20%22index%22%3A%20%2219262%22%7D%2C%20%7B%22modelId%22%3A%20%22gpt2-small%22%2C%20%22layer%22%3A%20%2211-tres-dc%22%2C%20%22index%22%3A%20%2219636%22%7D%2C%20%7B%22modelId%22%3A%20%22gpt2-small%22%2C%20%22layer%22%3A%20%2211-tres-dc%22%2C%20%22index%22%3A%20%2219941%22%7D%2C%20%7B%22modelId%22%3A%20%22gpt2-small%22%2C%20%22layer%22%3A%20%2211-tres-dc%22%2C%20%22index%22%3A%20%2220377%22%7D%2C%20%7B%22modelId%22%3A%20%22gpt2-small%22%2C%20%22layer%22%3A%20%2211-tres-dc%22%2C%20%22index%22%3A%20%2220625%22%7D%2C%20%7B%22modelId%22%3A%20%22gpt2-small%22%2C%20%22layer%22%3A%20%2211-tres-dc%22%2C%20%22index%22%3A%20%2220640%22%7D%2C%20%7B%22modelId%22%3A%20%22gpt2-small%22%2C%20%22layer%22%3A%20%2211-tres-dc%22%2C%20%22index%22%3A%20%2221255%22%7D%2C%20%7B%22modelId%22%3A%20%22gpt2-small%22%2C%20%22layer%22%3A%20%2211-tres-dc%22%2C%20%22index%22%3A%20%2221543%22%7D%2C%20%7B%22modelId%22%3A%20%22gpt2-small%22%2C%20%22layer%22%3A%20%2211-tres-dc%22%2C%20%22index%22%3A%20%2222108%22%7D%2C%20%7B%22modelId%22%3A%20%22gpt2-small%22%2C%20%22layer%22%3A%20%2211-tres-dc%22%2C%20%22index%22%3A%20%2222146%22%7D%2C%20%7B%22modelId%22%3A%20%22gpt2-small%22%2C%20%22layer%22%3A%20%2211-tres-dc%22%2C%20%22index%22%3A%20%2222324%22%7D%2C%20%7B%22modelId%22%3A%20%22gpt2-small%22%2C%20%22layer%22%3A%20%2211-tres-dc%22%2C%20%22index%22%3A%20%2222851%22%7D%2C%20%7B%22modelId%22%3A%20%22gpt2-small%22%2C%20%22layer%22%3A%20%2211-tres-dc%22%2C%20%22index%22%3A%20%2223439%22%7D%2C%20%7B%22modelId%22%3A%20%22gpt2-small%22%2C%20%22layer%22%3A%20%2211-tres-dc%22%2C%20%22index%22%3A%20%2224002%22%7D%2C%20%7B%22modelId%22%3A%20%22gpt2-small%22%2C%20%22layer%22%3A%20%2211-tres-dc%22%2C%20%22index%22%3A%20%2224035%22%7D%5D\n"
     ]
    }
   ],
   "source": [
    "c2_features = cluster_idx['2']\n",
    "layer = 11\n",
    "\n",
    "url = get_neuronpedia_url_for_quick_list(layer, c2_features, \"tres-dc\")\n",
    "print(url)"
   ]
  },
  {
   "cell_type": "code",
   "execution_count": 5,
   "metadata": {},
   "outputs": [
    {
     "name": "stderr",
     "output_type": "stream",
     "text": [
      "/home/daniel/ml_workspace/circuit-finder/.venv/lib/python3.10/site-packages/huggingface_hub/file_download.py:1132: FutureWarning: `resume_download` is deprecated and will be removed in version 1.0.0. Downloads always resume when possible. If you want to force a new download, use `force_download=True`.\n",
      "  warnings.warn(\n"
     ]
    },
    {
     "name": "stdout",
     "output_type": "stream",
     "text": [
      "Loaded pretrained model gpt2 into HookedTransformer\n"
     ]
    }
   ],
   "source": [
    "from circuit_finder.pretrained import load_model\n",
    "model = load_model()"
   ]
  },
  {
   "cell_type": "code",
   "execution_count": 6,
   "metadata": {},
   "outputs": [
    {
     "name": "stdout",
     "output_type": "stream",
     "text": [
      "torch.Size([1, 18])\n",
      "['<|endoftext|>', 'Live', ':', ' https', '://', 'www', '.', 'youtube', '.', 'com', '/', 'watch', '?', 'v', '=', '9', 'RE', '-']\n",
      "torch.Size([1, 17])\n",
      "torch.Size([1, 17])\n",
      "Tokenized prompt: [['<|endoftext|>', '<|endoftext|>', 'Live', ':', ' https', '://', 'www', '.', 'youtube', '.', 'com', '/', 'watch', '?', 'v', '=', '9', 'RE']]\n",
      "Tokenized answer: ['-']\n"
     ]
    },
    {
     "data": {
      "text/html": [
       "<pre style=\"white-space:pre;overflow-x:auto;line-height:normal;font-family:Menlo,'DejaVu Sans Mono',consolas,'Courier New',monospace\">Performance on answer token:\n",
       "<span style=\"font-weight: bold\">Rank: </span><span style=\"color: #008080; text-decoration-color: #008080; font-weight: bold\">64</span><span style=\"font-weight: bold\">       Logit:  </span><span style=\"color: #008080; text-decoration-color: #008080; font-weight: bold\">8.59</span><span style=\"font-weight: bold\"> Prob:  </span><span style=\"color: #008080; text-decoration-color: #008080; font-weight: bold\">0.19</span><span style=\"font-weight: bold\">% Token: |-|</span>\n",
       "</pre>\n"
      ],
      "text/plain": [
       "Performance on answer token:\n",
       "\u001b[1mRank: \u001b[0m\u001b[1;36m64\u001b[0m\u001b[1m       Logit:  \u001b[0m\u001b[1;36m8.59\u001b[0m\u001b[1m Prob:  \u001b[0m\u001b[1;36m0.19\u001b[0m\u001b[1m% Token: |-|\u001b[0m\n"
      ]
     },
     "metadata": {},
     "output_type": "display_data"
    },
    {
     "name": "stdout",
     "output_type": "stream",
     "text": [
      "Top 0th token. Logit: 12.07 Prob:  6.23% Token: |\n",
      "|\n",
      "Top 1th token. Logit: 11.57 Prob:  3.77% Token: |The|\n",
      "Top 2th token. Logit: 11.12 Prob:  2.41% Token: |\"|\n",
      "Top 3th token. Logit: 10.90 Prob:  1.94% Token: |A|\n",
      "Top 4th token. Logit: 10.85 Prob:  1.83% Token: |I|\n",
      "Top 5th token. Logit: 10.39 Prob:  1.16% Token: |In|\n",
      "Top 6th token. Logit: 10.36 Prob:  1.13% Token: |.|\n",
      "Top 7th token. Logit: 10.15 Prob:  0.91% Token: |It|\n",
      "Top 8th token. Logit: 10.10 Prob:  0.87% Token: |S|\n",
      "Top 9th token. Logit:  9.99 Prob:  0.78% Token: |This|\n"
     ]
    },
    {
     "data": {
      "text/html": [
       "<pre style=\"white-space:pre;overflow-x:auto;line-height:normal;font-family:Menlo,'DejaVu Sans Mono',consolas,'Courier New',monospace\"><span style=\"font-weight: bold\">Ranks of the answer tokens:</span> <span style=\"font-weight: bold\">[(</span><span style=\"color: #008000; text-decoration-color: #008000\">'-'</span>, <span style=\"color: #008080; text-decoration-color: #008080; font-weight: bold\">64</span><span style=\"font-weight: bold\">)]</span>\n",
       "</pre>\n"
      ],
      "text/plain": [
       "\u001b[1mRanks of the answer tokens:\u001b[0m \u001b[1m[\u001b[0m\u001b[1m(\u001b[0m\u001b[32m'-'\u001b[0m, \u001b[1;36m64\u001b[0m\u001b[1m)\u001b[0m\u001b[1m]\u001b[0m\n"
      ]
     },
     "metadata": {},
     "output_type": "display_data"
    }
   ],
   "source": [
    "from transformer_lens.utils import test_prompt \n",
    "\n",
    "text = \"Live: https://www.youtube.com/watch?v=9RE-\"\n",
    "corrupt_text = \"When John and Mary went to the shop, John gave a bottle of milk to\"\n",
    "\n",
    "tokens = model.to_tokens(text)\n",
    "\n",
    "print(tokens.shape)\n",
    "print(model.to_str_tokens(tokens))\n",
    "\n",
    "clean_tokens = tokens[:, :-1]\n",
    "corrupt_tokens = model.to_tokens(corrupt_text)\n",
    "answer_tokens = tokens[:, -1]\n",
    "prompt = model.to_string(clean_tokens)\n",
    "answer = model.to_string(answer_tokens)\n",
    "print(clean_tokens.shape)\n",
    "print(corrupt_tokens.shape)\n",
    "\n",
    "test_prompt(prompt, answer, model, prepend_space_to_answer=False)"
   ]
  },
  {
   "cell_type": "code",
   "execution_count": 7,
   "metadata": {},
   "outputs": [
    {
     "data": {
      "application/vnd.jupyter.widget-view+json": {
       "model_id": "93215af60e10417cb95fc4c28bd5bd75",
       "version_major": 2,
       "version_minor": 0
      },
      "text/plain": [
       "Fetching 26 files:   0%|          | 0/26 [00:00<?, ?it/s]"
      ]
     },
     "metadata": {},
     "output_type": "display_data"
    }
   ],
   "source": [
    "from circuit_finder.pretrained import load_attn_saes, load_hooked_mlp_transcoders\n",
    "from circuit_finder.patching.indirect_leap import preprocess_attn_saes\n",
    "\n",
    "attn_sae_dict = load_attn_saes()\n",
    "attn_sae_dict = preprocess_attn_saes(attn_sae_dict, model)\n",
    "hooked_mlp_transcoder_dict = load_hooked_mlp_transcoders()\n",
    "\n",
    "attn_saes = list(attn_sae_dict.values())\n",
    "transcoders = list(hooked_mlp_transcoder_dict.values())\n"
   ]
  },
  {
   "cell_type": "code",
   "execution_count": 15,
   "metadata": {},
   "outputs": [],
   "source": [
    "import torch\n",
    "from circuit_finder.patching.eap_graph import EAPGraph\n",
    "from circuit_finder.patching.ablate import get_metric_with_ablation\n",
    "from circuit_finder.patching.indirect_leap import IndirectLEAP, LEAPConfig\n",
    "from circuit_finder.utils import clear_memory\n",
    "\n",
    "ablate_tokens = corrupt_tokens\n",
    "\n",
    "def metric_fn(model, tokens):\n",
    "    logits = model(tokens)\n",
    "    logprobs = torch.nn.functional.log_softmax(logits, dim=-1)\n",
    "    entropy = -torch.sum(logprobs * torch.exp(logprobs), dim=-1)\n",
    "    return entropy[:, -1].mean()\n",
    "\n",
    "# NOTE: First, get the ceiling of the patching metric.\n",
    "# TODO: Replace 'last_token_logit' with logit difference\n",
    "with torch.no_grad():\n",
    "    ceiling = metric_fn(model, clean_tokens).item()\n",
    "\n",
    "# NOTE: Second, get floor of patching metric using empty graph, i.e. ablate everything\n",
    "with torch.no_grad():\n",
    "    empty_graph = EAPGraph([])\n",
    "    floor = get_metric_with_ablation(\n",
    "        model,\n",
    "        empty_graph,\n",
    "        clean_tokens,\n",
    "        metric_fn,\n",
    "        hooked_mlp_transcoder_dict,\n",
    "        attn_sae_dict,\n",
    "        ablate_errors=False,  # Do not ablate errors when running forward pass\n",
    "        first_ablated_layer=2,\n",
    "    ).item()\n",
    "clear_memory()\n",
    "\n",
    "# now sweep over thresholds to get graphs with variety of numbers of nodes\n",
    "# for each graph we calculate faithfulness\n",
    "num_nodes_list = []\n",
    "metrics_list = []\n",
    "\n",
    "# Sweep over thresholds\n",
    "# TODO: make configurable\n",
    "# thresholds = [0.001, 0.003, 0.006, 0.01, 0.03, 0.06, 0.1, 0.3, 0.6, 1.0]\n",
    "thresholds = [0.0003]\n",
    "for threshold in thresholds:\n",
    "    # Setup LEAP algorithm\n",
    "    model.reset_hooks()\n",
    "    cfg = LEAPConfig(\n",
    "        threshold=threshold, contrast_pairs=False, chained_attribs=True\n",
    "    )\n",
    "    leap = IndirectLEAP(\n",
    "        cfg=cfg,\n",
    "        tokens=clean_tokens,\n",
    "        model=model,\n",
    "        metric=metric_fn,\n",
    "        attn_saes=attn_saes,  # type: ignore\n",
    "        transcoders=transcoders,\n",
    "        corrupt_tokens=corrupt_tokens,\n",
    "    )\n",
    "\n",
    "    # Populate the graph\n",
    "    leap.metric_step()\n",
    "    for layer in reversed(range(1, leap.n_layers)):\n",
    "        leap.mlp_step(layer)\n",
    "        leap.ov_step(layer)\n",
    "\n",
    "    # Save the graph\n",
    "    graph = EAPGraph(leap.graph)\n",
    "    num_nodes = len(graph.get_src_nodes())\n",
    "\n",
    "    # Delete tensors to save memory\n",
    "    del leap\n",
    "    clear_memory()\n",
    "\n",
    "    # Calculate the metric under ablation\n",
    "    with torch.no_grad():\n",
    "        metric = get_metric_with_ablation(\n",
    "            model,\n",
    "            graph,\n",
    "            ablate_tokens,\n",
    "            metric_fn,\n",
    "            hooked_mlp_transcoder_dict,\n",
    "            attn_sae_dict,\n",
    "            ablate_errors=False,\n",
    "            first_ablated_layer=2\n",
    "        ).item()"
   ]
  },
  {
   "cell_type": "code",
   "execution_count": 16,
   "metadata": {},
   "outputs": [
    {
     "name": "stdout",
     "output_type": "stream",
     "text": [
      "2362\n"
     ]
    }
   ],
   "source": [
    "print(len(graph.get_edges()))"
   ]
  },
  {
   "cell_type": "code",
   "execution_count": 30,
   "metadata": {},
   "outputs": [
    {
     "name": "stdout",
     "output_type": "stream",
     "text": [
      "48\n",
      "{15105, 21890, 7812, 4998, 16775, 9994, 2829, 4240, 9880, 10143, 7969, 20135, 22696, 21417, 3112, 19115, 5415, 6186, 7724, 11951, 12976, 17711, 8494, 1978, 8250, 5309, 6720, 12355, 15428, 17219, 20677, 4687, 848, 7121, 3668, 13270, 17622, 21986, 2147, 1901, 11761, 7410, 6132, 12661, 1144, 1915, 16252, 894}\n"
     ]
    }
   ],
   "source": [
    "from circuit_finder.core.types import parse_node_name\n",
    "\n",
    "num_entropy_features = 0\n",
    "num_anti_entropy_features = 0\n",
    "active_entropy_features = set()\n",
    "active_anti_entropy_features = set()\n",
    "for node in graph.get_src_nodes():\n",
    "    module_name, layer, token_idx, feature_idx = parse_node_name(node)\n",
    "    if module_name == \"mlp\" and layer == 11:\n",
    "        if feature_idx in c1_features:\n",
    "            num_entropy_features += 1\n",
    "            active_entropy_features.add(feature_idx)\n",
    "        elif feature_idx in c2_features:\n",
    "            num_anti_entropy_features += 1\n",
    "            active_anti_entropy_features.add(feature_idx)\n",
    "    else:\n",
    "        continue\n",
    "\n",
    "print(len(active_entropy_features))\n",
    "print(active_entropy_features)"
   ]
  },
  {
   "cell_type": "code",
   "execution_count": 17,
   "metadata": {},
   "outputs": [
    {
     "name": "stdout",
     "output_type": "stream",
     "text": [
      "graph.html\n",
      "Generated graph.html. Open this file in Live Server to view the graph.\n"
     ]
    }
   ],
   "source": [
    "from circuit_finder.plotting import make_html_graph\n",
    "\n",
    "make_html_graph(graph, tokens = model.to_str_tokens(clean_tokens))"
   ]
  },
  {
   "cell_type": "code",
   "execution_count": 31,
   "metadata": {},
   "outputs": [
    {
     "name": "stdout",
     "output_type": "stream",
     "text": [
      "dict_keys(['modelId', 'layer', 'index', 'sourceSetName', 'creatorId', 'createdAt', 'maxActApprox', 'neuron_alignment_indices', 'neuron_alignment_values', 'neuron_alignment_l1', 'correlated_neurons_indices', 'correlated_neurons_pearson', 'correlated_neurons_l1', 'correlated_features_indices', 'correlated_features_pearson', 'correlated_features_l1', 'neg_str', 'neg_values', 'pos_str', 'pos_values', 'frac_nonzero', 'freq_hist_data_bar_heights', 'freq_hist_data_bar_values', 'logits_hist_data_bar_heights', 'logits_hist_data_bar_values', 'num_tokens_for_dashboard', 'decoder_weights_dist', 'umap_cluster', 'umap_log_feature_sparsity', 'umap_x', 'umap_y', 'model', 'lists', 'sourceSet', 'activations', 'explanations', 'comments'])\n"
     ]
    }
   ],
   "source": [
    "import requests\n",
    "import asyncio\n",
    "from typing import Any\n",
    "\n",
    "NEURONPEDIA_DOMAIN = \"https://neuronpedia.org\"\n",
    "\n",
    "async def get_neuronpedia_feature(\n",
    "    feature: int, layer: int, model: str = \"gpt2-small\", dataset: str = \"res-jb\"\n",
    ") -> dict[str, Any]:\n",
    "    \"\"\"Fetch a feature from Neuronpedia API.\"\"\"\n",
    "    url = f\"{NEURONPEDIA_DOMAIN}/api/feature/{model}/{layer}-{dataset}/{feature}\"\n",
    "    result = requests.get(url).json()\n",
    "    result[\"index\"] = int(result[\"index\"])\n",
    "    await return result\n",
    "\n",
    "feature_info = get_neuronpedia_feature(feature = 20677, layer = 11, dataset = \"tres-dc\")\n",
    "print(feature_info.keys())"
   ]
  },
  {
   "cell_type": "code",
   "execution_count": 32,
   "metadata": {},
   "outputs": [
    {
     "name": "stdout",
     "output_type": "stream",
     "text": [
      "0.3840457153320312\n"
     ]
    }
   ],
   "source": [
    "print(feature_info['frac_nonzero'])"
   ]
  },
  {
   "cell_type": "code",
   "execution_count": null,
   "metadata": {},
   "outputs": [],
   "source": []
  },
  {
   "cell_type": "code",
   "execution_count": 34,
   "metadata": {},
   "outputs": [
    {
     "name": "stdout",
     "output_type": "stream",
     "text": [
      "48\n"
     ]
    }
   ],
   "source": [
    "feature_infos = {}\n",
    "for feature in active_entropy_features:\n",
    "    feature_info = get_neuronpedia_feature(feature, layer = 11, dataset = \"tres-dc\")\n",
    "    feature_infos[feature] = feature_info\n",
    "\n",
    "print(len(feature_infos))"
   ]
  },
  {
   "cell_type": "code",
   "execution_count": 51,
   "metadata": {},
   "outputs": [],
   "source": [
    "import math\n",
    "\n",
    "feature_indices = []\n",
    "feature_log_act_density = []\n",
    "\n",
    "for feature_idx, feature_info in feature_infos.items():\n",
    "    feature_indices.append(feature_idx)\n",
    "    log_act_density = - math.log(feature_info['frac_nonzero'], 10)\n",
    "    feature_log_act_density.append(log_act_density)"
   ]
  },
  {
   "cell_type": "code",
   "execution_count": 54,
   "metadata": {},
   "outputs": [
    {
     "data": {
      "text/plain": [
       "Text(0.5, 0, '-log(Activation Density)')"
      ]
     },
     "execution_count": 54,
     "metadata": {},
     "output_type": "execute_result"
    },
    {
     "data": {
      "image/png": "[encoded data removed]",
      "text/plain": [
       "<Figure size 640x480 with 1 Axes>"
      ]
     },
     "metadata": {},
     "output_type": "display_data"
    }
   ],
   "source": [
    "import seaborn as sns \n",
    "import matplotlib.pyplot as plt\n",
    "\n",
    "sns.histplot(feature_log_act_density, bins=20)\n",
    "plt.title(\"Entropy Feature Sparsity\")\n",
    "plt.xlabel(\"-log(Activation Density)\")"
   ]
  }
 ],
 "metadata": {
  "kernelspec": {
   "display_name": ".venv",
   "language": "python",
   "name": "python3"
  },
  "language_info": {
   "codemirror_mode": {
    "name": "ipython",
    "version": 3
   },
   "file_extension": ".py",
   "mimetype": "text/x-python",
   "name": "python",
   "nbconvert_exporter": "python",
   "pygments_lexer": "ipython3",
   "version": "3.10.13"
  }
 },
 "nbformat": 4,
 "nbformat_minor": 2
}
