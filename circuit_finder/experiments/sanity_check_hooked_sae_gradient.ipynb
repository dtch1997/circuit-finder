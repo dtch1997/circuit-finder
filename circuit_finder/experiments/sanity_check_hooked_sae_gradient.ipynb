{
 "cells": [
  {
   "cell_type": "markdown",
   "metadata": {},
   "source": [
    "In this notebook, we want to sanity-check whether HookedSAEs modify the gradient of upstream things. \n",
    "\n"
   ]
  },
  {
   "cell_type": "code",
   "execution_count": 1,
   "metadata": {},
   "outputs": [],
   "source": [
    "import transformer_lens as tl\n",
    "from rich.table import Table\n",
    "from rich import print as rprint\n",
    "from circuit_finder.pretrained import (\n",
    "    load_resid_saes,\n",
    ")\n",
    "from circuit_finder.core.hooked_transcoder import HookedTranscoderReplacementContext\n",
    "from circuit_finder.utils import get_answer_tokens, logits_to_ave_logit_diff\n",
    "from circuit_finder.constants import device, ProjectDir"
   ]
  },
  {
   "cell_type": "code",
   "execution_count": 2,
   "metadata": {},
   "outputs": [
    {
     "name": "stderr",
     "output_type": "stream",
     "text": [
      "/workspace/circuit-finder/.venv/lib/python3.10/site-packages/huggingface_hub/file_download.py:1132: FutureWarning: `resume_download` is deprecated and will be removed in version 1.0.0. Downloads always resume when possible. If you want to force a new download, use `force_download=True`.\n",
      "  warnings.warn(\n"
     ]
    },
    {
     "name": "stdout",
     "output_type": "stream",
     "text": [
      "Loaded pretrained model gpt2 into HookedTransformer\n"
     ]
    },
    {
     "name": "stderr",
     "output_type": "stream",
     "text": [
      "100%|██████████| 1/1 [00:01<00:00,  1.68s/it]\n"
     ]
    }
   ],
   "source": [
    "model = tl.HookedSAETransformer.from_pretrained('gpt2')\n",
    "sae = load_resid_saes([8])[8]\n",
    "sae.cfg.use_error_term = True"
   ]
  },
  {
   "cell_type": "code",
   "execution_count": 3,
   "metadata": {},
   "outputs": [],
   "source": [
    "grad_cache_dict = {}\n",
    "prompt = \"Hello World\"\n",
    "\n",
    "# We will add a hook upstream of the SAE for debugging purposes\n",
    "hook_point = 'blocks.4.hook_resid_pre'\n",
    "def backward_cache_hook(act, hook):\n",
    "    grad_cache_dict[hook.name] = act.detach()\n",
    "\n",
    "# Run the first time without SAEs\n",
    "model.reset_hooks()\n",
    "model.add_hook(hook_point, backward_cache_hook, 'bwd')\n",
    "orig_loss, _ = model.run_with_cache(prompt, return_type = 'loss')\n",
    "orig_loss.backward()\n",
    "orig_grad = grad_cache_dict[hook_point]\n",
    "\n",
    "# Run the second time with SAE\n",
    "# We expect that this changes the backward pass somehow\n",
    "model.reset_hooks()\n",
    "model.add_hook(hook_point, backward_cache_hook, 'bwd')\n",
    "with model.saes([sae]):\n",
    "    spliced_loss, _ = model.run_with_cache(prompt, return_type = 'loss')\n",
    "    spliced_loss.backward()\n",
    "spliced_grad = grad_cache_dict[hook_point]\n"
   ]
  },
  {
   "cell_type": "code",
   "execution_count": 4,
   "metadata": {},
   "outputs": [
    {
     "name": "stdout",
     "output_type": "stream",
     "text": [
      "tensor([[[ 1.2674e-04,  1.8588e-04, -1.8110e-04,  ..., -6.5199e-05,\n",
      "           2.0408e-04,  5.2757e-04],\n",
      "         [-3.1517e-04, -5.5403e-03, -1.4147e-02,  ..., -2.1921e-03,\n",
      "          -3.9618e-03,  2.1405e-03],\n",
      "         [ 0.0000e+00,  0.0000e+00,  0.0000e+00,  ...,  0.0000e+00,\n",
      "           0.0000e+00,  0.0000e+00]]], device='cuda:0')\n",
      "tensor([[[ 0.0020,  0.0030,  0.0074,  ..., -0.0058,  0.0017, -0.0006],\n",
      "         [ 0.0105, -0.0037, -0.0115,  ...,  0.0008, -0.0072,  0.0095],\n",
      "         [ 0.0000,  0.0000,  0.0000,  ...,  0.0000,  0.0000,  0.0000]]],\n",
      "       device='cuda:0')\n"
     ]
    }
   ],
   "source": [
    "print(spliced_grad)\n",
    "print(orig_grad)"
   ]
  }
 ],
 "metadata": {
  "kernelspec": {
   "display_name": ".venv",
   "language": "python",
   "name": "python3"
  },
  "language_info": {
   "codemirror_mode": {
    "name": "ipython",
    "version": 3
   },
   "file_extension": ".py",
   "mimetype": "text/x-python",
   "name": "python",
   "nbconvert_exporter": "python",
   "pygments_lexer": "ipython3",
   "version": "3.10.13"
  }
 },
 "nbformat": 4,
 "nbformat_minor": 2
}
