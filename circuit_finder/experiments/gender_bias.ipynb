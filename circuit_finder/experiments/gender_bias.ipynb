{
 "cells": [
  {
   "cell_type": "code",
   "execution_count": 1,
   "metadata": {},
   "outputs": [
    {
     "data": {
      "text/plain": [
       "<torch.autograd.grad_mode.set_grad_enabled at 0x7fec2ddf02e0>"
      ]
     },
     "execution_count": 1,
     "metadata": {},
     "output_type": "execute_result"
    }
   ],
   "source": [
    "%load_ext autoreload\n",
    "%autoreload 2\n",
    "import sys\n",
    "sys.path.append(\"/root/circuit-finder\")\n",
    "import pandas as pd\n",
    "import json\n",
    "import torch\n",
    "from dataclasses import dataclass\n",
    "import transformer_lens as tl\n",
    "from circuit_finder.patching.eap_graph import EAPGraph\n",
    "from circuit_finder.utils import clear_memory\n",
    "from circuit_finder.constants import device\n",
    "from circuit_finder.pretrained import (\n",
    "    load_attn_saes,\n",
    "    load_hooked_mlp_transcoders,\n",
    ")\n",
    "from circuit_finder.metrics import batch_avg_answer_diff\n",
    "from circuit_finder.patching.causal_interventions import run_with_ablations\n",
    "import os\n",
    "os.chdir(\"/root/circuit-finder/\")\n",
    "\n",
    "torch.set_grad_enabled(False)"
   ]
  },
  {
   "cell_type": "code",
   "execution_count": 2,
   "metadata": {},
   "outputs": [
    {
     "data": {
      "application/vnd.jupyter.widget-view+json": {
       "model_id": "180cb43669024fcd847f339832dbbcea",
       "version_major": 2,
       "version_minor": 0
      },
      "text/plain": [
       "Fetching 26 files:   0%|          | 0/26 [00:00<?, ?it/s]"
      ]
     },
     "metadata": {},
     "output_type": "display_data"
    },
    {
     "name": "stderr",
     "output_type": "stream",
     "text": [
      "/root/circuit-finder/.venv/lib/python3.10/site-packages/huggingface_hub/file_download.py:1132: FutureWarning: `resume_download` is deprecated and will be removed in version 1.0.0. Downloads always resume when possible. If you want to force a new download, use `force_download=True`.\n",
      "  warnings.warn(\n"
     ]
    },
    {
     "name": "stdout",
     "output_type": "stream",
     "text": [
      "Loaded pretrained model gpt2 into HookedTransformer\n",
      "Moving model to device:  cuda\n"
     ]
    }
   ],
   "source": [
    "# Initialize SAEs\n",
    "attn_saes = load_attn_saes(use_error_term=True)\n",
    "mlp_transcoders = load_hooked_mlp_transcoders(use_error_term=True)\n",
    "\n",
    "# Load model\n",
    "model = tl.HookedSAETransformer.from_pretrained(\"gpt2\").cuda()"
   ]
  },
  {
   "cell_type": "code",
   "execution_count": 3,
   "metadata": {},
   "outputs": [],
   "source": [
    "from eindex import eindex\n",
    "def correct_logit(logits, correct_ids, wrong_ids):\n",
    "    return eindex(logits[:,-1], correct_ids, \"batch [batch]\").mean()\n",
    "\n",
    "def wrong_logit(logits, correct_ids, wrong_ids):\n",
    "    return eindex(logits[:,-1], wrong_ids, \"batch [batch]\").mean()\n",
    "\n",
    "def logit_diff(logits, correct_ids, wrong_ids):\n",
    "    return correct_logit(logits, correct_ids, wrong_ids) - wrong_logit(logits, correct_ids, wrong_ids)"
   ]
  },
  {
   "cell_type": "code",
   "execution_count": 15,
   "metadata": {},
   "outputs": [
    {
     "name": "stdout",
     "output_type": "stream",
     "text": [
      "clean logit diff =  tensor(0.7484, device='cuda:0')\n"
     ]
    }
   ],
   "source": [
    "clean_prompts = [\"The doctor is ready, you can go see\"]\n",
    "corrupt_prompts = [\"The nurse is ready, you can go see\"]\n",
    "correct_ids = model.to_tokens(\" him\")[:,1]\n",
    "wrong_ids = model.to_tokens(\" her\")[:,1]\n",
    "\n",
    "logits, clean_cache = run_with_ablations(\n",
    "    model,\n",
    "    clean_prompts,\n",
    "    attn_saes,\n",
    "    mlp_transcoders,\n",
    "    ablation_list = [(\"attn\", 1, 22089, -1), ],\n",
    "    patch_list = [],\n",
    "    cache_names_filter = [f'blocks.{layer}.attn.hook_pattern' for layer in range(12)]\n",
    ")\n",
    "\n",
    "print(\"clean logit diff = \", logit_diff(logits, correct_ids, wrong_ids))"
   ]
  },
  {
   "cell_type": "code",
   "execution_count": 13,
   "metadata": {},
   "outputs": [
    {
     "data": {
      "text/plain": [
       "tensor([[[ 7.5261, 11.1214,  7.8919,  ..., -3.1299, -3.3873,  8.5934],\n",
       "         [-0.7078,  1.4936, -0.0422,  ..., -0.3339, -3.6979,  1.6328],\n",
       "         [ 5.9632,  6.7539,  1.4267,  ..., -1.1700,  4.4327,  4.9453],\n",
       "         ...,\n",
       "         [ 9.4609,  8.2143,  2.5712,  ..., -2.5130, -1.0821,  6.8435],\n",
       "         [13.8023,  9.0044,  4.3323,  ..., -0.7796, -0.7950,  8.8284],\n",
       "         [11.2392,  6.8841,  2.0912,  ..., -1.3461, -2.3885,  6.7478]]],\n",
       "       device='cuda:0')"
      ]
     },
     "execution_count": 13,
     "metadata": {},
     "output_type": "execute_result"
    }
   ],
   "source": [
    "model(clean_prompts)"
   ]
  }
 ],
 "metadata": {
  "kernelspec": {
   "display_name": ".venv",
   "language": "python",
   "name": "python3"
  },
  "language_info": {
   "codemirror_mode": {
    "name": "ipython",
    "version": 3
   },
   "file_extension": ".py",
   "mimetype": "text/x-python",
   "name": "python",
   "nbconvert_exporter": "python",
   "pygments_lexer": "ipython3",
   "version": "3.10.12"
  }
 },
 "nbformat": 4,
 "nbformat_minor": 2
}
