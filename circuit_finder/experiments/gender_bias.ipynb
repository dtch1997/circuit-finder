{
 "cells": [
  {
   "cell_type": "markdown",
   "metadata": {},
   "source": [
    "# Finding a Circuit"
   ]
  },
  {
   "cell_type": "code",
   "execution_count": 1,
   "metadata": {},
   "outputs": [],
   "source": [
    "import sys \n",
    "sys.path.append(\"/home/daniel/ml_workspace/circuit-finder\")"
   ]
  },
  {
   "cell_type": "code",
   "execution_count": 2,
   "metadata": {},
   "outputs": [
    {
     "name": "stderr",
     "output_type": "stream",
     "text": [
      "/home/daniel/ml_workspace/circuit-finder/.venv/lib/python3.10/site-packages/huggingface_hub/file_download.py:1132: FutureWarning: `resume_download` is deprecated and will be removed in version 1.0.0. Downloads always resume when possible. If you want to force a new download, use `force_download=True`.\n",
      "  warnings.warn(\n"
     ]
    },
    {
     "name": "stdout",
     "output_type": "stream",
     "text": [
      "Loaded pretrained model gpt2 into HookedTransformer\n"
     ]
    }
   ],
   "source": [
    "from circuit_finder.pretrained import load_model\n",
    "model = load_model()"
   ]
  },
  {
   "cell_type": "code",
   "execution_count": 3,
   "metadata": {},
   "outputs": [
    {
     "data": {
      "application/vnd.jupyter.widget-view+json": {
       "model_id": "6ee9dbcdeac34ad4a013e899de57c7c1",
       "version_major": 2,
       "version_minor": 0
      },
      "text/plain": [
       "Fetching 26 files:   0%|          | 0/26 [00:00<?, ?it/s]"
      ]
     },
     "metadata": {},
     "output_type": "display_data"
    }
   ],
   "source": [
    "from circuit_finder.pretrained import load_attn_saes, load_hooked_mlp_transcoders\n",
    "from circuit_finder.patching.indirect_leap import preprocess_attn_saes\n",
    "\n",
    "attn_sae_dict = load_attn_saes()\n",
    "attn_sae_dict = preprocess_attn_saes(attn_sae_dict, model)\n",
    "hooked_mlp_transcoder_dict = load_hooked_mlp_transcoders()\n",
    "\n",
    "attn_saes = list(attn_sae_dict.values())\n",
    "transcoders = list(hooked_mlp_transcoder_dict.values())\n"
   ]
  },
  {
   "cell_type": "code",
   "execution_count": 4,
   "metadata": {},
   "outputs": [],
   "source": [
    "male_profession = \"doctor\"\n",
    "female_profession = \"nurse\"\n",
    "\n",
    "clean_text = f\"The {male_profession} is ready, you can go see\"\n",
    "answer = \" him\"\n",
    "wrong_answer = \" her\"\n",
    "corrupt_text = f\"The {female_profession} is ready, you can go see\"\n"
   ]
  },
  {
   "cell_type": "code",
   "execution_count": 5,
   "metadata": {},
   "outputs": [
    {
     "name": "stdout",
     "output_type": "stream",
     "text": [
      "torch.Size([1, 10])\n",
      "torch.Size([1])\n",
      "torch.Size([1, 10])\n"
     ]
    }
   ],
   "source": [
    "# Tokenize\n",
    "clean_tokens = model.to_tokens(clean_text)\n",
    "answer_tokens = model.to_tokens(answer, prepend_bos=False).squeeze(-1)\n",
    "wrong_answer_tokens = model.to_tokens(wrong_answer, prepend_bos=False).squeeze(-1)\n",
    "corrupt_tokens = model.to_tokens(corrupt_text)\n",
    "\n",
    "print(clean_tokens.shape)\n",
    "print(answer_tokens.shape)\n",
    "print(corrupt_tokens.shape)"
   ]
  },
  {
   "cell_type": "code",
   "execution_count": 6,
   "metadata": {},
   "outputs": [
    {
     "name": "stdout",
     "output_type": "stream",
     "text": [
      "Tokenized prompt: ['<|endoftext|>', 'The', ' doctor', ' is', ' ready', ',', ' you', ' can', ' go', ' see']\n",
      "Tokenized answer: [' him']\n"
     ]
    },
    {
     "data": {
      "text/html": [
       "<pre style=\"white-space:pre;overflow-x:auto;line-height:normal;font-family:Menlo,'DejaVu Sans Mono',consolas,'Courier New',monospace\">Performance on answer token:\n",
       "<span style=\"font-weight: bold\">Rank: </span><span style=\"color: #008080; text-decoration-color: #008080; font-weight: bold\">0</span><span style=\"font-weight: bold\">        Logit: </span><span style=\"color: #008080; text-decoration-color: #008080; font-weight: bold\">15.83</span><span style=\"font-weight: bold\"> Prob: </span><span style=\"color: #008080; text-decoration-color: #008080; font-weight: bold\">36.58</span><span style=\"font-weight: bold\">% Token: | him|</span>\n",
       "</pre>\n"
      ],
      "text/plain": [
       "Performance on answer token:\n",
       "\u001b[1mRank: \u001b[0m\u001b[1;36m0\u001b[0m\u001b[1m        Logit: \u001b[0m\u001b[1;36m15.83\u001b[0m\u001b[1m Prob: \u001b[0m\u001b[1;36m36.58\u001b[0m\u001b[1m% Token: | him|\u001b[0m\n"
      ]
     },
     "metadata": {},
     "output_type": "display_data"
    },
    {
     "name": "stdout",
     "output_type": "stream",
     "text": [
      "Top 0th token. Logit: 15.83 Prob: 36.58% Token: | him|\n",
      "Top 1th token. Logit: 15.08 Prob: 17.31% Token: | her|\n",
      "Top 2th token. Logit: 14.11 Prob:  6.60% Token: | the|\n",
      "Top 3th token. Logit: 13.83 Prob:  4.96% Token: | your|\n",
      "Top 4th token. Logit: 13.48 Prob:  3.48% Token: | it|\n",
      "Top 5th token. Logit: 13.13 Prob:  2.46% Token: | if|\n",
      "Top 6th token. Logit: 13.04 Prob:  2.26% Token: |.|\n",
      "Top 7th token. Logit: 12.87 Prob:  1.91% Token: | a|\n",
      "Top 8th token. Logit: 12.80 Prob:  1.77% Token: | his|\n",
      "Top 9th token. Logit: 12.58 Prob:  1.43% Token: | what|\n"
     ]
    },
    {
     "data": {
      "text/html": [
       "<pre style=\"white-space:pre;overflow-x:auto;line-height:normal;font-family:Menlo,'DejaVu Sans Mono',consolas,'Courier New',monospace\"><span style=\"font-weight: bold\">Ranks of the answer tokens:</span> <span style=\"font-weight: bold\">[(</span><span style=\"color: #008000; text-decoration-color: #008000\">' him'</span>, <span style=\"color: #008080; text-decoration-color: #008080; font-weight: bold\">0</span><span style=\"font-weight: bold\">)]</span>\n",
       "</pre>\n"
      ],
      "text/plain": [
       "\u001b[1mRanks of the answer tokens:\u001b[0m \u001b[1m[\u001b[0m\u001b[1m(\u001b[0m\u001b[32m' him'\u001b[0m, \u001b[1;36m0\u001b[0m\u001b[1m)\u001b[0m\u001b[1m]\u001b[0m\n"
      ]
     },
     "metadata": {},
     "output_type": "display_data"
    },
    {
     "name": "stdout",
     "output_type": "stream",
     "text": [
      "Tokenized prompt: ['<|endoftext|>', 'The', ' nurse', ' is', ' ready', ',', ' you', ' can', ' go', ' see']\n",
      "Tokenized answer: [' her']\n"
     ]
    },
    {
     "data": {
      "text/html": [
       "<pre style=\"white-space:pre;overflow-x:auto;line-height:normal;font-family:Menlo,'DejaVu Sans Mono',consolas,'Courier New',monospace\">Performance on answer token:\n",
       "<span style=\"font-weight: bold\">Rank: </span><span style=\"color: #008080; text-decoration-color: #008080; font-weight: bold\">0</span><span style=\"font-weight: bold\">        Logit: </span><span style=\"color: #008080; text-decoration-color: #008080; font-weight: bold\">16.20</span><span style=\"font-weight: bold\"> Prob: </span><span style=\"color: #008080; text-decoration-color: #008080; font-weight: bold\">50.15</span><span style=\"font-weight: bold\">% Token: | her|</span>\n",
       "</pre>\n"
      ],
      "text/plain": [
       "Performance on answer token:\n",
       "\u001b[1mRank: \u001b[0m\u001b[1;36m0\u001b[0m\u001b[1m        Logit: \u001b[0m\u001b[1;36m16.20\u001b[0m\u001b[1m Prob: \u001b[0m\u001b[1;36m50.15\u001b[0m\u001b[1m% Token: | her|\u001b[0m\n"
      ]
     },
     "metadata": {},
     "output_type": "display_data"
    },
    {
     "name": "stdout",
     "output_type": "stream",
     "text": [
      "Top 0th token. Logit: 16.20 Prob: 50.15% Token: | her|\n",
      "Top 1th token. Logit: 14.17 Prob:  6.61% Token: | the|\n",
      "Top 2th token. Logit: 13.78 Prob:  4.47% Token: | if|\n",
      "Top 3th token. Logit: 13.55 Prob:  3.57% Token: | it|\n",
      "Top 4th token. Logit: 13.40 Prob:  3.07% Token: | what|\n",
      "Top 5th token. Logit: 13.28 Prob:  2.71% Token: | your|\n",
      "Top 6th token. Logit: 13.15 Prob:  2.39% Token: | him|\n",
      "Top 7th token. Logit: 13.13 Prob:  2.33% Token: |.|\n",
      "Top 8th token. Logit: 12.95 Prob:  1.95% Token: | for|\n",
      "Top 9th token. Logit: 12.63 Prob:  1.42% Token: | a|\n"
     ]
    },
    {
     "data": {
      "text/html": [
       "<pre style=\"white-space:pre;overflow-x:auto;line-height:normal;font-family:Menlo,'DejaVu Sans Mono',consolas,'Courier New',monospace\"><span style=\"font-weight: bold\">Ranks of the answer tokens:</span> <span style=\"font-weight: bold\">[(</span><span style=\"color: #008000; text-decoration-color: #008000\">' her'</span>, <span style=\"color: #008080; text-decoration-color: #008080; font-weight: bold\">0</span><span style=\"font-weight: bold\">)]</span>\n",
       "</pre>\n"
      ],
      "text/plain": [
       "\u001b[1mRanks of the answer tokens:\u001b[0m \u001b[1m[\u001b[0m\u001b[1m(\u001b[0m\u001b[32m' her'\u001b[0m, \u001b[1;36m0\u001b[0m\u001b[1m)\u001b[0m\u001b[1m]\u001b[0m\n"
      ]
     },
     "metadata": {},
     "output_type": "display_data"
    }
   ],
   "source": [
    "from transformer_lens import utils \n",
    "\n",
    "utils.test_prompt(clean_text, answer, model)\n",
    "utils.test_prompt(corrupt_text, wrong_answer, model)"
   ]
  },
  {
   "cell_type": "code",
   "execution_count": 7,
   "metadata": {},
   "outputs": [],
   "source": [
    "from circuit_finder.utils import clear_memory\n",
    "\n",
    "if 'leap' in globals():\n",
    "    del leap\n",
    "clear_memory()"
   ]
  },
  {
   "cell_type": "code",
   "execution_count": 8,
   "metadata": {},
   "outputs": [
    {
     "name": "stdout",
     "output_type": "stream",
     "text": [
      "0.7484092712402344\n",
      "-2.2224950790405273\n",
      "-1.7874259948730469\n"
     ]
    }
   ],
   "source": [
    "import torch\n",
    "from eindex import eindex\n",
    "from circuit_finder.patching.eap_graph import EAPGraph\n",
    "from circuit_finder.patching.ablate import get_metric_with_ablation\n",
    "from circuit_finder.patching.indirect_leap import IndirectLEAP, LEAPConfig\n",
    "from circuit_finder.utils import clear_memory\n",
    "\n",
    "ablate_tokens = corrupt_tokens\n",
    "\n",
    "def compute_logit_diff(model, clean_tokens, answer_tokens, wrong_answer_tokens):\n",
    "    clean_logits = model(clean_tokens)\n",
    "    last_logits = clean_logits[:, -1, :]\n",
    "    correct_logits = eindex(last_logits, answer_tokens, \"batch [batch]\")\n",
    "    wrong_logits = eindex(last_logits, wrong_answer_tokens, \"batch [batch]\")\n",
    "    return correct_logits - wrong_logits\n",
    "\n",
    "def metric_fn(model, tokens):\n",
    "    logit_diff = compute_logit_diff(model, tokens, answer_tokens, wrong_answer_tokens)\n",
    "    return logit_diff.mean()\n",
    "\n",
    "# NOTE: First, get the ceiling of the patching metric.\n",
    "# TODO: Replace 'last_token_logit' with logit difference\n",
    "with torch.no_grad():\n",
    "    ceiling = metric_fn(model, clean_tokens).item()\n",
    "print(ceiling)\n",
    "\n",
    "# NOTE: Second, get floor of patching metric using empty graph, i.e. ablate everything\n",
    "with torch.no_grad():\n",
    "    empty_graph = EAPGraph([])\n",
    "    floor = get_metric_with_ablation(\n",
    "        model,\n",
    "        empty_graph,\n",
    "        clean_tokens,\n",
    "        metric_fn,\n",
    "        hooked_mlp_transcoder_dict,\n",
    "        attn_sae_dict,\n",
    "        ablate_nodes=\"bm\",\n",
    "        ablate_errors=False,  # Do not ablate errors when running forward pass\n",
    "        first_ablated_layer=2,\n",
    "        corrupt_tokens = ablate_tokens,\n",
    "    ).item()\n",
    "clear_memory()\n",
    "print(floor)\n",
    "\n",
    "\n",
    "# now sweep over thresholds to get graphs with variety of numbers of nodes\n",
    "# for each graph we calculate faithfulness\n",
    "num_nodes_list = []\n",
    "metrics_list = []\n",
    "\n",
    "# Sweep over thresholds\n",
    "# TODO: make configurable\n",
    "# thresholds = [0.001, 0.003, 0.006, 0.01, 0.03, 0.06, 0.1, 0.3, 0.6, 1.0]\n",
    "thresholds = [0.001]\n",
    "for threshold in thresholds:\n",
    "    # Setup LEAP algorithm\n",
    "    model.reset_hooks()\n",
    "    cfg = LEAPConfig(threshold=threshold,\n",
    "                    contrast_pairs=True, \n",
    "                    qk_enabled=True,\n",
    "                    chained_attribs=True,\n",
    "                    abs_attribs = False,\n",
    "                    store_error_attribs=True)\n",
    "    leap = IndirectLEAP(\n",
    "        cfg=cfg,\n",
    "        tokens=clean_tokens,\n",
    "        model=model,\n",
    "        metric=metric_fn,\n",
    "        attn_saes=attn_saes,  # type: ignore\n",
    "        transcoders=transcoders,\n",
    "        corrupt_tokens=ablate_tokens,\n",
    "    )\n",
    "\n",
    "    # Populate the graph\n",
    "    leap.run()\n",
    "\n",
    "    # Save the graph\n",
    "    graph = EAPGraph(leap.graph)\n",
    "    error_graph = EAPGraph(leap.error_graph)\n",
    "    num_nodes = len(graph.get_src_nodes())\n",
    "\n",
    "    # # Calculate the metric under ablation\n",
    "    with torch.no_grad():\n",
    "        metric = get_metric_with_ablation(\n",
    "            model,\n",
    "            graph,\n",
    "            clean_tokens,\n",
    "            metric_fn,\n",
    "            hooked_mlp_transcoder_dict,\n",
    "            attn_sae_dict,\n",
    "            ablate_nodes=\"bm\",\n",
    "            ablate_errors=False,\n",
    "            first_ablated_layer=2,\n",
    "            corrupt_tokens = ablate_tokens,\n",
    "        ).item()\n",
    "    clear_memory()\n",
    "    print(metric)"
   ]
  },
  {
   "cell_type": "code",
   "execution_count": 9,
   "metadata": {},
   "outputs": [],
   "source": [
    "%load_ext autoreload\n",
    "%autoreload 2"
   ]
  },
  {
   "cell_type": "code",
   "execution_count": 10,
   "metadata": {},
   "outputs": [
    {
     "name": "stdout",
     "output_type": "stream",
     "text": [
      "['<|endoftext|>', 'The', ' doctor', ' is', ' ready', ',', ' you', ' can', ' go', ' see'] ['<|endoftext|>', 'The', ' nurse', ' is', ' ready', ',', ' you', ' can', ' go', ' see']\n",
      "graph.html\n",
      "Generated graph.html. Open this file in Live Server to view the graph.\n"
     ]
    }
   ],
   "source": [
    "from circuit_finder.plotting import make_html_graph\n",
    "\n",
    "# print(len(graph.get_edges()))\n",
    "make_html_graph(leap)\n"
   ]
  },
  {
   "cell_type": "code",
   "execution_count": 11,
   "metadata": {},
   "outputs": [],
   "source": [
    "if 'leap' in globals():\n",
    "    del leap\n",
    "clear_memory()"
   ]
  },
  {
   "cell_type": "code",
   "execution_count": 12,
   "metadata": {},
   "outputs": [
    {
     "name": "stdout",
     "output_type": "stream",
     "text": [
      "345\n"
     ]
    },
    {
     "data": {
      "text/html": [
       "<div>\n",
       "<style scoped>\n",
       "    .dataframe tbody tr th:only-of-type {\n",
       "        vertical-align: middle;\n",
       "    }\n",
       "\n",
       "    .dataframe tbody tr th {\n",
       "        vertical-align: top;\n",
       "    }\n",
       "\n",
       "    .dataframe thead th {\n",
       "        text-align: right;\n",
       "    }\n",
       "</style>\n",
       "<table border=\"1\" class=\"dataframe\">\n",
       "  <thead>\n",
       "    <tr style=\"text-align: right;\">\n",
       "      <th></th>\n",
       "      <th>src_module_name</th>\n",
       "      <th>src_layer</th>\n",
       "      <th>src_token_idx</th>\n",
       "      <th>src_feature_idx</th>\n",
       "      <th>dest_module_name</th>\n",
       "      <th>dest_layer</th>\n",
       "      <th>dest_token_idx</th>\n",
       "      <th>dest_feature_idx</th>\n",
       "      <th>edge_metric_attr</th>\n",
       "      <th>edge_metric_grad</th>\n",
       "      <th>node_node_attr</th>\n",
       "      <th>node_node_grad</th>\n",
       "      <th>edge_type</th>\n",
       "    </tr>\n",
       "  </thead>\n",
       "  <tbody>\n",
       "    <tr>\n",
       "      <th>0</th>\n",
       "      <td>mlp</td>\n",
       "      <td>0</td>\n",
       "      <td>9</td>\n",
       "      <td>4863</td>\n",
       "      <td>metric</td>\n",
       "      <td>12</td>\n",
       "      <td>9</td>\n",
       "      <td>0</td>\n",
       "      <td>0.021989</td>\n",
       "      <td>0.003526</td>\n",
       "      <td>0.021989</td>\n",
       "      <td>0.003526</td>\n",
       "      <td>None</td>\n",
       "    </tr>\n",
       "    <tr>\n",
       "      <th>1</th>\n",
       "      <td>mlp</td>\n",
       "      <td>0</td>\n",
       "      <td>9</td>\n",
       "      <td>11891</td>\n",
       "      <td>metric</td>\n",
       "      <td>12</td>\n",
       "      <td>9</td>\n",
       "      <td>0</td>\n",
       "      <td>0.009094</td>\n",
       "      <td>0.002660</td>\n",
       "      <td>0.009094</td>\n",
       "      <td>0.002660</td>\n",
       "      <td>None</td>\n",
       "    </tr>\n",
       "    <tr>\n",
       "      <th>2</th>\n",
       "      <td>mlp</td>\n",
       "      <td>0</td>\n",
       "      <td>9</td>\n",
       "      <td>20543</td>\n",
       "      <td>metric</td>\n",
       "      <td>12</td>\n",
       "      <td>9</td>\n",
       "      <td>0</td>\n",
       "      <td>0.022519</td>\n",
       "      <td>0.001831</td>\n",
       "      <td>0.022519</td>\n",
       "      <td>0.001831</td>\n",
       "      <td>None</td>\n",
       "    </tr>\n",
       "    <tr>\n",
       "      <th>3</th>\n",
       "      <td>mlp</td>\n",
       "      <td>0</td>\n",
       "      <td>9</td>\n",
       "      <td>23862</td>\n",
       "      <td>metric</td>\n",
       "      <td>12</td>\n",
       "      <td>9</td>\n",
       "      <td>0</td>\n",
       "      <td>0.025424</td>\n",
       "      <td>0.004463</td>\n",
       "      <td>0.025424</td>\n",
       "      <td>0.004463</td>\n",
       "      <td>None</td>\n",
       "    </tr>\n",
       "    <tr>\n",
       "      <th>4</th>\n",
       "      <td>mlp</td>\n",
       "      <td>1</td>\n",
       "      <td>9</td>\n",
       "      <td>9645</td>\n",
       "      <td>metric</td>\n",
       "      <td>12</td>\n",
       "      <td>9</td>\n",
       "      <td>0</td>\n",
       "      <td>-0.009077</td>\n",
       "      <td>0.002790</td>\n",
       "      <td>-0.009077</td>\n",
       "      <td>0.002790</td>\n",
       "      <td>None</td>\n",
       "    </tr>\n",
       "  </tbody>\n",
       "</table>\n",
       "</div>"
      ],
      "text/plain": [
       "  src_module_name  src_layer  src_token_idx  src_feature_idx dest_module_name  \\\n",
       "0             mlp          0              9             4863           metric   \n",
       "1             mlp          0              9            11891           metric   \n",
       "2             mlp          0              9            20543           metric   \n",
       "3             mlp          0              9            23862           metric   \n",
       "4             mlp          1              9             9645           metric   \n",
       "\n",
       "   dest_layer  dest_token_idx  dest_feature_idx  edge_metric_attr  \\\n",
       "0          12               9                 0          0.021989   \n",
       "1          12               9                 0          0.009094   \n",
       "2          12               9                 0          0.022519   \n",
       "3          12               9                 0          0.025424   \n",
       "4          12               9                 0         -0.009077   \n",
       "\n",
       "   edge_metric_grad  node_node_attr  node_node_grad edge_type  \n",
       "0          0.003526        0.021989        0.003526      None  \n",
       "1          0.002660        0.009094        0.002660      None  \n",
       "2          0.001831        0.022519        0.001831      None  \n",
       "3          0.004463        0.025424        0.004463      None  \n",
       "4          0.002790       -0.009077        0.002790      None  "
      ]
     },
     "execution_count": 12,
     "metadata": {},
     "output_type": "execute_result"
    }
   ],
   "source": [
    "# Convert the graph to a dataframe\n",
    "\n",
    "import pandas as pd \n",
    "from circuit_finder.core.types import parse_node_name\n",
    "\n",
    "rows = []\n",
    "for edge, edge_info, edge_type in graph.graph:\n",
    "    (dest, src) = edge\n",
    "    if dest == \"null\": continue\n",
    "    (node_node_attr, node_node_grad, edge_metric_attr, edge_metric_grad) = edge_info\n",
    "\n",
    "    src_module_name, src_layer, src_token_idx, src_feature_idx = parse_node_name(src)    \n",
    "    dest_module_name, dest_layer, dest_token_idx, dest_feature_idx = parse_node_name(dest)\n",
    "\n",
    "    rows.append({\n",
    "        \"src_module_name\": src_module_name,\n",
    "        \"src_layer\": src_layer,\n",
    "        \"src_token_idx\": src_token_idx,\n",
    "        \"src_feature_idx\": src_feature_idx,\n",
    "        \"dest_module_name\": dest_module_name,\n",
    "        \"dest_layer\": dest_layer,\n",
    "        \"dest_token_idx\": dest_token_idx,\n",
    "        \"dest_feature_idx\": dest_feature_idx,\n",
    "        \"edge_metric_attr\": edge_metric_attr,\n",
    "        \"edge_metric_grad\": edge_metric_grad,\n",
    "        \"node_node_attr\": node_node_attr,\n",
    "        \"node_node_grad\": node_node_grad,\n",
    "        \"edge_type\": edge_type\n",
    "    }) \n",
    "\n",
    "df = pd.DataFrame(rows)\n",
    "print(len(df))\n",
    "df.head()"
   ]
  },
  {
   "cell_type": "markdown",
   "metadata": {},
   "source": [
    "## Node Attribution \n",
    "\n"
   ]
  },
  {
   "cell_type": "code",
   "execution_count": 13,
   "metadata": {},
   "outputs": [],
   "source": [
    "import torch\n",
    "\n",
    "from circuit_finder.patching.ablate import splice_model_with_saes_and_transcoders\n",
    "from circuit_finder.patching.gradient_cache import get_gradient_cache\n",
    "\n",
    "with splice_model_with_saes_and_transcoders(model, transcoders, attn_saes) as spliced_model:\n",
    "    grad_cache = get_gradient_cache(spliced_model, clean_tokens, metric_fn)\n",
    "\n",
    "    with torch.no_grad():\n",
    "        _, clean_cache = model.run_with_cache(clean_tokens)\n",
    "        _, corrupt_cache = model.run_with_cache(corrupt_tokens)\n"
   ]
  },
  {
   "cell_type": "code",
   "execution_count": 14,
   "metadata": {},
   "outputs": [],
   "source": [
    "# Compute node attributions\n",
    "attr_cache = {}\n",
    "for node, grad in grad_cache.items():\n",
    "    # NOTE on sign: \n",
    "    # clean - corr --> positive attrib means metric(clean) is higher than metric(corr). \n",
    "    attr_cache[node] = grad * (clean_cache[node] - corrupt_cache[node])"
   ]
  },
  {
   "cell_type": "code",
   "execution_count": 15,
   "metadata": {},
   "outputs": [
    {
     "name": "stdout",
     "output_type": "stream",
     "text": [
      "589824\n"
     ]
    }
   ],
   "source": [
    "# Get the features with high attribution \n",
    "\n",
    "import pandas as pd\n",
    "\n",
    "attn_act_names = [\n",
    "    f\"blocks.{layer}.attn.hook_z.hook_sae_acts_post\" for layer in range(model.cfg.n_layers)\n",
    "]\n",
    "\n",
    "transcoder_act_names = [\n",
    "    f\"blocks.{layer}.mlp.transcoder.hook_sae_acts_post\" for layer in range(model.cfg.n_layers)\n",
    "]\n",
    "\n",
    "all_act_names = attn_act_names + transcoder_act_names\n",
    "\n",
    "\n",
    "def get_node_attrib_df():\n",
    "    dfs = []\n",
    "    for act_name in all_act_names:\n",
    "        node_attrib = attr_cache[act_name]\n",
    "        feature_idx = list(range(node_attrib.shape[-1]))\n",
    "        total_node_attrib = node_attrib.sum(0).sum(0).tolist()\n",
    "        \n",
    "        df = pd.DataFrame({\n",
    "            \"feature_idx\": feature_idx,\n",
    "            \"total_node_attrib\": total_node_attrib,\n",
    "        })\n",
    "        df['act_name'] = act_name\n",
    "        df['layer'] = int(act_name.split('.')[1])\n",
    "        df['module_name'] = act_name.split('.')[2]\n",
    "        dfs.append(df)\n",
    "\n",
    "    df = pd.concat(dfs)\n",
    "    print(len(df))\n",
    "    df.head()\n",
    "\n",
    "node_attrib_df = get_node_attrib_df()\n"
   ]
  },
  {
   "cell_type": "markdown",
   "metadata": {},
   "source": [
    "# Micro Analysis"
   ]
  },
  {
   "cell_type": "code",
   "execution_count": 16,
   "metadata": {},
   "outputs": [],
   "source": [
    "def get_outgoing_edge_df(\n",
    "    df: pd.DataFrame, \n",
    "    src_module_name: str,\n",
    "    src_layer: int,\n",
    "    src_feature_idx: int,\n",
    "):\n",
    "    return df[\n",
    "        (df[\"src_module_name\"] == src_module_name)\n",
    "        & (df[\"src_layer\"] == src_layer)\n",
    "        & (df[\"src_feature_idx\"] == src_feature_idx)\n",
    "    ]\n",
    "\n",
    "def get_incoming_edge_df(\n",
    "    df: pd.DataFrame, \n",
    "    dest_module_name: str,\n",
    "    dest_layer: int,\n",
    "    dest_feature_idx: int,\n",
    "):\n",
    "    return df[\n",
    "        (df[\"dest_module_name\"] == dest_module_name)\n",
    "        & (df[\"dest_layer\"] == dest_layer)\n",
    "        & (df[\"dest_feature_idx\"] == dest_feature_idx)\n",
    "    ]"
   ]
  },
  {
   "cell_type": "code",
   "execution_count": 42,
   "metadata": {},
   "outputs": [],
   "source": [
    "# Define some utilities for patching a single node\n",
    "\n",
    "from transformer_lens import ActivationCache\n",
    "from circuit_finder.core.types import Node, parse_node_name\n",
    "\n",
    "def get_act_name(module_name, layer):\n",
    "    if module_name == \"attn\":\n",
    "        return f\"blocks.{layer}.attn.hook_z.hook_sae_acts_post\"\n",
    "    elif module_name == \"mlp\":\n",
    "        return f\"blocks.{layer}.mlp.transcoder.hook_sae_acts_post\"\n",
    "    else:\n",
    "        raise ValueError(module_name)\n",
    "\n",
    "def get_node_act(\n",
    "    cache: ActivationCache,\n",
    "    module_name, layer, token_idx, feature_idx\n",
    "):\n",
    "    act_name = get_act_name(module_name, layer)\n",
    "    return cache[act_name][:, token_idx, feature_idx]\n",
    "\n",
    "def node_patch_hook(act, hook, token_idx, feature_idx, value):\n",
    "    \"\"\" Patches a node by setting its activation to a fixed value. \"\"\"\n",
    "    act[:, token_idx, feature_idx] = value\n",
    "    return act\n",
    "\n",
    "def get_node_patch_hook(\n",
    "    node: Node,\n",
    "    value: float\n",
    "):\n",
    "\n",
    "    module_name, layer, token_idx, feature_idx = parse_node_name(node)\n",
    "    hook_name = get_act_name(module_name, layer)\n",
    "\n",
    "    def hook_fn(act, hook):\n",
    "        return node_patch_hook(act, hook, token_idx, feature_idx, value)\n",
    "    \n",
    "    return hook_name, hook_fn\n"
   ]
  },
  {
   "cell_type": "code",
   "execution_count": 17,
   "metadata": {},
   "outputs": [],
   "source": [
    "from circuit_finder.core.types import get_node_name, parse_node_name\n",
    "\n",
    "nodes = {\n",
    "    \"doctor_detector\": get_node_name(\"mlp\", 1, 2, 10644),\n",
    "}"
   ]
  },
  {
   "cell_type": "markdown",
   "metadata": {},
   "source": [
    "### Doctor Detector"
   ]
  },
  {
   "cell_type": "markdown",
   "metadata": {},
   "source": [
    "Look at the outgoing edges"
   ]
  },
  {
   "cell_type": "code",
   "execution_count": 30,
   "metadata": {},
   "outputs": [
    {
     "data": {
      "text/html": [
       "<div>\n",
       "<style scoped>\n",
       "    .dataframe tbody tr th:only-of-type {\n",
       "        vertical-align: middle;\n",
       "    }\n",
       "\n",
       "    .dataframe tbody tr th {\n",
       "        vertical-align: top;\n",
       "    }\n",
       "\n",
       "    .dataframe thead th {\n",
       "        text-align: right;\n",
       "    }\n",
       "</style>\n",
       "<table border=\"1\" class=\"dataframe\">\n",
       "  <thead>\n",
       "    <tr style=\"text-align: right;\">\n",
       "      <th></th>\n",
       "      <th>src_module_name</th>\n",
       "      <th>src_layer</th>\n",
       "      <th>src_token_idx</th>\n",
       "      <th>src_feature_idx</th>\n",
       "      <th>dest_module_name</th>\n",
       "      <th>dest_layer</th>\n",
       "      <th>dest_token_idx</th>\n",
       "      <th>dest_feature_idx</th>\n",
       "      <th>edge_metric_attr</th>\n",
       "      <th>edge_metric_grad</th>\n",
       "      <th>node_node_attr</th>\n",
       "      <th>node_node_grad</th>\n",
       "      <th>edge_type</th>\n",
       "    </tr>\n",
       "  </thead>\n",
       "  <tbody>\n",
       "    <tr>\n",
       "      <th>234</th>\n",
       "      <td>mlp</td>\n",
       "      <td>1</td>\n",
       "      <td>2</td>\n",
       "      <td>10644</td>\n",
       "      <td>mlp</td>\n",
       "      <td>7</td>\n",
       "      <td>2</td>\n",
       "      <td>22510</td>\n",
       "      <td>0.001120</td>\n",
       "      <td>0.009598</td>\n",
       "      <td>0.067385</td>\n",
       "      <td>0.577717</td>\n",
       "      <td>None</td>\n",
       "    </tr>\n",
       "    <tr>\n",
       "      <th>285</th>\n",
       "      <td>mlp</td>\n",
       "      <td>1</td>\n",
       "      <td>2</td>\n",
       "      <td>10644</td>\n",
       "      <td>mlp</td>\n",
       "      <td>6</td>\n",
       "      <td>2</td>\n",
       "      <td>13188</td>\n",
       "      <td>0.000958</td>\n",
       "      <td>0.008213</td>\n",
       "      <td>0.095022</td>\n",
       "      <td>0.814663</td>\n",
       "      <td>None</td>\n",
       "    </tr>\n",
       "    <tr>\n",
       "      <th>331</th>\n",
       "      <td>mlp</td>\n",
       "      <td>1</td>\n",
       "      <td>2</td>\n",
       "      <td>10644</td>\n",
       "      <td>mlp</td>\n",
       "      <td>3</td>\n",
       "      <td>2</td>\n",
       "      <td>19883</td>\n",
       "      <td>0.000869</td>\n",
       "      <td>0.007447</td>\n",
       "      <td>0.115886</td>\n",
       "      <td>0.993540</td>\n",
       "      <td>None</td>\n",
       "    </tr>\n",
       "    <tr>\n",
       "      <th>243</th>\n",
       "      <td>mlp</td>\n",
       "      <td>1</td>\n",
       "      <td>2</td>\n",
       "      <td>10644</td>\n",
       "      <td>mlp</td>\n",
       "      <td>7</td>\n",
       "      <td>2</td>\n",
       "      <td>7611</td>\n",
       "      <td>0.000847</td>\n",
       "      <td>0.007260</td>\n",
       "      <td>0.042722</td>\n",
       "      <td>0.366278</td>\n",
       "      <td>None</td>\n",
       "    </tr>\n",
       "    <tr>\n",
       "      <th>302</th>\n",
       "      <td>mlp</td>\n",
       "      <td>1</td>\n",
       "      <td>2</td>\n",
       "      <td>10644</td>\n",
       "      <td>mlp</td>\n",
       "      <td>5</td>\n",
       "      <td>2</td>\n",
       "      <td>5922</td>\n",
       "      <td>0.000664</td>\n",
       "      <td>0.005693</td>\n",
       "      <td>0.090604</td>\n",
       "      <td>0.776791</td>\n",
       "      <td>None</td>\n",
       "    </tr>\n",
       "    <tr>\n",
       "      <th>307</th>\n",
       "      <td>mlp</td>\n",
       "      <td>1</td>\n",
       "      <td>2</td>\n",
       "      <td>10644</td>\n",
       "      <td>mlp</td>\n",
       "      <td>5</td>\n",
       "      <td>2</td>\n",
       "      <td>17446</td>\n",
       "      <td>0.000597</td>\n",
       "      <td>0.005118</td>\n",
       "      <td>0.054334</td>\n",
       "      <td>0.465831</td>\n",
       "      <td>None</td>\n",
       "    </tr>\n",
       "    <tr>\n",
       "      <th>281</th>\n",
       "      <td>mlp</td>\n",
       "      <td>1</td>\n",
       "      <td>2</td>\n",
       "      <td>10644</td>\n",
       "      <td>mlp</td>\n",
       "      <td>6</td>\n",
       "      <td>2</td>\n",
       "      <td>15503</td>\n",
       "      <td>0.000467</td>\n",
       "      <td>0.004004</td>\n",
       "      <td>0.061043</td>\n",
       "      <td>0.523348</td>\n",
       "      <td>None</td>\n",
       "    </tr>\n",
       "    <tr>\n",
       "      <th>147</th>\n",
       "      <td>mlp</td>\n",
       "      <td>1</td>\n",
       "      <td>2</td>\n",
       "      <td>10644</td>\n",
       "      <td>attn</td>\n",
       "      <td>10</td>\n",
       "      <td>9</td>\n",
       "      <td>19969</td>\n",
       "      <td>0.000423</td>\n",
       "      <td>0.003630</td>\n",
       "      <td>0.004838</td>\n",
       "      <td>0.041476</td>\n",
       "      <td>ov</td>\n",
       "    </tr>\n",
       "    <tr>\n",
       "      <th>223</th>\n",
       "      <td>mlp</td>\n",
       "      <td>1</td>\n",
       "      <td>2</td>\n",
       "      <td>10644</td>\n",
       "      <td>attn</td>\n",
       "      <td>8</td>\n",
       "      <td>9</td>\n",
       "      <td>18618</td>\n",
       "      <td>0.000409</td>\n",
       "      <td>0.003509</td>\n",
       "      <td>0.005144</td>\n",
       "      <td>0.044099</td>\n",
       "      <td>ov</td>\n",
       "    </tr>\n",
       "    <tr>\n",
       "      <th>220</th>\n",
       "      <td>mlp</td>\n",
       "      <td>1</td>\n",
       "      <td>2</td>\n",
       "      <td>10644</td>\n",
       "      <td>attn</td>\n",
       "      <td>8</td>\n",
       "      <td>9</td>\n",
       "      <td>919</td>\n",
       "      <td>0.000403</td>\n",
       "      <td>0.003452</td>\n",
       "      <td>0.014395</td>\n",
       "      <td>0.123412</td>\n",
       "      <td>ov</td>\n",
       "    </tr>\n",
       "    <tr>\n",
       "      <th>252</th>\n",
       "      <td>mlp</td>\n",
       "      <td>1</td>\n",
       "      <td>2</td>\n",
       "      <td>10644</td>\n",
       "      <td>mlp</td>\n",
       "      <td>7</td>\n",
       "      <td>2</td>\n",
       "      <td>17982</td>\n",
       "      <td>0.000319</td>\n",
       "      <td>0.002737</td>\n",
       "      <td>0.066559</td>\n",
       "      <td>0.570644</td>\n",
       "      <td>None</td>\n",
       "    </tr>\n",
       "    <tr>\n",
       "      <th>312</th>\n",
       "      <td>mlp</td>\n",
       "      <td>1</td>\n",
       "      <td>2</td>\n",
       "      <td>10644</td>\n",
       "      <td>mlp</td>\n",
       "      <td>5</td>\n",
       "      <td>2</td>\n",
       "      <td>22511</td>\n",
       "      <td>0.000303</td>\n",
       "      <td>0.002595</td>\n",
       "      <td>0.026511</td>\n",
       "      <td>0.227290</td>\n",
       "      <td>None</td>\n",
       "    </tr>\n",
       "    <tr>\n",
       "      <th>256</th>\n",
       "      <td>mlp</td>\n",
       "      <td>1</td>\n",
       "      <td>2</td>\n",
       "      <td>10644</td>\n",
       "      <td>mlp</td>\n",
       "      <td>7</td>\n",
       "      <td>2</td>\n",
       "      <td>19048</td>\n",
       "      <td>0.000291</td>\n",
       "      <td>0.002495</td>\n",
       "      <td>0.033574</td>\n",
       "      <td>0.287842</td>\n",
       "      <td>None</td>\n",
       "    </tr>\n",
       "    <tr>\n",
       "      <th>187</th>\n",
       "      <td>mlp</td>\n",
       "      <td>1</td>\n",
       "      <td>2</td>\n",
       "      <td>10644</td>\n",
       "      <td>attn</td>\n",
       "      <td>10</td>\n",
       "      <td>9</td>\n",
       "      <td>19969</td>\n",
       "      <td>0.000262</td>\n",
       "      <td>0.002242</td>\n",
       "      <td>0.002988</td>\n",
       "      <td>0.025616</td>\n",
       "      <td>k</td>\n",
       "    </tr>\n",
       "    <tr>\n",
       "      <th>142</th>\n",
       "      <td>mlp</td>\n",
       "      <td>1</td>\n",
       "      <td>2</td>\n",
       "      <td>10644</td>\n",
       "      <td>attn</td>\n",
       "      <td>10</td>\n",
       "      <td>9</td>\n",
       "      <td>14709</td>\n",
       "      <td>0.000237</td>\n",
       "      <td>0.002035</td>\n",
       "      <td>0.003953</td>\n",
       "      <td>0.033895</td>\n",
       "      <td>ov</td>\n",
       "    </tr>\n",
       "    <tr>\n",
       "      <th>259</th>\n",
       "      <td>mlp</td>\n",
       "      <td>1</td>\n",
       "      <td>2</td>\n",
       "      <td>10644</td>\n",
       "      <td>mlp</td>\n",
       "      <td>7</td>\n",
       "      <td>2</td>\n",
       "      <td>4341</td>\n",
       "      <td>0.000218</td>\n",
       "      <td>0.001872</td>\n",
       "      <td>0.103902</td>\n",
       "      <td>0.890798</td>\n",
       "      <td>None</td>\n",
       "    </tr>\n",
       "    <tr>\n",
       "      <th>201</th>\n",
       "      <td>mlp</td>\n",
       "      <td>1</td>\n",
       "      <td>2</td>\n",
       "      <td>10644</td>\n",
       "      <td>mlp</td>\n",
       "      <td>9</td>\n",
       "      <td>2</td>\n",
       "      <td>6101</td>\n",
       "      <td>0.000210</td>\n",
       "      <td>0.001805</td>\n",
       "      <td>0.039213</td>\n",
       "      <td>0.336192</td>\n",
       "      <td>None</td>\n",
       "    </tr>\n",
       "    <tr>\n",
       "      <th>140</th>\n",
       "      <td>mlp</td>\n",
       "      <td>1</td>\n",
       "      <td>2</td>\n",
       "      <td>10644</td>\n",
       "      <td>attn</td>\n",
       "      <td>10</td>\n",
       "      <td>9</td>\n",
       "      <td>9826</td>\n",
       "      <td>0.000181</td>\n",
       "      <td>0.001556</td>\n",
       "      <td>0.005658</td>\n",
       "      <td>0.048512</td>\n",
       "      <td>ov</td>\n",
       "    </tr>\n",
       "    <tr>\n",
       "      <th>339</th>\n",
       "      <td>mlp</td>\n",
       "      <td>1</td>\n",
       "      <td>2</td>\n",
       "      <td>10644</td>\n",
       "      <td>attn</td>\n",
       "      <td>2</td>\n",
       "      <td>3</td>\n",
       "      <td>5993</td>\n",
       "      <td>0.000175</td>\n",
       "      <td>0.001498</td>\n",
       "      <td>0.089128</td>\n",
       "      <td>0.764133</td>\n",
       "      <td>ov</td>\n",
       "    </tr>\n",
       "    <tr>\n",
       "      <th>212</th>\n",
       "      <td>mlp</td>\n",
       "      <td>1</td>\n",
       "      <td>2</td>\n",
       "      <td>10644</td>\n",
       "      <td>attn</td>\n",
       "      <td>9</td>\n",
       "      <td>9</td>\n",
       "      <td>4014</td>\n",
       "      <td>0.000174</td>\n",
       "      <td>0.001491</td>\n",
       "      <td>0.009104</td>\n",
       "      <td>0.078054</td>\n",
       "      <td>ov</td>\n",
       "    </tr>\n",
       "    <tr>\n",
       "      <th>328</th>\n",
       "      <td>mlp</td>\n",
       "      <td>1</td>\n",
       "      <td>2</td>\n",
       "      <td>10644</td>\n",
       "      <td>attn</td>\n",
       "      <td>4</td>\n",
       "      <td>3</td>\n",
       "      <td>18201</td>\n",
       "      <td>0.000163</td>\n",
       "      <td>0.001400</td>\n",
       "      <td>0.023004</td>\n",
       "      <td>0.197225</td>\n",
       "      <td>ov</td>\n",
       "    </tr>\n",
       "    <tr>\n",
       "      <th>222</th>\n",
       "      <td>mlp</td>\n",
       "      <td>1</td>\n",
       "      <td>2</td>\n",
       "      <td>10644</td>\n",
       "      <td>attn</td>\n",
       "      <td>8</td>\n",
       "      <td>3</td>\n",
       "      <td>9836</td>\n",
       "      <td>0.000152</td>\n",
       "      <td>0.001302</td>\n",
       "      <td>0.017440</td>\n",
       "      <td>0.149518</td>\n",
       "      <td>ov</td>\n",
       "    </tr>\n",
       "    <tr>\n",
       "      <th>208</th>\n",
       "      <td>mlp</td>\n",
       "      <td>1</td>\n",
       "      <td>2</td>\n",
       "      <td>10644</td>\n",
       "      <td>attn</td>\n",
       "      <td>9</td>\n",
       "      <td>9</td>\n",
       "      <td>11453</td>\n",
       "      <td>0.000145</td>\n",
       "      <td>0.001243</td>\n",
       "      <td>0.013348</td>\n",
       "      <td>0.114436</td>\n",
       "      <td>ov</td>\n",
       "    </tr>\n",
       "  </tbody>\n",
       "</table>\n",
       "</div>"
      ],
      "text/plain": [
       "    src_module_name  src_layer  src_token_idx  src_feature_idx  \\\n",
       "234             mlp          1              2            10644   \n",
       "285             mlp          1              2            10644   \n",
       "331             mlp          1              2            10644   \n",
       "243             mlp          1              2            10644   \n",
       "302             mlp          1              2            10644   \n",
       "307             mlp          1              2            10644   \n",
       "281             mlp          1              2            10644   \n",
       "147             mlp          1              2            10644   \n",
       "223             mlp          1              2            10644   \n",
       "220             mlp          1              2            10644   \n",
       "252             mlp          1              2            10644   \n",
       "312             mlp          1              2            10644   \n",
       "256             mlp          1              2            10644   \n",
       "187             mlp          1              2            10644   \n",
       "142             mlp          1              2            10644   \n",
       "259             mlp          1              2            10644   \n",
       "201             mlp          1              2            10644   \n",
       "140             mlp          1              2            10644   \n",
       "339             mlp          1              2            10644   \n",
       "212             mlp          1              2            10644   \n",
       "328             mlp          1              2            10644   \n",
       "222             mlp          1              2            10644   \n",
       "208             mlp          1              2            10644   \n",
       "\n",
       "    dest_module_name  dest_layer  dest_token_idx  dest_feature_idx  \\\n",
       "234              mlp           7               2             22510   \n",
       "285              mlp           6               2             13188   \n",
       "331              mlp           3               2             19883   \n",
       "243              mlp           7               2              7611   \n",
       "302              mlp           5               2              5922   \n",
       "307              mlp           5               2             17446   \n",
       "281              mlp           6               2             15503   \n",
       "147             attn          10               9             19969   \n",
       "223             attn           8               9             18618   \n",
       "220             attn           8               9               919   \n",
       "252              mlp           7               2             17982   \n",
       "312              mlp           5               2             22511   \n",
       "256              mlp           7               2             19048   \n",
       "187             attn          10               9             19969   \n",
       "142             attn          10               9             14709   \n",
       "259              mlp           7               2              4341   \n",
       "201              mlp           9               2              6101   \n",
       "140             attn          10               9              9826   \n",
       "339             attn           2               3              5993   \n",
       "212             attn           9               9              4014   \n",
       "328             attn           4               3             18201   \n",
       "222             attn           8               3              9836   \n",
       "208             attn           9               9             11453   \n",
       "\n",
       "     edge_metric_attr  edge_metric_grad  node_node_attr  node_node_grad  \\\n",
       "234          0.001120          0.009598        0.067385        0.577717   \n",
       "285          0.000958          0.008213        0.095022        0.814663   \n",
       "331          0.000869          0.007447        0.115886        0.993540   \n",
       "243          0.000847          0.007260        0.042722        0.366278   \n",
       "302          0.000664          0.005693        0.090604        0.776791   \n",
       "307          0.000597          0.005118        0.054334        0.465831   \n",
       "281          0.000467          0.004004        0.061043        0.523348   \n",
       "147          0.000423          0.003630        0.004838        0.041476   \n",
       "223          0.000409          0.003509        0.005144        0.044099   \n",
       "220          0.000403          0.003452        0.014395        0.123412   \n",
       "252          0.000319          0.002737        0.066559        0.570644   \n",
       "312          0.000303          0.002595        0.026511        0.227290   \n",
       "256          0.000291          0.002495        0.033574        0.287842   \n",
       "187          0.000262          0.002242        0.002988        0.025616   \n",
       "142          0.000237          0.002035        0.003953        0.033895   \n",
       "259          0.000218          0.001872        0.103902        0.890798   \n",
       "201          0.000210          0.001805        0.039213        0.336192   \n",
       "140          0.000181          0.001556        0.005658        0.048512   \n",
       "339          0.000175          0.001498        0.089128        0.764133   \n",
       "212          0.000174          0.001491        0.009104        0.078054   \n",
       "328          0.000163          0.001400        0.023004        0.197225   \n",
       "222          0.000152          0.001302        0.017440        0.149518   \n",
       "208          0.000145          0.001243        0.013348        0.114436   \n",
       "\n",
       "    edge_type  \n",
       "234      None  \n",
       "285      None  \n",
       "331      None  \n",
       "243      None  \n",
       "302      None  \n",
       "307      None  \n",
       "281      None  \n",
       "147        ov  \n",
       "223        ov  \n",
       "220        ov  \n",
       "252      None  \n",
       "312      None  \n",
       "256      None  \n",
       "187         k  \n",
       "142        ov  \n",
       "259      None  \n",
       "201      None  \n",
       "140        ov  \n",
       "339        ov  \n",
       "212        ov  \n",
       "328        ov  \n",
       "222        ov  \n",
       "208        ov  "
      ]
     },
     "execution_count": 30,
     "metadata": {},
     "output_type": "execute_result"
    }
   ],
   "source": [
    "module_name, layer, token_idx, feature_idx = parse_node_name(nodes[\"doctor_detector\"])\n",
    "get_outgoing_edge_df(df, module_name, layer, feature_idx).sort_values('edge_metric_attr', ascending = False)"
   ]
  },
  {
   "cell_type": "markdown",
   "metadata": {},
   "source": [
    "Pot "
   ]
  },
  {
   "cell_type": "code",
   "execution_count": null,
   "metadata": {},
   "outputs": [],
   "source": [
    "# Node patching for L8.Att.14.16513\n",
    "with splice_model_with_saes_and_transcoders(model, transcoders, attn_saes) as spliced_model:\n",
    "    for value in range(11):\n",
    "        with model.hooks(fwd_hooks = [get_node_patch_hook(l8_att_node, value)]):\n",
    "            metric = metric_fn(model, clean_tokens).item()\n",
    "            print(value, metric)"
   ]
  },
  {
   "cell_type": "markdown",
   "metadata": {},
   "source": [
    "Plot cosine similarity to MLP weights"
   ]
  },
  {
   "cell_type": "code",
   "execution_count": 39,
   "metadata": {},
   "outputs": [
    {
     "name": "stdout",
     "output_type": "stream",
     "text": [
      "torch.Size([3072, 768])\n",
      "torch.Size([3072, 768])\n",
      "torch.Size([3072])\n"
     ]
    }
   ],
   "source": [
    "from einops import repeat\n",
    "import torch.nn.functional as F\n",
    "\n",
    "# Get the relevant weights\n",
    "W_dec = transcoders[1].W_dec\n",
    "mlp_W_out = model.blocks[1].mlp.W_out\n",
    "w_dec = W_dec[10644]\n",
    "w_dec_repeat = repeat(w_dec, 'f -> b f', b = mlp_W_\n",
    "print(w_dec_repeat.shape)\n",
    "print(mlp_W_out.shape)\n",
    "# Compute cosine similarity\n",
    "\n",
    "cosine_sim = F.cosine_similarity(w_dec, mlp_W_out, dim=-1)\n",
    "print(cosine_sim.shape)\n",
    "cosine_sim_np = cosine_sim.detach().cpu().numpy()\n",
    "\n"
   ]
  },
  {
   "cell_type": "code",
   "execution_count": 41,
   "metadata": {},
   "outputs": [
    {
     "data": {
      "text/plain": [
       "Text(0.5, 1.0, 'Cosine similarity between doctor detector W_dec and Layer 1 MLP W_out')"
      ]
     },
     "execution_count": 41,
     "metadata": {},
     "output_type": "execute_result"
    },
    {
     "data": {
      "image/png": "[encoded data removed]",
      "text/plain": [
       "<Figure size 640x480 with 1 Axes>"
      ]
     },
     "metadata": {},
     "output_type": "display_data"
    }
   ],
   "source": [
    "import seaborn as sns \n",
    "import matplotlib.pyplot as plt \n",
    "\n",
    "sns.set_theme()\n",
    "sns.histplot(cosine_sim_np, bins=100)\n",
    "plt.title(\"Cosine similarity between doctor detector W_dec and Layer 1 MLP W_out\")\n"
   ]
  },
  {
   "cell_type": "markdown",
   "metadata": {},
   "source": [
    "### \"Him\" Predictor\n"
   ]
  },
  {
   "cell_type": "code",
   "execution_count": null,
   "metadata": {},
   "outputs": [],
   "source": []
  },
  {
   "cell_type": "markdown",
   "metadata": {},
   "source": [
    "# Analysis"
   ]
  },
  {
   "cell_type": "code",
   "execution_count": null,
   "metadata": {},
   "outputs": [],
   "source": []
  },
  {
   "cell_type": "code",
   "execution_count": 19,
   "metadata": {},
   "outputs": [
    {
     "data": {
      "text/html": [
       "<div>\n",
       "<style scoped>\n",
       "    .dataframe tbody tr th:only-of-type {\n",
       "        vertical-align: middle;\n",
       "    }\n",
       "\n",
       "    .dataframe tbody tr th {\n",
       "        vertical-align: top;\n",
       "    }\n",
       "\n",
       "    .dataframe thead th {\n",
       "        text-align: right;\n",
       "    }\n",
       "</style>\n",
       "<table border=\"1\" class=\"dataframe\">\n",
       "  <thead>\n",
       "    <tr style=\"text-align: right;\">\n",
       "      <th></th>\n",
       "      <th>src_module_name</th>\n",
       "      <th>src_layer</th>\n",
       "      <th>src_token_idx</th>\n",
       "      <th>src_feature_idx</th>\n",
       "      <th>dest_module_name</th>\n",
       "      <th>dest_layer</th>\n",
       "      <th>dest_token_idx</th>\n",
       "      <th>dest_feature_idx</th>\n",
       "      <th>edge_metric_attr</th>\n",
       "      <th>edge_metric_grad</th>\n",
       "      <th>node_node_attr</th>\n",
       "      <th>node_node_grad</th>\n",
       "      <th>edge_type</th>\n",
       "    </tr>\n",
       "  </thead>\n",
       "  <tbody>\n",
       "  </tbody>\n",
       "</table>\n",
       "</div>"
      ],
      "text/plain": [
       "Empty DataFrame\n",
       "Columns: [src_module_name, src_layer, src_token_idx, src_feature_idx, dest_module_name, dest_layer, dest_token_idx, dest_feature_idx, edge_metric_attr, edge_metric_grad, node_node_attr, node_node_grad, edge_type]\n",
       "Index: []"
      ]
     },
     "execution_count": 19,
     "metadata": {},
     "output_type": "execute_result"
    }
   ],
   "source": [
    "# Upstream edges for layer 6 att 17410\n",
    "\n",
    "get_incoming_edge_df(df, \"attn\", 6, 17410)"
   ]
  },
  {
   "cell_type": "code",
   "execution_count": 20,
   "metadata": {},
   "outputs": [
    {
     "data": {
      "text/html": [
       "<div>\n",
       "<style scoped>\n",
       "    .dataframe tbody tr th:only-of-type {\n",
       "        vertical-align: middle;\n",
       "    }\n",
       "\n",
       "    .dataframe tbody tr th {\n",
       "        vertical-align: top;\n",
       "    }\n",
       "\n",
       "    .dataframe thead th {\n",
       "        text-align: right;\n",
       "    }\n",
       "</style>\n",
       "<table border=\"1\" class=\"dataframe\">\n",
       "  <thead>\n",
       "    <tr style=\"text-align: right;\">\n",
       "      <th></th>\n",
       "      <th>src_module_name</th>\n",
       "      <th>src_layer</th>\n",
       "      <th>src_token_idx</th>\n",
       "      <th>src_feature_idx</th>\n",
       "      <th>dest_module_name</th>\n",
       "      <th>dest_layer</th>\n",
       "      <th>dest_token_idx</th>\n",
       "      <th>dest_feature_idx</th>\n",
       "      <th>edge_metric_attr</th>\n",
       "      <th>edge_metric_grad</th>\n",
       "      <th>node_node_attr</th>\n",
       "      <th>node_node_grad</th>\n",
       "      <th>edge_type</th>\n",
       "    </tr>\n",
       "  </thead>\n",
       "  <tbody>\n",
       "  </tbody>\n",
       "</table>\n",
       "</div>"
      ],
      "text/plain": [
       "Empty DataFrame\n",
       "Columns: [src_module_name, src_layer, src_token_idx, src_feature_idx, dest_module_name, dest_layer, dest_token_idx, dest_feature_idx, edge_metric_attr, edge_metric_grad, node_node_attr, node_node_grad, edge_type]\n",
       "Index: []"
      ]
     },
     "execution_count": 20,
     "metadata": {},
     "output_type": "execute_result"
    }
   ],
   "source": [
    "# Downstream edges for layer 6 att 17410\n",
    "\n",
    "get_outgoing_edge_df(df, \"attn\", 6, 17410)"
   ]
  },
  {
   "cell_type": "code",
   "execution_count": 21,
   "metadata": {},
   "outputs": [
    {
     "data": {
      "text/html": [
       "<div>\n",
       "<style scoped>\n",
       "    .dataframe tbody tr th:only-of-type {\n",
       "        vertical-align: middle;\n",
       "    }\n",
       "\n",
       "    .dataframe tbody tr th {\n",
       "        vertical-align: top;\n",
       "    }\n",
       "\n",
       "    .dataframe thead th {\n",
       "        text-align: right;\n",
       "    }\n",
       "</style>\n",
       "<table border=\"1\" class=\"dataframe\">\n",
       "  <thead>\n",
       "    <tr style=\"text-align: right;\">\n",
       "      <th></th>\n",
       "      <th>src_module_name</th>\n",
       "      <th>src_layer</th>\n",
       "      <th>src_token_idx</th>\n",
       "      <th>src_feature_idx</th>\n",
       "      <th>dest_module_name</th>\n",
       "      <th>dest_layer</th>\n",
       "      <th>dest_token_idx</th>\n",
       "      <th>dest_feature_idx</th>\n",
       "      <th>edge_metric_attr</th>\n",
       "      <th>edge_metric_grad</th>\n",
       "      <th>node_node_attr</th>\n",
       "      <th>node_node_grad</th>\n",
       "      <th>edge_type</th>\n",
       "    </tr>\n",
       "  </thead>\n",
       "  <tbody>\n",
       "  </tbody>\n",
       "</table>\n",
       "</div>"
      ],
      "text/plain": [
       "Empty DataFrame\n",
       "Columns: [src_module_name, src_layer, src_token_idx, src_feature_idx, dest_module_name, dest_layer, dest_token_idx, dest_feature_idx, edge_metric_attr, edge_metric_grad, node_node_attr, node_node_grad, edge_type]\n",
       "Index: []"
      ]
     },
     "execution_count": 21,
     "metadata": {},
     "output_type": "execute_result"
    }
   ],
   "source": [
    "node_df = df[\n",
    "    (df[\"src_layer\"] == 8) \n",
    "    & (df[\"src_module_name\"] == \"attn\") \n",
    "    & (df[\"src_feature_idx\"] == 16513)\n",
    "]\n",
    "\n",
    "node_df"
   ]
  },
  {
   "cell_type": "code",
   "execution_count": 22,
   "metadata": {},
   "outputs": [
    {
     "data": {
      "text/html": [
       "<div>\n",
       "<style scoped>\n",
       "    .dataframe tbody tr th:only-of-type {\n",
       "        vertical-align: middle;\n",
       "    }\n",
       "\n",
       "    .dataframe tbody tr th {\n",
       "        vertical-align: top;\n",
       "    }\n",
       "\n",
       "    .dataframe thead th {\n",
       "        text-align: right;\n",
       "    }\n",
       "</style>\n",
       "<table border=\"1\" class=\"dataframe\">\n",
       "  <thead>\n",
       "    <tr style=\"text-align: right;\">\n",
       "      <th></th>\n",
       "      <th>src_module_name</th>\n",
       "      <th>src_layer</th>\n",
       "      <th>src_token_idx</th>\n",
       "      <th>src_feature_idx</th>\n",
       "      <th>dest_module_name</th>\n",
       "      <th>dest_layer</th>\n",
       "      <th>dest_token_idx</th>\n",
       "      <th>dest_feature_idx</th>\n",
       "      <th>edge_metric_attr</th>\n",
       "      <th>edge_metric_grad</th>\n",
       "      <th>node_node_attr</th>\n",
       "      <th>node_node_grad</th>\n",
       "      <th>edge_type</th>\n",
       "    </tr>\n",
       "  </thead>\n",
       "  <tbody>\n",
       "  </tbody>\n",
       "</table>\n",
       "</div>"
      ],
      "text/plain": [
       "Empty DataFrame\n",
       "Columns: [src_module_name, src_layer, src_token_idx, src_feature_idx, dest_module_name, dest_layer, dest_token_idx, dest_feature_idx, edge_metric_attr, edge_metric_grad, node_node_attr, node_node_grad, edge_type]\n",
       "Index: []"
      ]
     },
     "execution_count": 22,
     "metadata": {},
     "output_type": "execute_result"
    }
   ],
   "source": [
    "node_df = df[\n",
    "    (df[\"src_layer\"] == 10) \n",
    "    & (df[\"src_module_name\"] == \"attn\") \n",
    "    & (df[\"src_feature_idx\"] == 3849)\n",
    "]\n",
    "\n",
    "node_df"
   ]
  },
  {
   "cell_type": "markdown",
   "metadata": {},
   "source": [
    "## Node Ablations"
   ]
  },
  {
   "cell_type": "code",
   "execution_count": 23,
   "metadata": {},
   "outputs": [],
   "source": [
    "from circuit_finder.core.types import get_node_name\n",
    "\n",
    "l6_att_node = get_node_name(\"attn\", 6, 10, 17410)\n",
    "l8_att_node = get_node_name(\"attn\", 8, 14, 16513)\n",
    "l10_att_node = get_node_name(\"attn\", 10, 14, 3849)"
   ]
  },
  {
   "cell_type": "code",
   "execution_count": 24,
   "metadata": {},
   "outputs": [],
   "source": [
    "# Get the clean and corrupt cache\n",
    "from circuit_finder.patching.ablate import splice_model_with_saes_and_transcoders\n",
    "\n",
    "def filter_sae_acts_and_errors(name: str):\n",
    "    return \"hook_sae_acts_post\" in name or \"hook_sae_error\" in name\n",
    "\n",
    "with splice_model_with_saes_and_transcoders(model, transcoders, attn_saes) as spliced_model:\n",
    "    _, clean_cache = model.run_with_cache(clean_tokens, names_filter = filter_sae_acts_and_errors)\n",
    "    _, corrupt_cache = model.run_with_cache(corrupt_tokens, names_filter = filter_sae_acts_and_errors)\n",
    "\n"
   ]
  },
  {
   "cell_type": "code",
   "execution_count": 25,
   "metadata": {},
   "outputs": [
    {
     "ename": "IndexError",
     "evalue": "index 10 is out of bounds for dimension 1 with size 10",
     "output_type": "error",
     "traceback": [
      "\u001b[0;31m---------------------------------------------------------------------------\u001b[0m",
      "\u001b[0;31mIndexError\u001b[0m                                Traceback (most recent call last)",
      "Cell \u001b[0;32mIn[25], line 39\u001b[0m\n\u001b[1;32m     35\u001b[0m         \u001b[38;5;28;01mreturn\u001b[39;00m node_patch_hook(act, hook, token_idx, feature_idx, value)\n\u001b[1;32m     37\u001b[0m     \u001b[38;5;28;01mreturn\u001b[39;00m hook_name, hook_fn\n\u001b[0;32m---> 39\u001b[0m \u001b[38;5;28mprint\u001b[39m(\u001b[43mget_node_act\u001b[49m\u001b[43m(\u001b[49m\u001b[43mclean_cache\u001b[49m\u001b[43m,\u001b[49m\u001b[43m \u001b[49m\u001b[38;5;124;43m\"\u001b[39;49m\u001b[38;5;124;43mattn\u001b[39;49m\u001b[38;5;124;43m\"\u001b[39;49m\u001b[43m,\u001b[49m\u001b[43m \u001b[49m\u001b[38;5;241;43m6\u001b[39;49m\u001b[43m,\u001b[49m\u001b[43m \u001b[49m\u001b[38;5;241;43m10\u001b[39;49m\u001b[43m,\u001b[49m\u001b[43m \u001b[49m\u001b[38;5;241;43m17410\u001b[39;49m\u001b[43m)\u001b[49m)\n\u001b[1;32m     40\u001b[0m \u001b[38;5;28mprint\u001b[39m(get_node_act(corrupt_cache, \u001b[38;5;124m\"\u001b[39m\u001b[38;5;124mattn\u001b[39m\u001b[38;5;124m\"\u001b[39m, \u001b[38;5;241m6\u001b[39m, \u001b[38;5;241m10\u001b[39m, \u001b[38;5;241m17410\u001b[39m))\n",
      "Cell \u001b[0;32mIn[25], line 19\u001b[0m, in \u001b[0;36mget_node_act\u001b[0;34m(cache, module_name, layer, token_idx, feature_idx)\u001b[0m\n\u001b[1;32m     14\u001b[0m \u001b[38;5;28;01mdef\u001b[39;00m \u001b[38;5;21mget_node_act\u001b[39m(\n\u001b[1;32m     15\u001b[0m     cache: ActivationCache,\n\u001b[1;32m     16\u001b[0m     module_name, layer, token_idx, feature_idx\n\u001b[1;32m     17\u001b[0m ):\n\u001b[1;32m     18\u001b[0m     act_name \u001b[38;5;241m=\u001b[39m get_act_name(module_name, layer)\n\u001b[0;32m---> 19\u001b[0m     \u001b[38;5;28;01mreturn\u001b[39;00m \u001b[43mcache\u001b[49m\u001b[43m[\u001b[49m\u001b[43mact_name\u001b[49m\u001b[43m]\u001b[49m\u001b[43m[\u001b[49m\u001b[43m:\u001b[49m\u001b[43m,\u001b[49m\u001b[43m \u001b[49m\u001b[43mtoken_idx\u001b[49m\u001b[43m,\u001b[49m\u001b[43m \u001b[49m\u001b[43mfeature_idx\u001b[49m\u001b[43m]\u001b[49m\n",
      "\u001b[0;31mIndexError\u001b[0m: index 10 is out of bounds for dimension 1 with size 10"
     ]
    }
   ],
   "source": [
    "# Define some utilities for patching a single node\n",
    "\n",
    "from transformer_lens import ActivationCache\n",
    "from circuit_finder.core.types import Node, parse_node_name\n",
    "\n",
    "def get_act_name(module_name, layer):\n",
    "    if module_name == \"attn\":\n",
    "        return f\"blocks.{layer}.attn.hook_z.hook_sae_acts_post\"\n",
    "    elif module_name == \"mlp\":\n",
    "        return f\"blocks.{layer}.mlp.transcoder.hook_sae_acts_post\"\n",
    "    else:\n",
    "        raise ValueError(module_name)\n",
    "\n",
    "def get_node_act(\n",
    "    cache: ActivationCache,\n",
    "    module_name, layer, token_idx, feature_idx\n",
    "):\n",
    "    act_name = get_act_name(module_name, layer)\n",
    "    return cache[act_name][:, token_idx, feature_idx]\n",
    "\n",
    "def node_patch_hook(act, hook, token_idx, feature_idx, value):\n",
    "    \"\"\" Patches a node by setting its activation to a fixed value. \"\"\"\n",
    "    act[:, token_idx, feature_idx] = value\n",
    "    return act\n",
    "\n",
    "def get_node_patch_hook(\n",
    "    node: Node,\n",
    "    value: float\n",
    "):\n",
    "\n",
    "    module_name, layer, token_idx, feature_idx = parse_node_name(node)\n",
    "    hook_name = get_act_name(module_name, layer)\n",
    "\n",
    "    def hook_fn(act, hook):\n",
    "        return node_patch_hook(act, hook, token_idx, feature_idx, value)\n",
    "    \n",
    "    return hook_name, hook_fn\n",
    "\n",
    "print(get_node_act(clean_cache, \"attn\", 6, 10, 17410))\n",
    "print(get_node_act(corrupt_cache, \"attn\", 6, 10, 17410))"
   ]
  },
  {
   "cell_type": "code",
   "execution_count": null,
   "metadata": {},
   "outputs": [
    {
     "ename": "NameError",
     "evalue": "name 'l6_att_feat' is not defined",
     "output_type": "error",
     "traceback": [
      "\u001b[0;31m---------------------------------------------------------------------------\u001b[0m",
      "\u001b[0;31mNameError\u001b[0m                                 Traceback (most recent call last)",
      "Cell \u001b[0;32mIn[17], line 4\u001b[0m\n\u001b[1;32m      2\u001b[0m \u001b[38;5;28;01mwith\u001b[39;00m splice_model_with_saes_and_transcoders(model, transcoders, attn_saes) \u001b[38;5;28;01mas\u001b[39;00m spliced_model:\n\u001b[1;32m      3\u001b[0m     \u001b[38;5;28;01mfor\u001b[39;00m value \u001b[38;5;129;01min\u001b[39;00m \u001b[38;5;28mrange\u001b[39m(\u001b[38;5;241m11\u001b[39m):\n\u001b[0;32m----> 4\u001b[0m         \u001b[38;5;28;01mwith\u001b[39;00m model\u001b[38;5;241m.\u001b[39mhooks(fwd_hooks \u001b[38;5;241m=\u001b[39m [get_node_patch_hook(\u001b[43ml6_att_feat\u001b[49m, value)]):\n\u001b[1;32m      5\u001b[0m             metric \u001b[38;5;241m=\u001b[39m metric_fn(model, clean_tokens)\u001b[38;5;241m.\u001b[39mitem()\n\u001b[1;32m      6\u001b[0m             \u001b[38;5;28mprint\u001b[39m(value, metric)\n",
      "\u001b[0;31mNameError\u001b[0m: name 'l6_att_feat' is not defined"
     ]
    }
   ],
   "source": [
    "# Node patching for L6.Att.10.17410\n",
    "with splice_model_with_saes_and_transcoders(model, transcoders, attn_saes) as spliced_model:\n",
    "    for value in range(11):\n",
    "        with model.hooks(fwd_hooks = [get_node_patch_hook(l6_att_feat, value)]):\n",
    "            metric = metric_fn(model, clean_tokens).item()\n",
    "            print(value, metric)"
   ]
  },
  {
   "cell_type": "code",
   "execution_count": null,
   "metadata": {},
   "outputs": [
    {
     "name": "stdout",
     "output_type": "stream",
     "text": [
      "tensor([9.3522], device='cuda:0')\n",
      "tensor([0.], device='cuda:0')\n"
     ]
    }
   ],
   "source": [
    "l8_att_node_info = parse_node_name(l8_att_node)\n",
    "print(get_node_act(clean_cache, *l8_att_node_info))\n",
    "print(get_node_act(corrupt_cache, *l8_att_node_info))"
   ]
  },
  {
   "cell_type": "code",
   "execution_count": null,
   "metadata": {},
   "outputs": [
    {
     "name": "stdout",
     "output_type": "stream",
     "text": [
      "0 2.6199398040771484\n",
      "1 2.6861095428466797\n",
      "2 2.7564697265625\n",
      "3 2.830913543701172\n",
      "4 2.9091930389404297\n",
      "5 2.990968704223633\n",
      "6 3.0757503509521484\n",
      "7 3.1629371643066406\n",
      "8 3.251924514770508\n",
      "9 3.3420658111572266\n",
      "10 3.432809829711914\n"
     ]
    }
   ],
   "source": [
    "# Node patching for L8.Att.14.16513\n",
    "with splice_model_with_saes_and_transcoders(model, transcoders, attn_saes) as spliced_model:\n",
    "    for value in range(11):\n",
    "        with model.hooks(fwd_hooks = [get_node_patch_hook(l8_att_node, value)]):\n",
    "            metric = metric_fn(model, clean_tokens).item()\n",
    "            print(value, metric)"
   ]
  },
  {
   "cell_type": "code",
   "execution_count": null,
   "metadata": {},
   "outputs": [
    {
     "name": "stdout",
     "output_type": "stream",
     "text": [
      "tensor([21.6992], device='cuda:0')\n",
      "tensor([0.], device='cuda:0')\n"
     ]
    }
   ],
   "source": [
    "l10_att_node_info = parse_node_name(l10_att_node)\n",
    "print(get_node_act(clean_cache, *l10_att_node_info))\n",
    "print(get_node_act(corrupt_cache, *l10_att_node_info))"
   ]
  },
  {
   "cell_type": "code",
   "execution_count": null,
   "metadata": {},
   "outputs": [
    {
     "name": "stdout",
     "output_type": "stream",
     "text": [
      "0 2.545804977416992\n",
      "1 2.5825119018554688\n",
      "2 2.619386672973633\n",
      "3 2.6564464569091797\n",
      "4 2.6936283111572266\n",
      "5 2.730976104736328\n",
      "6 2.768484115600586\n",
      "7 2.8061351776123047\n",
      "8 2.843921661376953\n",
      "9 2.8818435668945312\n",
      "10 2.9199295043945312\n"
     ]
    }
   ],
   "source": [
    "# Node patching for L10.Att.14.16513\n",
    "with splice_model_with_saes_and_transcoders(model, transcoders, attn_saes) as spliced_model:\n",
    "    for value in range(11):\n",
    "        with model.hooks(fwd_hooks = [get_node_patch_hook(l10_att_node, value)]):\n",
    "            metric = metric_fn(model, clean_tokens).item()\n",
    "            print(value, metric)"
   ]
  },
  {
   "cell_type": "code",
   "execution_count": null,
   "metadata": {},
   "outputs": [
    {
     "name": "stdout",
     "output_type": "stream",
     "text": [
      "10 2.9199295043945312\n",
      "Tokenized prompt: ['<|endoftext|>', 'When', ' John', ' and', ' Mary', ' went', ' to', ' the', ' shop', ',', ' John', ' gave', ' a', ' bottle', ' to']\n",
      "Tokenized answer: [' Mary']\n"
     ]
    },
    {
     "data": {
      "text/html": [
       "<pre style=\"white-space:pre;overflow-x:auto;line-height:normal;font-family:Menlo,'DejaVu Sans Mono',consolas,'Courier New',monospace\">Performance on answer token:\n",
       "<span style=\"font-weight: bold\">Rank: </span><span style=\"color: #008080; text-decoration-color: #008080; font-weight: bold\">0</span><span style=\"font-weight: bold\">        Logit: </span><span style=\"color: #008080; text-decoration-color: #008080; font-weight: bold\">17.84</span><span style=\"font-weight: bold\"> Prob: </span><span style=\"color: #008080; text-decoration-color: #008080; font-weight: bold\">63.98</span><span style=\"font-weight: bold\">% Token: | Mary|</span>\n",
       "</pre>\n"
      ],
      "text/plain": [
       "Performance on answer token:\n",
       "\u001b[1mRank: \u001b[0m\u001b[1;36m0\u001b[0m\u001b[1m        Logit: \u001b[0m\u001b[1;36m17.84\u001b[0m\u001b[1m Prob: \u001b[0m\u001b[1;36m63.98\u001b[0m\u001b[1m% Token: | Mary|\u001b[0m\n"
      ]
     },
     "metadata": {},
     "output_type": "display_data"
    },
    {
     "name": "stdout",
     "output_type": "stream",
     "text": [
      "Top 0th token. Logit: 17.84 Prob: 63.98% Token: | Mary|\n",
      "Top 1th token. Logit: 15.64 Prob:  7.10% Token: | them|\n",
      "Top 2th token. Logit: 15.51 Prob:  6.22% Token: | the|\n",
      "Top 3th token. Logit: 14.92 Prob:  3.46% Token: | his|\n",
      "Top 4th token. Logit: 14.92 Prob:  3.45% Token: | John|\n",
      "Top 5th token. Logit: 13.82 Prob:  1.15% Token: | their|\n",
      "Top 6th token. Logit: 13.76 Prob:  1.08% Token: | her|\n",
      "Top 7th token. Logit: 13.66 Prob:  0.98% Token: | a|\n",
      "Top 8th token. Logit: 13.18 Prob:  0.60% Token: | him|\n",
      "Top 9th token. Logit: 13.06 Prob:  0.54% Token: | Mrs|\n"
     ]
    },
    {
     "data": {
      "text/html": [
       "<pre style=\"white-space:pre;overflow-x:auto;line-height:normal;font-family:Menlo,'DejaVu Sans Mono',consolas,'Courier New',monospace\"><span style=\"font-weight: bold\">Ranks of the answer tokens:</span> <span style=\"font-weight: bold\">[(</span><span style=\"color: #008000; text-decoration-color: #008000\">' Mary'</span>, <span style=\"color: #008080; text-decoration-color: #008080; font-weight: bold\">0</span><span style=\"font-weight: bold\">)]</span>\n",
       "</pre>\n"
      ],
      "text/plain": [
       "\u001b[1mRanks of the answer tokens:\u001b[0m \u001b[1m[\u001b[0m\u001b[1m(\u001b[0m\u001b[32m' Mary'\u001b[0m, \u001b[1;36m0\u001b[0m\u001b[1m)\u001b[0m\u001b[1m]\u001b[0m\n"
      ]
     },
     "metadata": {},
     "output_type": "display_data"
    }
   ],
   "source": [
    "# Test prompt\n",
    "from transformer_lens.utils import test_prompt\n",
    "\n",
    "with splice_model_with_saes_and_transcoders(model, transcoders, attn_saes) as spliced_model:\n",
    "    with model.hooks(fwd_hooks = [get_node_patch_hook(l10_att_node, value)]):\n",
    "        metric = metric_fn(model, clean_tokens).item()\n",
    "        print(value, metric)\n",
    "        test_prompt(clean_text, answer, model)"
   ]
  },
  {
   "cell_type": "code",
   "execution_count": null,
   "metadata": {},
   "outputs": [],
   "source": [
    "from transformer_lens import ActivationCache\n",
    "from circuit_finder.core.types import Node, parse_node_name\n",
    "\n",
    "def get_edge_patch_hook(\n",
    "    clean_cache: ActivationCache,\n",
    "    corrupt_cache: ActivationCache,\n",
    "    src_module, # either HookedSAE or HookedTranscoder\n",
    "    src_node: Node,\n",
    "    dest_module, # either HookedSAE or HookedTranscoder\n",
    "    dest_node: Node,\n",
    "):\n",
    "    pass\n",
    "    \n"
   ]
  },
  {
   "cell_type": "markdown",
   "metadata": {},
   "source": [
    "First, let's try ablating one of the important edges and confirm that the metric goes down. "
   ]
  },
  {
   "cell_type": "markdown",
   "metadata": {},
   "source": [
    "# Appendi\n",
    "\n"
   ]
  },
  {
   "cell_type": "code",
   "execution_count": null,
   "metadata": {},
   "outputs": [],
   "source": [
    "# Jacob's code \n",
    "def ablation_hook(act, hook, id_to_ablate):\n",
    "    assert hook.name.endswith(\"hook_sae_acts_post\")\n",
    "    act[:, :, id_to_ablate] = 0\n",
    "    return act\n",
    "\n",
    "def patch_hook(act, hook, module, layer, feature_id, patch_pt, scale):\n",
    "    if module == \"mlp\":\n",
    "        decoder_col = mlp_transcoders[layer].W_dec[feature_id, :]\n",
    "    elif module == \"attn\":\n",
    "        decoder_col_concat = attn_saes[layer].W_dec[feature_id, :]\n",
    "        decoder_col = rearrange(\n",
    "            decoder_col_concat, \n",
    "            \"(n_heads d_head -> n_heads d_head)\",\n",
    "            n_heads=model.cfg.n_heads\n",
    "            )\n",
    "    return act + scale*decoder_col"
   ]
  }
 ],
 "metadata": {
  "kernelspec": {
   "display_name": ".venv",
   "language": "python",
   "name": "python3"
  },
  "language_info": {
   "codemirror_mode": {
    "name": "ipython",
    "version": 3
   },
   "file_extension": ".py",
   "mimetype": "text/x-python",
   "name": "python",
   "nbconvert_exporter": "python",
   "pygments_lexer": "ipython3",
   "version": "3.10.13"
  }
 },
 "nbformat": 4,
 "nbformat_minor": 2
}
