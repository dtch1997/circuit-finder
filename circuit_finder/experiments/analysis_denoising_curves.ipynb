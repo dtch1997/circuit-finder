{
 "cells": [
  {
   "cell_type": "code",
   "execution_count": 1,
   "metadata": {},
   "outputs": [],
   "source": [
    "%load_ext autoreload\n",
    "%autoreload 2"
   ]
  },
  {
   "cell_type": "code",
   "execution_count": 2,
   "metadata": {},
   "outputs": [],
   "source": [
    "import sys\n",
    "\n",
    "sys.path.append(\"/workspace/circuit-finder\")"
   ]
  },
  {
   "cell_type": "code",
   "execution_count": 3,
   "metadata": {},
   "outputs": [],
   "source": [
    "dataset_name = 'gender-bias'\n",
    "metric_fn_name = \"logit_diff\""
   ]
  },
  {
   "cell_type": "code",
   "execution_count": 4,
   "metadata": {},
   "outputs": [],
   "source": [
    "import pickle\n",
    "from circuit_finder.constants import ProjectDir\n",
    "from circuit_finder.experiments.run_leap_experiment import LeapExperimentResult\n",
    "\n",
    "with open(ProjectDir / 'leap_experiment_results' / f'dataset={dataset_name}_threshold=0.01' / 'result.pkl', 'rb') as file:\n",
    "    result = pickle.load(file)\n",
    "\n",
    "print(result)"
   ]
  },
  {
   "cell_type": "code",
   "execution_count": null,
   "metadata": {},
   "outputs": [
    {
     "name": "stderr",
     "output_type": "stream",
     "text": [
      "/workspace/circuit-finder/.venv/lib/python3.10/site-packages/huggingface_hub/file_download.py:1132: FutureWarning: `resume_download` is deprecated and will be removed in version 1.0.0. Downloads always resume when possible. If you want to force a new download, use `force_download=True`.\n",
      "  warnings.warn(\n"
     ]
    },
    {
     "name": "stdout",
     "output_type": "stream",
     "text": [
      "Loaded pretrained model gpt2 into HookedTransformer\n"
     ]
    },
    {
     "data": {
      "application/vnd.jupyter.widget-view+json": {
       "model_id": "3cf5a4d669f44c0a8a89e8ee53cea77c",
       "version_major": 2,
       "version_minor": 0
      },
      "text/plain": [
       "Fetching 26 files:   0%|          | 0/26 [00:00<?, ?it/s]"
      ]
     },
     "metadata": {},
     "output_type": "display_data"
    }
   ],
   "source": [
    "from circuit_finder.pretrained import load_model\n",
    "from circuit_finder.pretrained import load_attn_saes, load_hooked_mlp_transcoders\n",
    "from circuit_finder.patching.indirect_leap import preprocess_attn_saes\n",
    "\n",
    "model = load_model()\n",
    "attn_sae_dict = load_attn_saes()\n",
    "# TODO: get rid of need to preprocess attn saes\n",
    "attn_sae_dict = preprocess_attn_saes(attn_sae_dict, model)\n",
    "hooked_mlp_transcoder_dict = load_hooked_mlp_transcoders()\n",
    "\n",
    "attn_saes = list(attn_sae_dict.values())\n",
    "transcoders = list(hooked_mlp_transcoder_dict.values())"
   ]
  },
  {
   "cell_type": "code",
   "execution_count": null,
   "metadata": {},
   "outputs": [],
   "source": [
    "from circuit_finder.experiments.run_leap_experiment import datasets, compute_logit_diff\n",
    "\n",
    "dataset = datasets[dataset_name]\n",
    "\n",
    "# Setup the tokens\n",
    "clean_tokens = dataset.clean_tokens(model)\n",
    "answer_tokens = dataset.answer_tokens(model)\n",
    "wrong_answer_tokens = dataset.wrong_answer_tokens(model)\n",
    "corrupt_tokens = dataset.corrupt_tokens(model)\n",
    "\n",
    "# Setup the metric function\n",
    "if metric_fn_name == \"logit_diff\":\n",
    "\n",
    "    def metric_fn(model, tokens):\n",
    "        logit_diff = compute_logit_diff(\n",
    "            model, tokens, answer_tokens, wrong_answer_tokens\n",
    "        )\n",
    "        return logit_diff.mean()\n",
    "else:\n",
    "    raise ValueError(f\"Unknown metric_fn_name: {metric_fn_name}\")"
   ]
  },
  {
   "cell_type": "code",
   "execution_count": null,
   "metadata": {},
   "outputs": [],
   "source": [
    "graph = result.graph"
   ]
  },
  {
   "cell_type": "code",
   "execution_count": null,
   "metadata": {},
   "outputs": [
    {
     "name": "stdout",
     "output_type": "stream",
     "text": [
      "318\n"
     ]
    }
   ],
   "source": [
    "all_nodes = graph.get_src_nodes()\n",
    "all_nodes = [n for n in all_nodes if \"metric\" not in n]\n",
    "print(len(all_nodes))"
   ]
  },
  {
   "cell_type": "markdown",
   "metadata": {},
   "source": [
    "# Causal Ablations"
   ]
  },
  {
   "cell_type": "code",
   "execution_count": null,
   "metadata": {},
   "outputs": [],
   "source": [
    "# Get the clean and corrupt cache\n",
    "from circuit_finder.patching.ablate import (\n",
    "    splice_model_with_saes_and_transcoders,\n",
    "    filter_sae_acts_and_errors,\n",
    "    get_ablation_result,\n",
    ")\n",
    "\n",
    "with splice_model_with_saes_and_transcoders(\n",
    "    model, transcoders, attn_saes\n",
    ") as spliced_model:\n",
    "    _, clean_cache = model.run_with_cache(\n",
    "        clean_tokens, names_filter=filter_sae_acts_and_errors\n",
    "    )\n",
    "    _, corrupt_cache = model.run_with_cache(\n",
    "        corrupt_tokens, names_filter=filter_sae_acts_and_errors\n",
    "    )\n",
    "\n",
    "noising_result = get_ablation_result(\n",
    "    model,\n",
    "    transcoders,\n",
    "    attn_saes,\n",
    "    clean_tokens = clean_tokens,\n",
    "    corrupt_tokens = corrupt_tokens,\n",
    "    clean_cache = clean_cache,\n",
    "    corrupt_cache = corrupt_cache,\n",
    "    nodes = all_nodes,\n",
    "    metric_fn = metric_fn,\n",
    "    setting=\"noising\",\n",
    ")\n",
    "\n",
    "denoising_result = get_ablation_result(\n",
    "    model,\n",
    "    transcoders,\n",
    "    attn_saes,\n",
    "    clean_tokens = clean_tokens,\n",
    "    corrupt_tokens = corrupt_tokens,\n",
    "    clean_cache = clean_cache,\n",
    "    corrupt_cache = corrupt_cache,\n",
    "    nodes = all_nodes,\n",
    "    metric_fn = metric_fn,\n",
    "    setting=\"denoising\",\n",
    ")"
   ]
  },
  {
   "cell_type": "code",
   "execution_count": null,
   "metadata": {},
   "outputs": [
    {
     "name": "stdout",
     "output_type": "stream",
     "text": [
      "AblationResult(coefficient=[0.0, 0.1, 0.2, 0.30000000000000004, 0.4, 0.5, 0.6000000000000001, 0.7000000000000001, 0.8, 0.9, 1.0], metric=[0.12833690643310547, 0.2418346405029297, 0.3353729248046875, 0.4143943786621094, 0.4843025207519531, 0.5450305938720703, 0.5967884063720703, 0.6416769027709961, 0.681035041809082, 0.7168941497802734, 0.7484140396118164])\n",
      "AblationResult(coefficient=[1.0, 0.9, 0.8, 0.7, 0.6, 0.5, 0.3999999999999999, 0.29999999999999993, 0.19999999999999996, 0.09999999999999998, 0.0], metric=[-1.114640235900879, -1.2788000106811523, -1.451430320739746, -1.6302471160888672, -1.8153667449951172, -2.0058250427246094, -2.196417808532715, -2.385934829711914, -2.609673500061035, -2.832784652709961, -3.0455312728881836])\n"
     ]
    }
   ],
   "source": [
    "print(noising_result)\n",
    "print(denoising_result)"
   ]
  },
  {
   "cell_type": "code",
   "execution_count": null,
   "metadata": {},
   "outputs": [],
   "source": [
    "clean_metric = result.clean_metric\n",
    "corrupt_metric = result.corrupt_metric\n",
    "\n",
    "results = {\n",
    "    \"noising\": noising_result,\n",
    "    \"denoising\": denoising_result,\n",
    "}"
   ]
  },
  {
   "cell_type": "code",
   "execution_count": null,
   "metadata": {},
   "outputs": [
    {
     "data": {
      "text/plain": [
       "Text(0, 0.5, 'Metric')"
      ]
     },
     "execution_count": 20,
     "metadata": {},
     "output_type": "execute_result"
    },
    {
     "data": {
      "image/png": "[encoded data removed]",
      "text/plain": [
       "<Figure size 640x480 with 1 Axes>"
      ]
     },
     "metadata": {},
     "output_type": "display_data"
    }
   ],
   "source": [
    "# Plot the results\n",
    "\n",
    "import seaborn as sns\n",
    "import matplotlib.pyplot as plt\n",
    "\n",
    "sns.set_theme()\n",
    "for setting, res in results.items():\n",
    "    coefficients = res.coefficient\n",
    "    metrics = res.metric\n",
    "    sns.lineplot(x=coefficients, y=metrics, label=setting)\n",
    "    sns.scatterplot(x=coefficients, y=metrics)\n",
    "plt.legend()\n",
    "# Add text\n",
    "text_offset = -0.2\n",
    "plt.scatter([1], [clean_metric], color=\"green\")\n",
    "plt.text(1, clean_metric + text_offset, \"clean metric\", fontsize=12)\n",
    "plt.scatter([0], [corrupt_metric], color=\"red\")\n",
    "plt.text(0, corrupt_metric + text_offset, \"corrupt metric\", fontsize=12)\n",
    "\n",
    "plt.title(f\"Ablation plot | dataset={dataset_name} | n_nodes={len(all_nodes)}\")\n",
    "plt.xlabel(\"Linear interpolation coefficient\")\n",
    "plt.ylabel(\"Metric\")"
   ]
  }
 ],
 "metadata": {
  "kernelspec": {
   "display_name": ".venv",
   "language": "python",
   "name": "python3"
  },
  "language_info": {
   "codemirror_mode": {
    "name": "ipython",
    "version": 3
   },
   "file_extension": ".py",
   "mimetype": "text/x-python",
   "name": "python",
   "nbconvert_exporter": "python",
   "pygments_lexer": "ipython3",
   "version": "3.10.13"
  }
 },
 "nbformat": 4,
 "nbformat_minor": 2
}
