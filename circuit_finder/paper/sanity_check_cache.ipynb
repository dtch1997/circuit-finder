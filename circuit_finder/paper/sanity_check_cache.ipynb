{
 "cells": [
  {
   "cell_type": "code",
   "execution_count": 1,
   "metadata": {},
   "outputs": [],
   "source": [
    "import sys \n",
    "\n",
    "sys.path.append('/workspace/circuit-finder')"
   ]
  },
  {
   "cell_type": "code",
   "execution_count": 14,
   "metadata": {},
   "outputs": [
    {
     "name": "stdout",
     "output_type": "stream",
     "text": [
      "ActivationCache with keys ['blocks.0.attn.hook_z.hook_sae_acts_post', 'blocks.0.attn.hook_z.hook_sae_error', 'blocks.0.mlp.transcoder.hook_sae_acts_post', 'blocks.0.mlp.hook_sae_error', 'blocks.1.attn.hook_z.hook_sae_acts_post', 'blocks.1.attn.hook_z.hook_sae_error', 'blocks.1.mlp.transcoder.hook_sae_acts_post', 'blocks.1.mlp.hook_sae_error', 'blocks.2.attn.hook_z.hook_sae_acts_post', 'blocks.2.attn.hook_z.hook_sae_error', 'blocks.2.mlp.transcoder.hook_sae_acts_post', 'blocks.2.mlp.hook_sae_error', 'blocks.3.attn.hook_z.hook_sae_acts_post', 'blocks.3.attn.hook_z.hook_sae_error', 'blocks.3.mlp.transcoder.hook_sae_acts_post', 'blocks.3.mlp.hook_sae_error', 'blocks.4.attn.hook_z.hook_sae_acts_post', 'blocks.4.attn.hook_z.hook_sae_error', 'blocks.4.mlp.transcoder.hook_sae_acts_post', 'blocks.4.mlp.hook_sae_error', 'blocks.5.attn.hook_z.hook_sae_acts_post', 'blocks.5.attn.hook_z.hook_sae_error', 'blocks.5.mlp.transcoder.hook_sae_acts_post', 'blocks.5.mlp.hook_sae_error', 'blocks.6.attn.hook_z.hook_sae_acts_post', 'blocks.6.attn.hook_z.hook_sae_error', 'blocks.6.mlp.transcoder.hook_sae_acts_post', 'blocks.6.mlp.hook_sae_error', 'blocks.7.attn.hook_z.hook_sae_acts_post', 'blocks.7.attn.hook_z.hook_sae_error', 'blocks.7.mlp.transcoder.hook_sae_acts_post', 'blocks.7.mlp.hook_sae_error', 'blocks.8.attn.hook_z.hook_sae_acts_post', 'blocks.8.attn.hook_z.hook_sae_error', 'blocks.8.mlp.transcoder.hook_sae_acts_post', 'blocks.8.mlp.hook_sae_error', 'blocks.9.attn.hook_z.hook_sae_acts_post', 'blocks.9.attn.hook_z.hook_sae_error', 'blocks.9.mlp.transcoder.hook_sae_acts_post', 'blocks.9.mlp.hook_sae_error', 'blocks.10.attn.hook_z.hook_sae_acts_post', 'blocks.10.attn.hook_z.hook_sae_error', 'blocks.10.mlp.transcoder.hook_sae_acts_post', 'blocks.10.mlp.hook_sae_error', 'blocks.11.attn.hook_z.hook_sae_acts_post', 'blocks.11.attn.hook_z.hook_sae_error', 'blocks.11.mlp.transcoder.hook_sae_acts_post', 'blocks.11.mlp.hook_sae_error']\n"
     ]
    }
   ],
   "source": [
    "import pickle\n",
    "from transformer_lens import ActivationCache\n",
    "\n",
    "with open('/workspace/circuit-finder/data/ioi_BABA_template_0_prompts_tokenwise_acts.pkl', 'rb') as f:\n",
    "    activation_cache = pickle.load(f)\n",
    "\n",
    "print(activation_cache)"
   ]
  },
  {
   "cell_type": "code",
   "execution_count": 17,
   "metadata": {},
   "outputs": [
    {
     "name": "stdout",
     "output_type": "stream",
     "text": [
      "tensor([ 1.2935,  1.0926,  3.1771,  1.0842,  3.5158,  7.5727,  4.0285,  4.9174,\n",
      "         6.6458,  3.1476,  8.1474, 10.0912, 10.2845,  5.5904,  4.6047,  5.8016],\n",
      "       device='cuda:0')\n"
     ]
    }
   ],
   "source": [
    "# Layer 6, att-kk, pos 10, 17410 \n",
    "\n",
    "layer = 6\n",
    "# feature_idx = 17410\n",
    "\n",
    "# layer = 8\n",
    "# feature_idx = 16513\n",
    "\n",
    "hook_name = f\"blocks.{layer}.attn.hook_z.hook_sae_acts_post\"\n",
    "act = activation_cache[hook_name]\n",
    "\n",
    "print(act.sum(dim=-1))"
   ]
  }
 ],
 "metadata": {
  "kernelspec": {
   "display_name": ".venv",
   "language": "python",
   "name": "python3"
  },
  "language_info": {
   "codemirror_mode": {
    "name": "ipython",
    "version": 3
   },
   "file_extension": ".py",
   "mimetype": "text/x-python",
   "name": "python",
   "nbconvert_exporter": "python",
   "pygments_lexer": "ipython3",
   "version": "3.11.9"
  }
 },
 "nbformat": 4,
 "nbformat_minor": 2
}
