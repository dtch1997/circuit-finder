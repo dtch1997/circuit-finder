{
 "cells": [
  {
   "cell_type": "code",
   "execution_count": 1,
   "metadata": {},
   "outputs": [
    {
     "name": "stderr",
     "output_type": "stream",
     "text": [
      "/workspace/circuit-finder/.venv/lib/python3.10/site-packages/huggingface_hub/file_download.py:1132: FutureWarning: `resume_download` is deprecated and will be removed in version 1.0.0. Downloads always resume when possible. If you want to force a new download, use `force_download=True`.\n",
      "  warnings.warn(\n"
     ]
    },
    {
     "name": "stdout",
     "output_type": "stream",
     "text": [
      "Loaded pretrained model solu-1l into HookedTransformer\n"
     ]
    }
   ],
   "source": [
    "from transformer_lens import HookedSAE, HookedSAETransformer, HookedSAEConfig\n",
    "\n",
    "MODEL = \"solu-1l\"\n",
    "prompt = \"Hello World!\"\n",
    "\n",
    "model = HookedSAETransformer.from_pretrained(MODEL)\n",
    "\n",
    "\n",
    "def get_sae_config(model, act_name):\n",
    "    site_to_size = {\n",
    "        \"hook_z\": model.cfg.d_head * model.cfg.n_heads,\n",
    "        \"hook_mlp_out\": model.cfg.d_model,\n",
    "        \"hook_resid_pre\": model.cfg.d_model,\n",
    "        \"hook_post\": model.cfg.d_mlp,\n",
    "    }\n",
    "    site = act_name.split(\".\")[-1]\n",
    "    d_in = site_to_size[site]\n",
    "    return HookedSAEConfig(d_in=d_in, d_sae=d_in * 2, hook_name=act_name)\n",
    "\n",
    "\n",
    "sae = HookedSAE(get_sae_config(model, \"blocks.0.hook_resid_pre\"))\n",
    "model.add_sae(sae)"
   ]
  },
  {
   "cell_type": "code",
   "execution_count": 2,
   "metadata": {},
   "outputs": [],
   "source": []
  }
 ],
 "metadata": {
  "kernelspec": {
   "display_name": ".venv",
   "language": "python",
   "name": "python3"
  },
  "language_info": {
   "codemirror_mode": {
    "name": "ipython",
    "version": 3
   },
   "file_extension": ".py",
   "mimetype": "text/x-python",
   "name": "python",
   "nbconvert_exporter": "python",
   "pygments_lexer": "ipython3",
   "version": "3.10.13"
  }
 },
 "nbformat": 4,
 "nbformat_minor": 2
}
